{
  "nbformat": 4,
  "nbformat_minor": 0,
  "metadata": {
    "colab": {
      "name": "refunds.ipynb",
      "provenance": [],
      "authorship_tag": "ABX9TyNa1eDuEJyW6iK2FaM20Zei",
      "include_colab_link": true
    },
    "kernelspec": {
      "name": "python3",
      "display_name": "Python 3"
    },
    "language_info": {
      "name": "python"
    }
  },
  "cells": [
    {
      "cell_type": "markdown",
      "metadata": {
        "id": "view-in-github",
        "colab_type": "text"
      },
      "source": [
        "<a href=\"https://colab.research.google.com/github/strawndri/slaviero-suct-data-analysis/blob/main/Notebooks/refunds.ipynb\" target=\"_parent\"><img src=\"https://colab.research.google.com/assets/colab-badge.svg\" alt=\"Open In Colab\"/></a>"
      ]
    },
    {
      "cell_type": "markdown",
      "source": [
        "---\n",
        "# Estornos - Maio 2022\n",
        "---"
      ],
      "metadata": {
        "id": "vbJDexPpi6Xa"
      }
    },
    {
      "cell_type": "markdown",
      "source": [
        "## 1. Importações"
      ],
      "metadata": {
        "id": "ZdjUMfsfjiFd"
      }
    },
    {
      "cell_type": "markdown",
      "source": [
        "### 1.1 Bibliotecas"
      ],
      "metadata": {
        "id": "OemtuY4rk-M0"
      }
    },
    {
      "cell_type": "code",
      "execution_count": 1,
      "metadata": {
        "id": "eqJxHHA-ewj3",
        "colab": {
          "base_uri": "https://localhost:8080/"
        },
        "outputId": "af2b4c29-a630-4bf1-dad0-3b9f5d04ba26"
      },
      "outputs": [
        {
          "output_type": "stream",
          "name": "stdout",
          "text": [
            "Looking in indexes: https://pypi.org/simple, https://us-python.pkg.dev/colab-wheels/public/simple/\n",
            "Requirement already satisfied: seaborn in /usr/local/lib/python3.7/dist-packages (0.11.2)\n",
            "Requirement already satisfied: pandas>=0.23 in /usr/local/lib/python3.7/dist-packages (from seaborn) (1.3.5)\n",
            "Requirement already satisfied: numpy>=1.15 in /usr/local/lib/python3.7/dist-packages (from seaborn) (1.21.6)\n",
            "Requirement already satisfied: scipy>=1.0 in /usr/local/lib/python3.7/dist-packages (from seaborn) (1.4.1)\n",
            "Requirement already satisfied: matplotlib>=2.2 in /usr/local/lib/python3.7/dist-packages (from seaborn) (3.2.2)\n",
            "Requirement already satisfied: pyparsing!=2.0.4,!=2.1.2,!=2.1.6,>=2.0.1 in /usr/local/lib/python3.7/dist-packages (from matplotlib>=2.2->seaborn) (3.0.9)\n",
            "Requirement already satisfied: python-dateutil>=2.1 in /usr/local/lib/python3.7/dist-packages (from matplotlib>=2.2->seaborn) (2.8.2)\n",
            "Requirement already satisfied: kiwisolver>=1.0.1 in /usr/local/lib/python3.7/dist-packages (from matplotlib>=2.2->seaborn) (1.4.3)\n",
            "Requirement already satisfied: cycler>=0.10 in /usr/local/lib/python3.7/dist-packages (from matplotlib>=2.2->seaborn) (0.11.0)\n",
            "Requirement already satisfied: typing-extensions in /usr/local/lib/python3.7/dist-packages (from kiwisolver>=1.0.1->matplotlib>=2.2->seaborn) (4.1.1)\n",
            "Requirement already satisfied: pytz>=2017.3 in /usr/local/lib/python3.7/dist-packages (from pandas>=0.23->seaborn) (2022.1)\n",
            "Requirement already satisfied: six>=1.5 in /usr/local/lib/python3.7/dist-packages (from python-dateutil>=2.1->matplotlib>=2.2->seaborn) (1.15.0)\n"
          ]
        }
      ],
      "source": [
        "import pandas as pd\n",
        "import matplotlib.pyplot as plt\n",
        "\n",
        "!pip install seaborn\n",
        "import seaborn as sns"
      ]
    },
    {
      "cell_type": "markdown",
      "source": [
        "### 1.2 Bases de Dados"
      ],
      "metadata": {
        "id": "Pmoj2etSlHHx"
      }
    },
    {
      "cell_type": "code",
      "source": [
        "dataset = pd.read_csv('https://raw.githubusercontent.com/strawndri/slaviero-suct-data-analysis/main/Data/estornos-maio.csv')\n",
        "dataset.head()"
      ],
      "metadata": {
        "colab": {
          "base_uri": "https://localhost:8080/",
          "height": 206
        },
        "id": "GSOHcTxelEV4",
        "outputId": "61810c0b-1e94-4220-f056-118ca93f9628"
      },
      "execution_count": 2,
      "outputs": [
        {
          "output_type": "execute_result",
          "data": {
            "text/plain": [
              "      UH     Reserva             Descrição  Crédito  Débito   Valor  \\\n",
              "0  107.0  57429723.0                DIARIA  -293.00    0.00 -293.00   \n",
              "1  208.0  57825777.0  STONE - MASTERCARD D     0.00   32.25   32.25   \n",
              "2  510.0  57813205.0   DIFERENÇA DE DIARIA  -196.79    0.00 -196.79   \n",
              "3  502.0  57837422.0                DIARIA  -196.24    0.00 -196.24   \n",
              "4  510.0  57813205.0   DIFERENÇA DE DIARIA   -30.00    0.00  -30.00   \n",
              "\n",
              "         Data         Hora Usuário  Qtde.              Motivo  \n",
              "0  05/01/2022  10:04:21 AM  RFELIZ      1     ERRO DO SISTEMA  \n",
              "1  05/01/2022   1:48:40 AM  RFELIZ      1  ERRO DE LANÇAMENTO  \n",
              "2  05/01/2022  12:14:57 PM  RFELIZ      1  ERRO DE LANÇAMENTO  \n",
              "3  05/01/2022  11:24:00 PM  RFELIZ      1  ERRO DE LANÇAMENTO  \n",
              "4  05/01/2022  12:13:47 PM  RFELIZ      1  ERRO DE LANÇAMENTO  "
            ],
            "text/html": [
              "\n",
              "  <div id=\"df-c2edab32-bb2e-426d-be51-f24524ffab57\">\n",
              "    <div class=\"colab-df-container\">\n",
              "      <div>\n",
              "<style scoped>\n",
              "    .dataframe tbody tr th:only-of-type {\n",
              "        vertical-align: middle;\n",
              "    }\n",
              "\n",
              "    .dataframe tbody tr th {\n",
              "        vertical-align: top;\n",
              "    }\n",
              "\n",
              "    .dataframe thead th {\n",
              "        text-align: right;\n",
              "    }\n",
              "</style>\n",
              "<table border=\"1\" class=\"dataframe\">\n",
              "  <thead>\n",
              "    <tr style=\"text-align: right;\">\n",
              "      <th></th>\n",
              "      <th>UH</th>\n",
              "      <th>Reserva</th>\n",
              "      <th>Descrição</th>\n",
              "      <th>Crédito</th>\n",
              "      <th>Débito</th>\n",
              "      <th>Valor</th>\n",
              "      <th>Data</th>\n",
              "      <th>Hora</th>\n",
              "      <th>Usuário</th>\n",
              "      <th>Qtde.</th>\n",
              "      <th>Motivo</th>\n",
              "    </tr>\n",
              "  </thead>\n",
              "  <tbody>\n",
              "    <tr>\n",
              "      <th>0</th>\n",
              "      <td>107.0</td>\n",
              "      <td>57429723.0</td>\n",
              "      <td>DIARIA</td>\n",
              "      <td>-293.00</td>\n",
              "      <td>0.00</td>\n",
              "      <td>-293.00</td>\n",
              "      <td>05/01/2022</td>\n",
              "      <td>10:04:21 AM</td>\n",
              "      <td>RFELIZ</td>\n",
              "      <td>1</td>\n",
              "      <td>ERRO DO SISTEMA</td>\n",
              "    </tr>\n",
              "    <tr>\n",
              "      <th>1</th>\n",
              "      <td>208.0</td>\n",
              "      <td>57825777.0</td>\n",
              "      <td>STONE - MASTERCARD D</td>\n",
              "      <td>0.00</td>\n",
              "      <td>32.25</td>\n",
              "      <td>32.25</td>\n",
              "      <td>05/01/2022</td>\n",
              "      <td>1:48:40 AM</td>\n",
              "      <td>RFELIZ</td>\n",
              "      <td>1</td>\n",
              "      <td>ERRO DE LANÇAMENTO</td>\n",
              "    </tr>\n",
              "    <tr>\n",
              "      <th>2</th>\n",
              "      <td>510.0</td>\n",
              "      <td>57813205.0</td>\n",
              "      <td>DIFERENÇA DE DIARIA</td>\n",
              "      <td>-196.79</td>\n",
              "      <td>0.00</td>\n",
              "      <td>-196.79</td>\n",
              "      <td>05/01/2022</td>\n",
              "      <td>12:14:57 PM</td>\n",
              "      <td>RFELIZ</td>\n",
              "      <td>1</td>\n",
              "      <td>ERRO DE LANÇAMENTO</td>\n",
              "    </tr>\n",
              "    <tr>\n",
              "      <th>3</th>\n",
              "      <td>502.0</td>\n",
              "      <td>57837422.0</td>\n",
              "      <td>DIARIA</td>\n",
              "      <td>-196.24</td>\n",
              "      <td>0.00</td>\n",
              "      <td>-196.24</td>\n",
              "      <td>05/01/2022</td>\n",
              "      <td>11:24:00 PM</td>\n",
              "      <td>RFELIZ</td>\n",
              "      <td>1</td>\n",
              "      <td>ERRO DE LANÇAMENTO</td>\n",
              "    </tr>\n",
              "    <tr>\n",
              "      <th>4</th>\n",
              "      <td>510.0</td>\n",
              "      <td>57813205.0</td>\n",
              "      <td>DIFERENÇA DE DIARIA</td>\n",
              "      <td>-30.00</td>\n",
              "      <td>0.00</td>\n",
              "      <td>-30.00</td>\n",
              "      <td>05/01/2022</td>\n",
              "      <td>12:13:47 PM</td>\n",
              "      <td>RFELIZ</td>\n",
              "      <td>1</td>\n",
              "      <td>ERRO DE LANÇAMENTO</td>\n",
              "    </tr>\n",
              "  </tbody>\n",
              "</table>\n",
              "</div>\n",
              "      <button class=\"colab-df-convert\" onclick=\"convertToInteractive('df-c2edab32-bb2e-426d-be51-f24524ffab57')\"\n",
              "              title=\"Convert this dataframe to an interactive table.\"\n",
              "              style=\"display:none;\">\n",
              "        \n",
              "  <svg xmlns=\"http://www.w3.org/2000/svg\" height=\"24px\"viewBox=\"0 0 24 24\"\n",
              "       width=\"24px\">\n",
              "    <path d=\"M0 0h24v24H0V0z\" fill=\"none\"/>\n",
              "    <path d=\"M18.56 5.44l.94 2.06.94-2.06 2.06-.94-2.06-.94-.94-2.06-.94 2.06-2.06.94zm-11 1L8.5 8.5l.94-2.06 2.06-.94-2.06-.94L8.5 2.5l-.94 2.06-2.06.94zm10 10l.94 2.06.94-2.06 2.06-.94-2.06-.94-.94-2.06-.94 2.06-2.06.94z\"/><path d=\"M17.41 7.96l-1.37-1.37c-.4-.4-.92-.59-1.43-.59-.52 0-1.04.2-1.43.59L10.3 9.45l-7.72 7.72c-.78.78-.78 2.05 0 2.83L4 21.41c.39.39.9.59 1.41.59.51 0 1.02-.2 1.41-.59l7.78-7.78 2.81-2.81c.8-.78.8-2.07 0-2.86zM5.41 20L4 18.59l7.72-7.72 1.47 1.35L5.41 20z\"/>\n",
              "  </svg>\n",
              "      </button>\n",
              "      \n",
              "  <style>\n",
              "    .colab-df-container {\n",
              "      display:flex;\n",
              "      flex-wrap:wrap;\n",
              "      gap: 12px;\n",
              "    }\n",
              "\n",
              "    .colab-df-convert {\n",
              "      background-color: #E8F0FE;\n",
              "      border: none;\n",
              "      border-radius: 50%;\n",
              "      cursor: pointer;\n",
              "      display: none;\n",
              "      fill: #1967D2;\n",
              "      height: 32px;\n",
              "      padding: 0 0 0 0;\n",
              "      width: 32px;\n",
              "    }\n",
              "\n",
              "    .colab-df-convert:hover {\n",
              "      background-color: #E2EBFA;\n",
              "      box-shadow: 0px 1px 2px rgba(60, 64, 67, 0.3), 0px 1px 3px 1px rgba(60, 64, 67, 0.15);\n",
              "      fill: #174EA6;\n",
              "    }\n",
              "\n",
              "    [theme=dark] .colab-df-convert {\n",
              "      background-color: #3B4455;\n",
              "      fill: #D2E3FC;\n",
              "    }\n",
              "\n",
              "    [theme=dark] .colab-df-convert:hover {\n",
              "      background-color: #434B5C;\n",
              "      box-shadow: 0px 1px 3px 1px rgba(0, 0, 0, 0.15);\n",
              "      filter: drop-shadow(0px 1px 2px rgba(0, 0, 0, 0.3));\n",
              "      fill: #FFFFFF;\n",
              "    }\n",
              "  </style>\n",
              "\n",
              "      <script>\n",
              "        const buttonEl =\n",
              "          document.querySelector('#df-c2edab32-bb2e-426d-be51-f24524ffab57 button.colab-df-convert');\n",
              "        buttonEl.style.display =\n",
              "          google.colab.kernel.accessAllowed ? 'block' : 'none';\n",
              "\n",
              "        async function convertToInteractive(key) {\n",
              "          const element = document.querySelector('#df-c2edab32-bb2e-426d-be51-f24524ffab57');\n",
              "          const dataTable =\n",
              "            await google.colab.kernel.invokeFunction('convertToInteractive',\n",
              "                                                     [key], {});\n",
              "          if (!dataTable) return;\n",
              "\n",
              "          const docLinkHtml = 'Like what you see? Visit the ' +\n",
              "            '<a target=\"_blank\" href=https://colab.research.google.com/notebooks/data_table.ipynb>data table notebook</a>'\n",
              "            + ' to learn more about interactive tables.';\n",
              "          element.innerHTML = '';\n",
              "          dataTable['output_type'] = 'display_data';\n",
              "          await google.colab.output.renderOutput(dataTable, element);\n",
              "          const docLink = document.createElement('div');\n",
              "          docLink.innerHTML = docLinkHtml;\n",
              "          element.appendChild(docLink);\n",
              "        }\n",
              "      </script>\n",
              "    </div>\n",
              "  </div>\n",
              "  "
            ]
          },
          "metadata": {},
          "execution_count": 2
        }
      ]
    },
    {
      "cell_type": "markdown",
      "source": [
        "## 2. Tratamento de Dados"
      ],
      "metadata": {
        "id": "Rfu5PMtxquTJ"
      }
    },
    {
      "cell_type": "code",
      "source": [
        "dataset.info()"
      ],
      "metadata": {
        "id": "eg1qg4Brqwr2",
        "outputId": "a12512be-4fb3-4979-c2ca-ede56419267d",
        "colab": {
          "base_uri": "https://localhost:8080/"
        }
      },
      "execution_count": 3,
      "outputs": [
        {
          "output_type": "stream",
          "name": "stdout",
          "text": [
            "<class 'pandas.core.frame.DataFrame'>\n",
            "RangeIndex: 624 entries, 0 to 623\n",
            "Data columns (total 11 columns):\n",
            " #   Column     Non-Null Count  Dtype  \n",
            "---  ------     --------------  -----  \n",
            " 0   UH         584 non-null    float64\n",
            " 1   Reserva    592 non-null    float64\n",
            " 2   Descrição  624 non-null    object \n",
            " 3   Crédito    624 non-null    float64\n",
            " 4   Débito     624 non-null    float64\n",
            " 5   Valor      624 non-null    float64\n",
            " 6   Data       624 non-null    object \n",
            " 7   Hora       624 non-null    object \n",
            " 8   Usuário    624 non-null    object \n",
            " 9   Qtde.      624 non-null    int64  \n",
            " 10  Motivo     624 non-null    object \n",
            "dtypes: float64(5), int64(1), object(5)\n",
            "memory usage: 53.8+ KB\n"
          ]
        }
      ]
    },
    {
      "cell_type": "code",
      "source": [
        "# alterando os valores das colunas\n",
        "new_columns = {\n",
        "    'UH': 'UH',\t\n",
        "    'Reserva': 'reserva',\n",
        "    'Descrição': 'descricao',\n",
        "    'Crédito': 'credito',\n",
        "    'Débito': 'debito',\n",
        "    'Valor': 'valor',\n",
        "    'Data': 'data',\n",
        "    'Hora': 'hora',\n",
        "    'Usuário': 'usuario',\n",
        "    'Qtde.': 'quantidade',\n",
        "    'Motivo': 'motivo'\n",
        "}\n",
        "\n",
        "dataset.rename(columns = new_columns, inplace = True)"
      ],
      "metadata": {
        "id": "D8jid1i8q3bD"
      },
      "execution_count": 4,
      "outputs": []
    },
    {
      "cell_type": "code",
      "source": [
        "dataset.head()"
      ],
      "metadata": {
        "id": "AzucrtPvNvda",
        "outputId": "8e4f4686-6cec-460a-a048-c79d972ee317",
        "colab": {
          "base_uri": "https://localhost:8080/",
          "height": 206
        }
      },
      "execution_count": 5,
      "outputs": [
        {
          "output_type": "execute_result",
          "data": {
            "text/plain": [
              "      UH     reserva             descricao  credito  debito   valor  \\\n",
              "0  107.0  57429723.0                DIARIA  -293.00    0.00 -293.00   \n",
              "1  208.0  57825777.0  STONE - MASTERCARD D     0.00   32.25   32.25   \n",
              "2  510.0  57813205.0   DIFERENÇA DE DIARIA  -196.79    0.00 -196.79   \n",
              "3  502.0  57837422.0                DIARIA  -196.24    0.00 -196.24   \n",
              "4  510.0  57813205.0   DIFERENÇA DE DIARIA   -30.00    0.00  -30.00   \n",
              "\n",
              "         data         hora usuario  quantidade              motivo  \n",
              "0  05/01/2022  10:04:21 AM  RFELIZ           1     ERRO DO SISTEMA  \n",
              "1  05/01/2022   1:48:40 AM  RFELIZ           1  ERRO DE LANÇAMENTO  \n",
              "2  05/01/2022  12:14:57 PM  RFELIZ           1  ERRO DE LANÇAMENTO  \n",
              "3  05/01/2022  11:24:00 PM  RFELIZ           1  ERRO DE LANÇAMENTO  \n",
              "4  05/01/2022  12:13:47 PM  RFELIZ           1  ERRO DE LANÇAMENTO  "
            ],
            "text/html": [
              "\n",
              "  <div id=\"df-07b1c3e1-4e74-4a4e-a9b7-6aab5396b414\">\n",
              "    <div class=\"colab-df-container\">\n",
              "      <div>\n",
              "<style scoped>\n",
              "    .dataframe tbody tr th:only-of-type {\n",
              "        vertical-align: middle;\n",
              "    }\n",
              "\n",
              "    .dataframe tbody tr th {\n",
              "        vertical-align: top;\n",
              "    }\n",
              "\n",
              "    .dataframe thead th {\n",
              "        text-align: right;\n",
              "    }\n",
              "</style>\n",
              "<table border=\"1\" class=\"dataframe\">\n",
              "  <thead>\n",
              "    <tr style=\"text-align: right;\">\n",
              "      <th></th>\n",
              "      <th>UH</th>\n",
              "      <th>reserva</th>\n",
              "      <th>descricao</th>\n",
              "      <th>credito</th>\n",
              "      <th>debito</th>\n",
              "      <th>valor</th>\n",
              "      <th>data</th>\n",
              "      <th>hora</th>\n",
              "      <th>usuario</th>\n",
              "      <th>quantidade</th>\n",
              "      <th>motivo</th>\n",
              "    </tr>\n",
              "  </thead>\n",
              "  <tbody>\n",
              "    <tr>\n",
              "      <th>0</th>\n",
              "      <td>107.0</td>\n",
              "      <td>57429723.0</td>\n",
              "      <td>DIARIA</td>\n",
              "      <td>-293.00</td>\n",
              "      <td>0.00</td>\n",
              "      <td>-293.00</td>\n",
              "      <td>05/01/2022</td>\n",
              "      <td>10:04:21 AM</td>\n",
              "      <td>RFELIZ</td>\n",
              "      <td>1</td>\n",
              "      <td>ERRO DO SISTEMA</td>\n",
              "    </tr>\n",
              "    <tr>\n",
              "      <th>1</th>\n",
              "      <td>208.0</td>\n",
              "      <td>57825777.0</td>\n",
              "      <td>STONE - MASTERCARD D</td>\n",
              "      <td>0.00</td>\n",
              "      <td>32.25</td>\n",
              "      <td>32.25</td>\n",
              "      <td>05/01/2022</td>\n",
              "      <td>1:48:40 AM</td>\n",
              "      <td>RFELIZ</td>\n",
              "      <td>1</td>\n",
              "      <td>ERRO DE LANÇAMENTO</td>\n",
              "    </tr>\n",
              "    <tr>\n",
              "      <th>2</th>\n",
              "      <td>510.0</td>\n",
              "      <td>57813205.0</td>\n",
              "      <td>DIFERENÇA DE DIARIA</td>\n",
              "      <td>-196.79</td>\n",
              "      <td>0.00</td>\n",
              "      <td>-196.79</td>\n",
              "      <td>05/01/2022</td>\n",
              "      <td>12:14:57 PM</td>\n",
              "      <td>RFELIZ</td>\n",
              "      <td>1</td>\n",
              "      <td>ERRO DE LANÇAMENTO</td>\n",
              "    </tr>\n",
              "    <tr>\n",
              "      <th>3</th>\n",
              "      <td>502.0</td>\n",
              "      <td>57837422.0</td>\n",
              "      <td>DIARIA</td>\n",
              "      <td>-196.24</td>\n",
              "      <td>0.00</td>\n",
              "      <td>-196.24</td>\n",
              "      <td>05/01/2022</td>\n",
              "      <td>11:24:00 PM</td>\n",
              "      <td>RFELIZ</td>\n",
              "      <td>1</td>\n",
              "      <td>ERRO DE LANÇAMENTO</td>\n",
              "    </tr>\n",
              "    <tr>\n",
              "      <th>4</th>\n",
              "      <td>510.0</td>\n",
              "      <td>57813205.0</td>\n",
              "      <td>DIFERENÇA DE DIARIA</td>\n",
              "      <td>-30.00</td>\n",
              "      <td>0.00</td>\n",
              "      <td>-30.00</td>\n",
              "      <td>05/01/2022</td>\n",
              "      <td>12:13:47 PM</td>\n",
              "      <td>RFELIZ</td>\n",
              "      <td>1</td>\n",
              "      <td>ERRO DE LANÇAMENTO</td>\n",
              "    </tr>\n",
              "  </tbody>\n",
              "</table>\n",
              "</div>\n",
              "      <button class=\"colab-df-convert\" onclick=\"convertToInteractive('df-07b1c3e1-4e74-4a4e-a9b7-6aab5396b414')\"\n",
              "              title=\"Convert this dataframe to an interactive table.\"\n",
              "              style=\"display:none;\">\n",
              "        \n",
              "  <svg xmlns=\"http://www.w3.org/2000/svg\" height=\"24px\"viewBox=\"0 0 24 24\"\n",
              "       width=\"24px\">\n",
              "    <path d=\"M0 0h24v24H0V0z\" fill=\"none\"/>\n",
              "    <path d=\"M18.56 5.44l.94 2.06.94-2.06 2.06-.94-2.06-.94-.94-2.06-.94 2.06-2.06.94zm-11 1L8.5 8.5l.94-2.06 2.06-.94-2.06-.94L8.5 2.5l-.94 2.06-2.06.94zm10 10l.94 2.06.94-2.06 2.06-.94-2.06-.94-.94-2.06-.94 2.06-2.06.94z\"/><path d=\"M17.41 7.96l-1.37-1.37c-.4-.4-.92-.59-1.43-.59-.52 0-1.04.2-1.43.59L10.3 9.45l-7.72 7.72c-.78.78-.78 2.05 0 2.83L4 21.41c.39.39.9.59 1.41.59.51 0 1.02-.2 1.41-.59l7.78-7.78 2.81-2.81c.8-.78.8-2.07 0-2.86zM5.41 20L4 18.59l7.72-7.72 1.47 1.35L5.41 20z\"/>\n",
              "  </svg>\n",
              "      </button>\n",
              "      \n",
              "  <style>\n",
              "    .colab-df-container {\n",
              "      display:flex;\n",
              "      flex-wrap:wrap;\n",
              "      gap: 12px;\n",
              "    }\n",
              "\n",
              "    .colab-df-convert {\n",
              "      background-color: #E8F0FE;\n",
              "      border: none;\n",
              "      border-radius: 50%;\n",
              "      cursor: pointer;\n",
              "      display: none;\n",
              "      fill: #1967D2;\n",
              "      height: 32px;\n",
              "      padding: 0 0 0 0;\n",
              "      width: 32px;\n",
              "    }\n",
              "\n",
              "    .colab-df-convert:hover {\n",
              "      background-color: #E2EBFA;\n",
              "      box-shadow: 0px 1px 2px rgba(60, 64, 67, 0.3), 0px 1px 3px 1px rgba(60, 64, 67, 0.15);\n",
              "      fill: #174EA6;\n",
              "    }\n",
              "\n",
              "    [theme=dark] .colab-df-convert {\n",
              "      background-color: #3B4455;\n",
              "      fill: #D2E3FC;\n",
              "    }\n",
              "\n",
              "    [theme=dark] .colab-df-convert:hover {\n",
              "      background-color: #434B5C;\n",
              "      box-shadow: 0px 1px 3px 1px rgba(0, 0, 0, 0.15);\n",
              "      filter: drop-shadow(0px 1px 2px rgba(0, 0, 0, 0.3));\n",
              "      fill: #FFFFFF;\n",
              "    }\n",
              "  </style>\n",
              "\n",
              "      <script>\n",
              "        const buttonEl =\n",
              "          document.querySelector('#df-07b1c3e1-4e74-4a4e-a9b7-6aab5396b414 button.colab-df-convert');\n",
              "        buttonEl.style.display =\n",
              "          google.colab.kernel.accessAllowed ? 'block' : 'none';\n",
              "\n",
              "        async function convertToInteractive(key) {\n",
              "          const element = document.querySelector('#df-07b1c3e1-4e74-4a4e-a9b7-6aab5396b414');\n",
              "          const dataTable =\n",
              "            await google.colab.kernel.invokeFunction('convertToInteractive',\n",
              "                                                     [key], {});\n",
              "          if (!dataTable) return;\n",
              "\n",
              "          const docLinkHtml = 'Like what you see? Visit the ' +\n",
              "            '<a target=\"_blank\" href=https://colab.research.google.com/notebooks/data_table.ipynb>data table notebook</a>'\n",
              "            + ' to learn more about interactive tables.';\n",
              "          element.innerHTML = '';\n",
              "          dataTable['output_type'] = 'display_data';\n",
              "          await google.colab.output.renderOutput(dataTable, element);\n",
              "          const docLink = document.createElement('div');\n",
              "          docLink.innerHTML = docLinkHtml;\n",
              "          element.appendChild(docLink);\n",
              "        }\n",
              "      </script>\n",
              "    </div>\n",
              "  </div>\n",
              "  "
            ]
          },
          "metadata": {},
          "execution_count": 5
        }
      ]
    },
    {
      "cell_type": "markdown",
      "source": [
        "## 3. Funções utilizadas e variáveis"
      ],
      "metadata": {
        "id": "4cCiHxzdhUon"
      }
    },
    {
      "cell_type": "code",
      "source": [
        "palette = ['#0e6580']"
      ],
      "metadata": {
        "id": "foLFzQvFhX89"
      },
      "execution_count": 6,
      "outputs": []
    },
    {
      "cell_type": "code",
      "source": [
        "def plot_config():\n",
        "  sns.set_style('darkgrid')\n",
        "  plt.figure(figsize=(15, 5))"
      ],
      "metadata": {
        "id": "-o4mlvxal0M2"
      },
      "execution_count": 7,
      "outputs": []
    },
    {
      "cell_type": "code",
      "source": [
        "def set_barplot(x, y, data, xlabel, ylabel, title):\n",
        "\n",
        "  plot_config()\n",
        "  ax = sns.barplot(x=x, y=y, palette=palette, data=data)\n",
        "  ax.set_title(title, fontsize = 18)\n",
        "  ax.set_xlabel(xlabel, fontsize = 12)\n",
        "  ax.set_ylabel(ylabel, fontsize = 12)\n",
        "\n",
        "  ax"
      ],
      "metadata": {
        "id": "gy_3GdbOjKAE"
      },
      "execution_count": 8,
      "outputs": []
    },
    {
      "cell_type": "code",
      "source": [
        "def set_lineplot(x, y, xlabel, ylabel, title):\n",
        "  plot_config()\n",
        "  ax = sns.lineplot(x=x, y=y)\n",
        "  ax.set_title(title, fontsize = 18)\n",
        "  ax.set_xlabel(xlabel, fontsize = 12)\n",
        "  ax.set_ylabel(ylabel, fontsize = 12)\n",
        "\n",
        "  ax"
      ],
      "metadata": {
        "id": "mqoHbRGA7i8w"
      },
      "execution_count": 9,
      "outputs": []
    },
    {
      "cell_type": "markdown",
      "source": [
        "## 4. Análise de Dados"
      ],
      "metadata": {
        "id": "0vQv-DRIhd0r"
      }
    },
    {
      "cell_type": "markdown",
      "source": [
        "### 4.1 Quantidade de estornos por usuário"
      ],
      "metadata": {
        "id": "R_c5c64Rhg5m"
      }
    },
    {
      "cell_type": "code",
      "source": [
        "users_frequency = dataset.usuario.value_counts()\n",
        "users = dataset.usuario.unique()"
      ],
      "metadata": {
        "id": "nBwJMXaShoe1"
      },
      "execution_count": 10,
      "outputs": []
    },
    {
      "cell_type": "code",
      "source": [
        "graphic = set_barplot(users, users_frequency, dataset, \n",
        "                      'Usuários', 'Estornos', \n",
        "                      'Quantidade de estornos realizada por cada usuário')\n",
        "graphic"
      ],
      "metadata": {
        "id": "ihfa6x24iX6P",
        "outputId": "1776f460-3def-4237-dd8d-648b26d2193f",
        "colab": {
          "base_uri": "https://localhost:8080/",
          "height": 357
        }
      },
      "execution_count": 11,
      "outputs": [
        {
          "output_type": "display_data",
          "data": {
            "text/plain": [
              "<Figure size 1080x360 with 1 Axes>"
            ],
            "image/png": "[encoded data removed]"
          },
          "metadata": {}
        }
      ]
    },
    {
      "cell_type": "markdown",
      "source": [
        "### 4.2 Quantidade de estornos diários"
      ],
      "metadata": {
        "id": "2O__kP_P736M"
      }
    },
    {
      "cell_type": "code",
      "source": [
        "refunds_per_day = dataset.data.value_counts()\n",
        "days = dataset.data.unique()\n",
        "\n",
        "for i in range(0, len(days)):\n",
        "  days[i] = days[i][3:5]"
      ],
      "metadata": {
        "id": "QlsNwgSp7ZQl"
      },
      "execution_count": 12,
      "outputs": []
    },
    {
      "cell_type": "code",
      "source": [
        "set_lineplot(days, refunds_per_day, \"Dias\", 'Quantidade', 'Estornos por dia')"
      ],
      "metadata": {
        "id": "-zUQesE_8ME_",
        "outputId": "249444d9-ab90-4b4b-f0e2-285d790169aa",
        "colab": {
          "base_uri": "https://localhost:8080/",
          "height": 357
        }
      },
      "execution_count": 13,
      "outputs": [
        {
          "output_type": "display_data",
          "data": {
            "text/plain": [
              "<Figure size 1080x360 with 1 Axes>"
            ],
            "image/png": "[encoded data removed]"
          },
          "metadata": {}
        }
      ]
    },
    {
      "cell_type": "code",
      "source": [
        "dataset.head()"
      ],
      "metadata": {
        "colab": {
          "base_uri": "https://localhost:8080/",
          "height": 206
        },
        "id": "S8gHrZfr4oLn",
        "outputId": "a43e3774-cc2f-4d27-8fee-ae054cf641b1"
      },
      "execution_count": 14,
      "outputs": [
        {
          "output_type": "execute_result",
          "data": {
            "text/plain": [
              "      UH     reserva             descricao  credito  debito   valor  \\\n",
              "0  107.0  57429723.0                DIARIA  -293.00    0.00 -293.00   \n",
              "1  208.0  57825777.0  STONE - MASTERCARD D     0.00   32.25   32.25   \n",
              "2  510.0  57813205.0   DIFERENÇA DE DIARIA  -196.79    0.00 -196.79   \n",
              "3  502.0  57837422.0                DIARIA  -196.24    0.00 -196.24   \n",
              "4  510.0  57813205.0   DIFERENÇA DE DIARIA   -30.00    0.00  -30.00   \n",
              "\n",
              "         data         hora usuario  quantidade              motivo  \n",
              "0  05/01/2022  10:04:21 AM  RFELIZ           1     ERRO DO SISTEMA  \n",
              "1  05/01/2022   1:48:40 AM  RFELIZ           1  ERRO DE LANÇAMENTO  \n",
              "2  05/01/2022  12:14:57 PM  RFELIZ           1  ERRO DE LANÇAMENTO  \n",
              "3  05/01/2022  11:24:00 PM  RFELIZ           1  ERRO DE LANÇAMENTO  \n",
              "4  05/01/2022  12:13:47 PM  RFELIZ           1  ERRO DE LANÇAMENTO  "
            ],
            "text/html": [
              "\n",
              "  <div id=\"df-0a6620b7-1c87-4619-b47c-e0ef6e645d64\">\n",
              "    <div class=\"colab-df-container\">\n",
              "      <div>\n",
              "<style scoped>\n",
              "    .dataframe tbody tr th:only-of-type {\n",
              "        vertical-align: middle;\n",
              "    }\n",
              "\n",
              "    .dataframe tbody tr th {\n",
              "        vertical-align: top;\n",
              "    }\n",
              "\n",
              "    .dataframe thead th {\n",
              "        text-align: right;\n",
              "    }\n",
              "</style>\n",
              "<table border=\"1\" class=\"dataframe\">\n",
              "  <thead>\n",
              "    <tr style=\"text-align: right;\">\n",
              "      <th></th>\n",
              "      <th>UH</th>\n",
              "      <th>reserva</th>\n",
              "      <th>descricao</th>\n",
              "      <th>credito</th>\n",
              "      <th>debito</th>\n",
              "      <th>valor</th>\n",
              "      <th>data</th>\n",
              "      <th>hora</th>\n",
              "      <th>usuario</th>\n",
              "      <th>quantidade</th>\n",
              "      <th>motivo</th>\n",
              "    </tr>\n",
              "  </thead>\n",
              "  <tbody>\n",
              "    <tr>\n",
              "      <th>0</th>\n",
              "      <td>107.0</td>\n",
              "      <td>57429723.0</td>\n",
              "      <td>DIARIA</td>\n",
              "      <td>-293.00</td>\n",
              "      <td>0.00</td>\n",
              "      <td>-293.00</td>\n",
              "      <td>05/01/2022</td>\n",
              "      <td>10:04:21 AM</td>\n",
              "      <td>RFELIZ</td>\n",
              "      <td>1</td>\n",
              "      <td>ERRO DO SISTEMA</td>\n",
              "    </tr>\n",
              "    <tr>\n",
              "      <th>1</th>\n",
              "      <td>208.0</td>\n",
              "      <td>57825777.0</td>\n",
              "      <td>STONE - MASTERCARD D</td>\n",
              "      <td>0.00</td>\n",
              "      <td>32.25</td>\n",
              "      <td>32.25</td>\n",
              "      <td>05/01/2022</td>\n",
              "      <td>1:48:40 AM</td>\n",
              "      <td>RFELIZ</td>\n",
              "      <td>1</td>\n",
              "      <td>ERRO DE LANÇAMENTO</td>\n",
              "    </tr>\n",
              "    <tr>\n",
              "      <th>2</th>\n",
              "      <td>510.0</td>\n",
              "      <td>57813205.0</td>\n",
              "      <td>DIFERENÇA DE DIARIA</td>\n",
              "      <td>-196.79</td>\n",
              "      <td>0.00</td>\n",
              "      <td>-196.79</td>\n",
              "      <td>05/01/2022</td>\n",
              "      <td>12:14:57 PM</td>\n",
              "      <td>RFELIZ</td>\n",
              "      <td>1</td>\n",
              "      <td>ERRO DE LANÇAMENTO</td>\n",
              "    </tr>\n",
              "    <tr>\n",
              "      <th>3</th>\n",
              "      <td>502.0</td>\n",
              "      <td>57837422.0</td>\n",
              "      <td>DIARIA</td>\n",
              "      <td>-196.24</td>\n",
              "      <td>0.00</td>\n",
              "      <td>-196.24</td>\n",
              "      <td>05/01/2022</td>\n",
              "      <td>11:24:00 PM</td>\n",
              "      <td>RFELIZ</td>\n",
              "      <td>1</td>\n",
              "      <td>ERRO DE LANÇAMENTO</td>\n",
              "    </tr>\n",
              "    <tr>\n",
              "      <th>4</th>\n",
              "      <td>510.0</td>\n",
              "      <td>57813205.0</td>\n",
              "      <td>DIFERENÇA DE DIARIA</td>\n",
              "      <td>-30.00</td>\n",
              "      <td>0.00</td>\n",
              "      <td>-30.00</td>\n",
              "      <td>05/01/2022</td>\n",
              "      <td>12:13:47 PM</td>\n",
              "      <td>RFELIZ</td>\n",
              "      <td>1</td>\n",
              "      <td>ERRO DE LANÇAMENTO</td>\n",
              "    </tr>\n",
              "  </tbody>\n",
              "</table>\n",
              "</div>\n",
              "      <button class=\"colab-df-convert\" onclick=\"convertToInteractive('df-0a6620b7-1c87-4619-b47c-e0ef6e645d64')\"\n",
              "              title=\"Convert this dataframe to an interactive table.\"\n",
              "              style=\"display:none;\">\n",
              "        \n",
              "  <svg xmlns=\"http://www.w3.org/2000/svg\" height=\"24px\"viewBox=\"0 0 24 24\"\n",
              "       width=\"24px\">\n",
              "    <path d=\"M0 0h24v24H0V0z\" fill=\"none\"/>\n",
              "    <path d=\"M18.56 5.44l.94 2.06.94-2.06 2.06-.94-2.06-.94-.94-2.06-.94 2.06-2.06.94zm-11 1L8.5 8.5l.94-2.06 2.06-.94-2.06-.94L8.5 2.5l-.94 2.06-2.06.94zm10 10l.94 2.06.94-2.06 2.06-.94-2.06-.94-.94-2.06-.94 2.06-2.06.94z\"/><path d=\"M17.41 7.96l-1.37-1.37c-.4-.4-.92-.59-1.43-.59-.52 0-1.04.2-1.43.59L10.3 9.45l-7.72 7.72c-.78.78-.78 2.05 0 2.83L4 21.41c.39.39.9.59 1.41.59.51 0 1.02-.2 1.41-.59l7.78-7.78 2.81-2.81c.8-.78.8-2.07 0-2.86zM5.41 20L4 18.59l7.72-7.72 1.47 1.35L5.41 20z\"/>\n",
              "  </svg>\n",
              "      </button>\n",
              "      \n",
              "  <style>\n",
              "    .colab-df-container {\n",
              "      display:flex;\n",
              "      flex-wrap:wrap;\n",
              "      gap: 12px;\n",
              "    }\n",
              "\n",
              "    .colab-df-convert {\n",
              "      background-color: #E8F0FE;\n",
              "      border: none;\n",
              "      border-radius: 50%;\n",
              "      cursor: pointer;\n",
              "      display: none;\n",
              "      fill: #1967D2;\n",
              "      height: 32px;\n",
              "      padding: 0 0 0 0;\n",
              "      width: 32px;\n",
              "    }\n",
              "\n",
              "    .colab-df-convert:hover {\n",
              "      background-color: #E2EBFA;\n",
              "      box-shadow: 0px 1px 2px rgba(60, 64, 67, 0.3), 0px 1px 3px 1px rgba(60, 64, 67, 0.15);\n",
              "      fill: #174EA6;\n",
              "    }\n",
              "\n",
              "    [theme=dark] .colab-df-convert {\n",
              "      background-color: #3B4455;\n",
              "      fill: #D2E3FC;\n",
              "    }\n",
              "\n",
              "    [theme=dark] .colab-df-convert:hover {\n",
              "      background-color: #434B5C;\n",
              "      box-shadow: 0px 1px 3px 1px rgba(0, 0, 0, 0.15);\n",
              "      filter: drop-shadow(0px 1px 2px rgba(0, 0, 0, 0.3));\n",
              "      fill: #FFFFFF;\n",
              "    }\n",
              "  </style>\n",
              "\n",
              "      <script>\n",
              "        const buttonEl =\n",
              "          document.querySelector('#df-0a6620b7-1c87-4619-b47c-e0ef6e645d64 button.colab-df-convert');\n",
              "        buttonEl.style.display =\n",
              "          google.colab.kernel.accessAllowed ? 'block' : 'none';\n",
              "\n",
              "        async function convertToInteractive(key) {\n",
              "          const element = document.querySelector('#df-0a6620b7-1c87-4619-b47c-e0ef6e645d64');\n",
              "          const dataTable =\n",
              "            await google.colab.kernel.invokeFunction('convertToInteractive',\n",
              "                                                     [key], {});\n",
              "          if (!dataTable) return;\n",
              "\n",
              "          const docLinkHtml = 'Like what you see? Visit the ' +\n",
              "            '<a target=\"_blank\" href=https://colab.research.google.com/notebooks/data_table.ipynb>data table notebook</a>'\n",
              "            + ' to learn more about interactive tables.';\n",
              "          element.innerHTML = '';\n",
              "          dataTable['output_type'] = 'display_data';\n",
              "          await google.colab.output.renderOutput(dataTable, element);\n",
              "          const docLink = document.createElement('div');\n",
              "          docLink.innerHTML = docLinkHtml;\n",
              "          element.appendChild(docLink);\n",
              "        }\n",
              "      </script>\n",
              "    </div>\n",
              "  </div>\n",
              "  "
            ]
          },
          "metadata": {},
          "execution_count": 14
        }
      ]
    },
    {
      "cell_type": "markdown",
      "source": [
        "### 4.3 Quantidade de estornos realizada por cada usuário (classificação)"
      ],
      "metadata": {
        "id": "EaBnPWQQ-CoV"
      }
    },
    {
      "cell_type": "code",
      "source": [
        "frequencia = pd.crosstab(dataset['usuario'], dataset['motivo'])\n",
        "frequencia"
      ],
      "metadata": {
        "colab": {
          "base_uri": "https://localhost:8080/",
          "height": 393
        },
        "id": "PLoLYOu34Jkg",
        "outputId": "4636d419-a553-4b3d-acb4-668cbe410bce"
      },
      "execution_count": 32,
      "outputs": [
        {
          "output_type": "execute_result",
          "data": {
            "text/plain": [
              "motivo        AUTORIZADO PELO GERENT  CORTESIA DE DIÁRIAS  ERRO DE LANÇAMENTO  \\\n",
              "usuario                                                                         \n",
              "ANLGONCALVES                       0                    0                  21   \n",
              "CALOLIVEIRA                      109                    0                   2   \n",
              "CFIOR                              0                    0                  23   \n",
              "ECSOUSA                            4                    2                  34   \n",
              "IGPESSOA                           9                    0                  25   \n",
              "LPADOVINO                          8                    0                  28   \n",
              "RFELIZ                             1                   11                  99   \n",
              "RFREITAS                           0                    0                  58   \n",
              "\n",
              "motivo        ERRO DO SISTEMA  ERRO NA IMPRESSÃO  Erro de Laçto  \\\n",
              "usuario                                                           \n",
              "ANLGONCALVES                0                  0              0   \n",
              "CALOLIVEIRA                 2                  0             11   \n",
              "CFIOR                       2                  0              1   \n",
              "ECSOUSA                     6                  0              3   \n",
              "IGPESSOA                    1                  0              7   \n",
              "LPADOVINO                   0                  0             11   \n",
              "RFELIZ                     21                  0             11   \n",
              "RFREITAS                    9                  1              6   \n",
              "\n",
              "motivo        HOSPEDE NÃO CONSUMIU  LCTO EM DUPLICIDADE  VALOR DIARA INCORRETO  \n",
              "usuario                                                                         \n",
              "ANLGONCALVES                     0                    0                      0  \n",
              "CALOLIVEIRA                      3                    0                      0  \n",
              "CFIOR                            4                    0                      0  \n",
              "ECSOUSA                         14                    0                      2  \n",
              "IGPESSOA                         9                    0                      0  \n",
              "LPADOVINO                       10                    0                      0  \n",
              "RFELIZ                          21                    9                      0  \n",
              "RFREITAS                         5                   21                      0  "
            ],
            "text/html": [
              "\n",
              "  <div id=\"df-0e4cbbaf-33a1-452b-abdc-f1acc244ef21\">\n",
              "    <div class=\"colab-df-container\">\n",
              "      <div>\n",
              "<style scoped>\n",
              "    .dataframe tbody tr th:only-of-type {\n",
              "        vertical-align: middle;\n",
              "    }\n",
              "\n",
              "    .dataframe tbody tr th {\n",
              "        vertical-align: top;\n",
              "    }\n",
              "\n",
              "    .dataframe thead th {\n",
              "        text-align: right;\n",
              "    }\n",
              "</style>\n",
              "<table border=\"1\" class=\"dataframe\">\n",
              "  <thead>\n",
              "    <tr style=\"text-align: right;\">\n",
              "      <th>motivo</th>\n",
              "      <th>AUTORIZADO PELO GERENT</th>\n",
              "      <th>CORTESIA DE DIÁRIAS</th>\n",
              "      <th>ERRO DE LANÇAMENTO</th>\n",
              "      <th>ERRO DO SISTEMA</th>\n",
              "      <th>ERRO NA IMPRESSÃO</th>\n",
              "      <th>Erro de Laçto</th>\n",
              "      <th>HOSPEDE NÃO CONSUMIU</th>\n",
              "      <th>LCTO EM DUPLICIDADE</th>\n",
              "      <th>VALOR DIARA INCORRETO</th>\n",
              "    </tr>\n",
              "    <tr>\n",
              "      <th>usuario</th>\n",
              "      <th></th>\n",
              "      <th></th>\n",
              "      <th></th>\n",
              "      <th></th>\n",
              "      <th></th>\n",
              "      <th></th>\n",
              "      <th></th>\n",
              "      <th></th>\n",
              "      <th></th>\n",
              "    </tr>\n",
              "  </thead>\n",
              "  <tbody>\n",
              "    <tr>\n",
              "      <th>ANLGONCALVES</th>\n",
              "      <td>0</td>\n",
              "      <td>0</td>\n",
              "      <td>21</td>\n",
              "      <td>0</td>\n",
              "      <td>0</td>\n",
              "      <td>0</td>\n",
              "      <td>0</td>\n",
              "      <td>0</td>\n",
              "      <td>0</td>\n",
              "    </tr>\n",
              "    <tr>\n",
              "      <th>CALOLIVEIRA</th>\n",
              "      <td>109</td>\n",
              "      <td>0</td>\n",
              "      <td>2</td>\n",
              "      <td>2</td>\n",
              "      <td>0</td>\n",
              "      <td>11</td>\n",
              "      <td>3</td>\n",
              "      <td>0</td>\n",
              "      <td>0</td>\n",
              "    </tr>\n",
              "    <tr>\n",
              "      <th>CFIOR</th>\n",
              "      <td>0</td>\n",
              "      <td>0</td>\n",
              "      <td>23</td>\n",
              "      <td>2</td>\n",
              "      <td>0</td>\n",
              "      <td>1</td>\n",
              "      <td>4</td>\n",
              "      <td>0</td>\n",
              "      <td>0</td>\n",
              "    </tr>\n",
              "    <tr>\n",
              "      <th>ECSOUSA</th>\n",
              "      <td>4</td>\n",
              "      <td>2</td>\n",
              "      <td>34</td>\n",
              "      <td>6</td>\n",
              "      <td>0</td>\n",
              "      <td>3</td>\n",
              "      <td>14</td>\n",
              "      <td>0</td>\n",
              "      <td>2</td>\n",
              "    </tr>\n",
              "    <tr>\n",
              "      <th>IGPESSOA</th>\n",
              "      <td>9</td>\n",
              "      <td>0</td>\n",
              "      <td>25</td>\n",
              "      <td>1</td>\n",
              "      <td>0</td>\n",
              "      <td>7</td>\n",
              "      <td>9</td>\n",
              "      <td>0</td>\n",
              "      <td>0</td>\n",
              "    </tr>\n",
              "    <tr>\n",
              "      <th>LPADOVINO</th>\n",
              "      <td>8</td>\n",
              "      <td>0</td>\n",
              "      <td>28</td>\n",
              "      <td>0</td>\n",
              "      <td>0</td>\n",
              "      <td>11</td>\n",
              "      <td>10</td>\n",
              "      <td>0</td>\n",
              "      <td>0</td>\n",
              "    </tr>\n",
              "    <tr>\n",
              "      <th>RFELIZ</th>\n",
              "      <td>1</td>\n",
              "      <td>11</td>\n",
              "      <td>99</td>\n",
              "      <td>21</td>\n",
              "      <td>0</td>\n",
              "      <td>11</td>\n",
              "      <td>21</td>\n",
              "      <td>9</td>\n",
              "      <td>0</td>\n",
              "    </tr>\n",
              "    <tr>\n",
              "      <th>RFREITAS</th>\n",
              "      <td>0</td>\n",
              "      <td>0</td>\n",
              "      <td>58</td>\n",
              "      <td>9</td>\n",
              "      <td>1</td>\n",
              "      <td>6</td>\n",
              "      <td>5</td>\n",
              "      <td>21</td>\n",
              "      <td>0</td>\n",
              "    </tr>\n",
              "  </tbody>\n",
              "</table>\n",
              "</div>\n",
              "      <button class=\"colab-df-convert\" onclick=\"convertToInteractive('df-0e4cbbaf-33a1-452b-abdc-f1acc244ef21')\"\n",
              "              title=\"Convert this dataframe to an interactive table.\"\n",
              "              style=\"display:none;\">\n",
              "        \n",
              "  <svg xmlns=\"http://www.w3.org/2000/svg\" height=\"24px\"viewBox=\"0 0 24 24\"\n",
              "       width=\"24px\">\n",
              "    <path d=\"M0 0h24v24H0V0z\" fill=\"none\"/>\n",
              "    <path d=\"M18.56 5.44l.94 2.06.94-2.06 2.06-.94-2.06-.94-.94-2.06-.94 2.06-2.06.94zm-11 1L8.5 8.5l.94-2.06 2.06-.94-2.06-.94L8.5 2.5l-.94 2.06-2.06.94zm10 10l.94 2.06.94-2.06 2.06-.94-2.06-.94-.94-2.06-.94 2.06-2.06.94z\"/><path d=\"M17.41 7.96l-1.37-1.37c-.4-.4-.92-.59-1.43-.59-.52 0-1.04.2-1.43.59L10.3 9.45l-7.72 7.72c-.78.78-.78 2.05 0 2.83L4 21.41c.39.39.9.59 1.41.59.51 0 1.02-.2 1.41-.59l7.78-7.78 2.81-2.81c.8-.78.8-2.07 0-2.86zM5.41 20L4 18.59l7.72-7.72 1.47 1.35L5.41 20z\"/>\n",
              "  </svg>\n",
              "      </button>\n",
              "      \n",
              "  <style>\n",
              "    .colab-df-container {\n",
              "      display:flex;\n",
              "      flex-wrap:wrap;\n",
              "      gap: 12px;\n",
              "    }\n",
              "\n",
              "    .colab-df-convert {\n",
              "      background-color: #E8F0FE;\n",
              "      border: none;\n",
              "      border-radius: 50%;\n",
              "      cursor: pointer;\n",
              "      display: none;\n",
              "      fill: #1967D2;\n",
              "      height: 32px;\n",
              "      padding: 0 0 0 0;\n",
              "      width: 32px;\n",
              "    }\n",
              "\n",
              "    .colab-df-convert:hover {\n",
              "      background-color: #E2EBFA;\n",
              "      box-shadow: 0px 1px 2px rgba(60, 64, 67, 0.3), 0px 1px 3px 1px rgba(60, 64, 67, 0.15);\n",
              "      fill: #174EA6;\n",
              "    }\n",
              "\n",
              "    [theme=dark] .colab-df-convert {\n",
              "      background-color: #3B4455;\n",
              "      fill: #D2E3FC;\n",
              "    }\n",
              "\n",
              "    [theme=dark] .colab-df-convert:hover {\n",
              "      background-color: #434B5C;\n",
              "      box-shadow: 0px 1px 3px 1px rgba(0, 0, 0, 0.15);\n",
              "      filter: drop-shadow(0px 1px 2px rgba(0, 0, 0, 0.3));\n",
              "      fill: #FFFFFF;\n",
              "    }\n",
              "  </style>\n",
              "\n",
              "      <script>\n",
              "        const buttonEl =\n",
              "          document.querySelector('#df-0e4cbbaf-33a1-452b-abdc-f1acc244ef21 button.colab-df-convert');\n",
              "        buttonEl.style.display =\n",
              "          google.colab.kernel.accessAllowed ? 'block' : 'none';\n",
              "\n",
              "        async function convertToInteractive(key) {\n",
              "          const element = document.querySelector('#df-0e4cbbaf-33a1-452b-abdc-f1acc244ef21');\n",
              "          const dataTable =\n",
              "            await google.colab.kernel.invokeFunction('convertToInteractive',\n",
              "                                                     [key], {});\n",
              "          if (!dataTable) return;\n",
              "\n",
              "          const docLinkHtml = 'Like what you see? Visit the ' +\n",
              "            '<a target=\"_blank\" href=https://colab.research.google.com/notebooks/data_table.ipynb>data table notebook</a>'\n",
              "            + ' to learn more about interactive tables.';\n",
              "          element.innerHTML = '';\n",
              "          dataTable['output_type'] = 'display_data';\n",
              "          await google.colab.output.renderOutput(dataTable, element);\n",
              "          const docLink = document.createElement('div');\n",
              "          docLink.innerHTML = docLinkHtml;\n",
              "          element.appendChild(docLink);\n",
              "        }\n",
              "      </script>\n",
              "    </div>\n",
              "  </div>\n",
              "  "
            ]
          },
          "metadata": {},
          "execution_count": 32
        }
      ]
    },
    {
      "cell_type": "markdown",
      "source": [
        "### 4.4 Valor total de estornos por dia"
      ],
      "metadata": {
        "id": "dKp4IOeo-N53"
      }
    },
    {
      "cell_type": "code",
      "source": [
        "valor_por_dia = dataset.groupby(['data'])['valor'].sum()"
      ],
      "metadata": {
        "id": "y6AW7f4ZCkI9"
      },
      "execution_count": 79,
      "outputs": []
    },
    {
      "cell_type": "code",
      "source": [
        "for i in range(0, len(valor_por_dia)):\n",
        "  if valor_por_dia[i] <= 0:\n",
        "    valor_por_dia[i] *= -1"
      ],
      "metadata": {
        "id": "mscAxy9LCbX9"
      },
      "execution_count": 82,
      "outputs": []
    },
    {
      "cell_type": "code",
      "source": [
        "set_lineplot(days, valor_por_dia, \"Dias\", 'Valor (R$)', 'Valor, em reais, de estornos por dia')"
      ],
      "metadata": {
        "id": "kxrtuzCnAaXF",
        "outputId": "f315a9b8-7f36-4242-9733-eb8ced36962a",
        "colab": {
          "base_uri": "https://localhost:8080/",
          "height": 357
        }
      },
      "execution_count": 81,
      "outputs": [
        {
          "output_type": "display_data",
          "data": {
            "text/plain": [
              "<Figure size 1080x360 with 1 Axes>"
            ],
            "image/png": "[encoded data removed]"
          },
          "metadata": {}
        }
      ]
    }
  ]
}