{
  "nbformat": 4,
  "nbformat_minor": 0,
  "metadata": {
    "colab": {
      "name": "faturamento.ipynb",
      "provenance": [],
      "authorship_tag": "ABX9TyMPUkU8gBcpXbQz/75faaWh",
      "include_colab_link": true
    },
    "kernelspec": {
      "name": "python3",
      "display_name": "Python 3"
    },
    "language_info": {
      "name": "python"
    }
  },
  "cells": [
    {
      "cell_type": "markdown",
      "metadata": {
        "id": "view-in-github",
        "colab_type": "text"
      },
      "source": [
        "<a href=\"https://colab.research.google.com/github/strawndri/slaviero-suct-data-analysis/blob/main/Notebooks/faturamento.ipynb\" target=\"_parent\"><img src=\"https://colab.research.google.com/assets/colab-badge.svg\" alt=\"Open In Colab\"/></a>"
      ]
    },
    {
      "cell_type": "markdown",
      "source": [
        "---\n",
        "---\n",
        "<font size=\"20\"> Análise de Dados: Faturamento </font>\n",
        "\n",
        "---\n",
        "---"
      ],
      "metadata": {
        "id": "cO2OXvQNLRLZ"
      }
    },
    {
      "cell_type": "markdown",
      "source": [
        "# 1. *Importações*\n",
        "---"
      ],
      "metadata": {
        "id": "Kbidn3ehLh5I"
      }
    },
    {
      "cell_type": "markdown",
      "source": [
        "## 1.1 Bibliotecas"
      ],
      "metadata": {
        "id": "76vqQ-d6Lma3"
      }
    },
    {
      "cell_type": "code",
      "source": [
        ""
      ],
      "metadata": {
        "id": "HK4ran4OLQpK"
      },
      "execution_count": null,
      "outputs": []
    },
    {
      "cell_type": "markdown",
      "source": [
        "## 1.2 Bases de dados"
      ],
      "metadata": {
        "id": "sUd3V_vtL6WH"
      }
    },
    {
      "cell_type": "code",
      "execution_count": null,
      "metadata": {
        "id": "UxzR1BZuJsCQ"
      },
      "outputs": [],
      "source": [
        ""
      ]
    },
    {
      "cell_type": "markdown",
      "source": [
        "# 2. Tratamento de Dados\n",
        "---"
      ],
      "metadata": {
        "id": "NiHNApNvMK_W"
      }
    },
    {
      "cell_type": "code",
      "source": [
        ""
      ],
      "metadata": {
        "id": "iFzNFZ64MN8R"
      },
      "execution_count": null,
      "outputs": []
    },
    {
      "cell_type": "markdown",
      "source": [
        "# 3. Funções\n",
        "---"
      ],
      "metadata": {
        "id": "l8hy6lXRMQLV"
      }
    },
    {
      "cell_type": "code",
      "source": [
        ""
      ],
      "metadata": {
        "id": "S9MPSptvMWpI"
      },
      "execution_count": null,
      "outputs": []
    },
    {
      "cell_type": "markdown",
      "source": [
        "# 4. Análise de Dados\n",
        "---"
      ],
      "metadata": {
        "id": "_BgQffuzMXNV"
      }
    },
    {
      "cell_type": "code",
      "source": [
        ""
      ],
      "metadata": {
        "id": "ABA3ic9JMaD4"
      },
      "execution_count": null,
      "outputs": []
    }
  ]
}