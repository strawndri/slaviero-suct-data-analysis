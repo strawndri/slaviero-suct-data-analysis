{
  "nbformat": 4,
  "nbformat_minor": 0,
  "metadata": {
    "colab": {
      "name": "refunds.ipynb",
      "provenance": []
    },
    "kernelspec": {
      "name": "python3",
      "display_name": "Python 3"
    },
    "language_info": {
      "name": "python"
    }
  },
  "cells": [
    {
      "cell_type": "markdown",
      "source": [
        "---\n",
        "<font size=20> Análise de Dados: Estornos </font>\n",
        "\n",
        "---\n",
        "\n",
        "\n"
      ],
      "metadata": {
        "id": "vbJDexPpi6Xa"
      }
    },
    {
      "cell_type": "markdown",
      "source": [
        "Notebook para analisar os estornos mensais do hotel Slaviero Essential Curitiba Shopping. As variáveis em análise são:\n",
        "\n",
        "* **Valor**: valor, em reais, do que foi estornado (crédito ou débito);\n",
        "* **Data**: período dia/mês/ano em que o estorno foi realizado;\n",
        "* **Hora**: em qual horário do dia o estorno foi realizado. Utiliza-se o padrão de 12 horas;\n",
        "* **Usuário**: qual funcionário do SUCT realizou o estorno;\n",
        "* **Motivo**: jusiticativa do estorno.\n"
      ],
      "metadata": {
        "id": "B99nACGggjg0"
      }
    },
    {
      "cell_type": "markdown",
      "source": [
        "# 1. Importações\n",
        "\n",
        "\n",
        "---\n",
        "\n"
      ],
      "metadata": {
        "id": "ZdjUMfsfjiFd"
      }
    },
    {
      "cell_type": "markdown",
      "source": [
        "## 1.1 Bibliotecas\n",
        "\n",
        "- Pandas: https://pandas.pydata.org/docs/user_guide/index.html#user-guide\n",
        "- Matplotlib: https://matplotlib.org/stable/index.html\n",
        "- Seaborn: https://seaborn.pydata.org/"
      ],
      "metadata": {
        "id": "OemtuY4rk-M0"
      }
    },
    {
      "cell_type": "code",
      "source": [
        "import pandas as pd"
      ],
      "metadata": {
        "id": "S4mig2dCgTol"
      },
      "execution_count": 1,
      "outputs": []
    },
    {
      "cell_type": "code",
      "source": [
        "import matplotlib.pyplot as plt"
      ],
      "metadata": {
        "id": "yykF9NASgark"
      },
      "execution_count": 2,
      "outputs": []
    },
    {
      "cell_type": "code",
      "execution_count": 3,
      "metadata": {
        "id": "eqJxHHA-ewj3",
        "outputId": "69ad646d-7963-4ec6-c57f-d29ae6973265",
        "colab": {
          "base_uri": "https://localhost:8080/"
        }
      },
      "outputs": [
        {
          "output_type": "stream",
          "name": "stdout",
          "text": [
            "Looking in indexes: https://pypi.org/simple, https://us-python.pkg.dev/colab-wheels/public/simple/\n",
            "Requirement already satisfied: seaborn in /usr/local/lib/python3.7/dist-packages (0.11.2)\n",
            "Requirement already satisfied: scipy>=1.0 in /usr/local/lib/python3.7/dist-packages (from seaborn) (1.4.1)\n",
            "Requirement already satisfied: pandas>=0.23 in /usr/local/lib/python3.7/dist-packages (from seaborn) (1.3.5)\n",
            "Requirement already satisfied: numpy>=1.15 in /usr/local/lib/python3.7/dist-packages (from seaborn) (1.21.6)\n",
            "Requirement already satisfied: matplotlib>=2.2 in /usr/local/lib/python3.7/dist-packages (from seaborn) (3.2.2)\n",
            "Requirement already satisfied: python-dateutil>=2.1 in /usr/local/lib/python3.7/dist-packages (from matplotlib>=2.2->seaborn) (2.8.2)\n",
            "Requirement already satisfied: cycler>=0.10 in /usr/local/lib/python3.7/dist-packages (from matplotlib>=2.2->seaborn) (0.11.0)\n",
            "Requirement already satisfied: pyparsing!=2.0.4,!=2.1.2,!=2.1.6,>=2.0.1 in /usr/local/lib/python3.7/dist-packages (from matplotlib>=2.2->seaborn) (3.0.9)\n",
            "Requirement already satisfied: kiwisolver>=1.0.1 in /usr/local/lib/python3.7/dist-packages (from matplotlib>=2.2->seaborn) (1.4.3)\n",
            "Requirement already satisfied: typing-extensions in /usr/local/lib/python3.7/dist-packages (from kiwisolver>=1.0.1->matplotlib>=2.2->seaborn) (4.1.1)\n",
            "Requirement already satisfied: pytz>=2017.3 in /usr/local/lib/python3.7/dist-packages (from pandas>=0.23->seaborn) (2022.1)\n",
            "Requirement already satisfied: six>=1.5 in /usr/local/lib/python3.7/dist-packages (from python-dateutil>=2.1->matplotlib>=2.2->seaborn) (1.15.0)\n"
          ]
        }
      ],
      "source": [
        "!pip install seaborn\n",
        "import seaborn as sns"
      ]
    },
    {
      "cell_type": "markdown",
      "source": [
        "## 1.2 Bases de Dados"
      ],
      "metadata": {
        "id": "Pmoj2etSlHHx"
      }
    },
    {
      "cell_type": "markdown",
      "source": [
        "### Maio"
      ],
      "metadata": {
        "id": "SqxE0_E1dPhM"
      }
    },
    {
      "cell_type": "code",
      "source": [
        "dataset_maio = pd.read_csv('https://raw.githubusercontent.com/strawndri/slaviero-suct-data-analysis/main/Dados/Estornos/estornos_maio.csv')\n",
        "dataset_maio.head()"
      ],
      "metadata": {
        "colab": {
          "base_uri": "https://localhost:8080/",
          "height": 206
        },
        "id": "GSOHcTxelEV4",
        "outputId": "46a0c868-51f4-444b-cee9-699bf7e2790d"
      },
      "execution_count": 4,
      "outputs": [
        {
          "output_type": "execute_result",
          "data": {
            "text/plain": [
              "      UH     Reserva   Valor      Data         Hora Usuário  Qtde  \\\n",
              "0  107.0  57429723.0 -293.00  5/1/2022  10:04:21 AM  RFELIZ     1   \n",
              "1  208.0  57825777.0   32.25  5/1/2022   1:48:40 AM  RFELIZ     1   \n",
              "2  510.0  57813205.0 -196.79  5/1/2022  12:14:57 PM  RFELIZ     1   \n",
              "3  502.0  57837422.0 -196.24  5/1/2022  11:24:00 PM  RFELIZ     1   \n",
              "4  510.0  57813205.0  -30.00  5/1/2022  12:13:47 PM  RFELIZ     1   \n",
              "\n",
              "               Motivo  \n",
              "0     ERRO DO SISTEMA  \n",
              "1  ERRO DE LANÇAMENTO  \n",
              "2  ERRO DE LANÇAMENTO  \n",
              "3  ERRO DE LANÇAMENTO  \n",
              "4  ERRO DE LANÇAMENTO  "
            ],
            "text/html": [
              "\n",
              "  <div id=\"df-03d2f938-e78c-408a-8978-b4e25128c0cd\">\n",
              "    <div class=\"colab-df-container\">\n",
              "      <div>\n",
              "<style scoped>\n",
              "    .dataframe tbody tr th:only-of-type {\n",
              "        vertical-align: middle;\n",
              "    }\n",
              "\n",
              "    .dataframe tbody tr th {\n",
              "        vertical-align: top;\n",
              "    }\n",
              "\n",
              "    .dataframe thead th {\n",
              "        text-align: right;\n",
              "    }\n",
              "</style>\n",
              "<table border=\"1\" class=\"dataframe\">\n",
              "  <thead>\n",
              "    <tr style=\"text-align: right;\">\n",
              "      <th></th>\n",
              "      <th>UH</th>\n",
              "      <th>Reserva</th>\n",
              "      <th>Valor</th>\n",
              "      <th>Data</th>\n",
              "      <th>Hora</th>\n",
              "      <th>Usuário</th>\n",
              "      <th>Qtde</th>\n",
              "      <th>Motivo</th>\n",
              "    </tr>\n",
              "  </thead>\n",
              "  <tbody>\n",
              "    <tr>\n",
              "      <th>0</th>\n",
              "      <td>107.0</td>\n",
              "      <td>57429723.0</td>\n",
              "      <td>-293.00</td>\n",
              "      <td>5/1/2022</td>\n",
              "      <td>10:04:21 AM</td>\n",
              "      <td>RFELIZ</td>\n",
              "      <td>1</td>\n",
              "      <td>ERRO DO SISTEMA</td>\n",
              "    </tr>\n",
              "    <tr>\n",
              "      <th>1</th>\n",
              "      <td>208.0</td>\n",
              "      <td>57825777.0</td>\n",
              "      <td>32.25</td>\n",
              "      <td>5/1/2022</td>\n",
              "      <td>1:48:40 AM</td>\n",
              "      <td>RFELIZ</td>\n",
              "      <td>1</td>\n",
              "      <td>ERRO DE LANÇAMENTO</td>\n",
              "    </tr>\n",
              "    <tr>\n",
              "      <th>2</th>\n",
              "      <td>510.0</td>\n",
              "      <td>57813205.0</td>\n",
              "      <td>-196.79</td>\n",
              "      <td>5/1/2022</td>\n",
              "      <td>12:14:57 PM</td>\n",
              "      <td>RFELIZ</td>\n",
              "      <td>1</td>\n",
              "      <td>ERRO DE LANÇAMENTO</td>\n",
              "    </tr>\n",
              "    <tr>\n",
              "      <th>3</th>\n",
              "      <td>502.0</td>\n",
              "      <td>57837422.0</td>\n",
              "      <td>-196.24</td>\n",
              "      <td>5/1/2022</td>\n",
              "      <td>11:24:00 PM</td>\n",
              "      <td>RFELIZ</td>\n",
              "      <td>1</td>\n",
              "      <td>ERRO DE LANÇAMENTO</td>\n",
              "    </tr>\n",
              "    <tr>\n",
              "      <th>4</th>\n",
              "      <td>510.0</td>\n",
              "      <td>57813205.0</td>\n",
              "      <td>-30.00</td>\n",
              "      <td>5/1/2022</td>\n",
              "      <td>12:13:47 PM</td>\n",
              "      <td>RFELIZ</td>\n",
              "      <td>1</td>\n",
              "      <td>ERRO DE LANÇAMENTO</td>\n",
              "    </tr>\n",
              "  </tbody>\n",
              "</table>\n",
              "</div>\n",
              "      <button class=\"colab-df-convert\" onclick=\"convertToInteractive('df-03d2f938-e78c-408a-8978-b4e25128c0cd')\"\n",
              "              title=\"Convert this dataframe to an interactive table.\"\n",
              "              style=\"display:none;\">\n",
              "        \n",
              "  <svg xmlns=\"http://www.w3.org/2000/svg\" height=\"24px\"viewBox=\"0 0 24 24\"\n",
              "       width=\"24px\">\n",
              "    <path d=\"M0 0h24v24H0V0z\" fill=\"none\"/>\n",
              "    <path d=\"M18.56 5.44l.94 2.06.94-2.06 2.06-.94-2.06-.94-.94-2.06-.94 2.06-2.06.94zm-11 1L8.5 8.5l.94-2.06 2.06-.94-2.06-.94L8.5 2.5l-.94 2.06-2.06.94zm10 10l.94 2.06.94-2.06 2.06-.94-2.06-.94-.94-2.06-.94 2.06-2.06.94z\"/><path d=\"M17.41 7.96l-1.37-1.37c-.4-.4-.92-.59-1.43-.59-.52 0-1.04.2-1.43.59L10.3 9.45l-7.72 7.72c-.78.78-.78 2.05 0 2.83L4 21.41c.39.39.9.59 1.41.59.51 0 1.02-.2 1.41-.59l7.78-7.78 2.81-2.81c.8-.78.8-2.07 0-2.86zM5.41 20L4 18.59l7.72-7.72 1.47 1.35L5.41 20z\"/>\n",
              "  </svg>\n",
              "      </button>\n",
              "      \n",
              "  <style>\n",
              "    .colab-df-container {\n",
              "      display:flex;\n",
              "      flex-wrap:wrap;\n",
              "      gap: 12px;\n",
              "    }\n",
              "\n",
              "    .colab-df-convert {\n",
              "      background-color: #E8F0FE;\n",
              "      border: none;\n",
              "      border-radius: 50%;\n",
              "      cursor: pointer;\n",
              "      display: none;\n",
              "      fill: #1967D2;\n",
              "      height: 32px;\n",
              "      padding: 0 0 0 0;\n",
              "      width: 32px;\n",
              "    }\n",
              "\n",
              "    .colab-df-convert:hover {\n",
              "      background-color: #E2EBFA;\n",
              "      box-shadow: 0px 1px 2px rgba(60, 64, 67, 0.3), 0px 1px 3px 1px rgba(60, 64, 67, 0.15);\n",
              "      fill: #174EA6;\n",
              "    }\n",
              "\n",
              "    [theme=dark] .colab-df-convert {\n",
              "      background-color: #3B4455;\n",
              "      fill: #D2E3FC;\n",
              "    }\n",
              "\n",
              "    [theme=dark] .colab-df-convert:hover {\n",
              "      background-color: #434B5C;\n",
              "      box-shadow: 0px 1px 3px 1px rgba(0, 0, 0, 0.15);\n",
              "      filter: drop-shadow(0px 1px 2px rgba(0, 0, 0, 0.3));\n",
              "      fill: #FFFFFF;\n",
              "    }\n",
              "  </style>\n",
              "\n",
              "      <script>\n",
              "        const buttonEl =\n",
              "          document.querySelector('#df-03d2f938-e78c-408a-8978-b4e25128c0cd button.colab-df-convert');\n",
              "        buttonEl.style.display =\n",
              "          google.colab.kernel.accessAllowed ? 'block' : 'none';\n",
              "\n",
              "        async function convertToInteractive(key) {\n",
              "          const element = document.querySelector('#df-03d2f938-e78c-408a-8978-b4e25128c0cd');\n",
              "          const dataTable =\n",
              "            await google.colab.kernel.invokeFunction('convertToInteractive',\n",
              "                                                     [key], {});\n",
              "          if (!dataTable) return;\n",
              "\n",
              "          const docLinkHtml = 'Like what you see? Visit the ' +\n",
              "            '<a target=\"_blank\" href=https://colab.research.google.com/notebooks/data_table.ipynb>data table notebook</a>'\n",
              "            + ' to learn more about interactive tables.';\n",
              "          element.innerHTML = '';\n",
              "          dataTable['output_type'] = 'display_data';\n",
              "          await google.colab.output.renderOutput(dataTable, element);\n",
              "          const docLink = document.createElement('div');\n",
              "          docLink.innerHTML = docLinkHtml;\n",
              "          element.appendChild(docLink);\n",
              "        }\n",
              "      </script>\n",
              "    </div>\n",
              "  </div>\n",
              "  "
            ]
          },
          "metadata": {},
          "execution_count": 4
        }
      ]
    },
    {
      "cell_type": "markdown",
      "source": [
        "### Junho"
      ],
      "metadata": {
        "id": "-K2x7mKddSGj"
      }
    },
    {
      "cell_type": "code",
      "source": [
        "dataset_junho = pd.read_csv('https://raw.githubusercontent.com/strawndri/slaviero-suct-data-analysis/main/Dados/Estornos/estornos_junho.csv')\n",
        "dataset_junho.head()"
      ],
      "metadata": {
        "colab": {
          "base_uri": "https://localhost:8080/",
          "height": 206
        },
        "id": "wh4g6WeBcn27",
        "outputId": "9854622f-98b7-4a7d-db2a-aa6495071923"
      },
      "execution_count": 5,
      "outputs": [
        {
          "output_type": "execute_result",
          "data": {
            "text/plain": [
              "       UH     Reserva   Valor      Data         Hora      Usuário  Qtde  \\\n",
              "0  1008.0  58380248.0    8.00  6/1/2022  12:00:33 PM     IGPESSOA     1   \n",
              "1   105.0  57936668.0  144.90  6/1/2022   7:28:51 PM  CALOLIVEIRA     1   \n",
              "2   109.0  57850003.0  470.40  6/1/2022   9:02:50 AM    LPADOVINO     1   \n",
              "3   205.0  58380973.0   -5.00  6/1/2022  12:36:00 PM  CALOLIVEIRA     1   \n",
              "4   205.0  58380973.0   -3.94  6/1/2022  12:36:00 PM  CALOLIVEIRA     1   \n",
              "\n",
              "                   Motivo  Unnamed: 8  \n",
              "0     LCTO EM DUPLICIDADE         NaN  \n",
              "1           Erro de Laçto         NaN  \n",
              "2           Erro de Laçto         NaN  \n",
              "3  AUTORIZADO PELO GERENT         NaN  \n",
              "4  AUTORIZADO PELO GERENT         NaN  "
            ],
            "text/html": [
              "\n",
              "  <div id=\"df-1c03e496-a135-4bdf-be5a-2691884a586c\">\n",
              "    <div class=\"colab-df-container\">\n",
              "      <div>\n",
              "<style scoped>\n",
              "    .dataframe tbody tr th:only-of-type {\n",
              "        vertical-align: middle;\n",
              "    }\n",
              "\n",
              "    .dataframe tbody tr th {\n",
              "        vertical-align: top;\n",
              "    }\n",
              "\n",
              "    .dataframe thead th {\n",
              "        text-align: right;\n",
              "    }\n",
              "</style>\n",
              "<table border=\"1\" class=\"dataframe\">\n",
              "  <thead>\n",
              "    <tr style=\"text-align: right;\">\n",
              "      <th></th>\n",
              "      <th>UH</th>\n",
              "      <th>Reserva</th>\n",
              "      <th>Valor</th>\n",
              "      <th>Data</th>\n",
              "      <th>Hora</th>\n",
              "      <th>Usuário</th>\n",
              "      <th>Qtde</th>\n",
              "      <th>Motivo</th>\n",
              "      <th>Unnamed: 8</th>\n",
              "    </tr>\n",
              "  </thead>\n",
              "  <tbody>\n",
              "    <tr>\n",
              "      <th>0</th>\n",
              "      <td>1008.0</td>\n",
              "      <td>58380248.0</td>\n",
              "      <td>8.00</td>\n",
              "      <td>6/1/2022</td>\n",
              "      <td>12:00:33 PM</td>\n",
              "      <td>IGPESSOA</td>\n",
              "      <td>1</td>\n",
              "      <td>LCTO EM DUPLICIDADE</td>\n",
              "      <td>NaN</td>\n",
              "    </tr>\n",
              "    <tr>\n",
              "      <th>1</th>\n",
              "      <td>105.0</td>\n",
              "      <td>57936668.0</td>\n",
              "      <td>144.90</td>\n",
              "      <td>6/1/2022</td>\n",
              "      <td>7:28:51 PM</td>\n",
              "      <td>CALOLIVEIRA</td>\n",
              "      <td>1</td>\n",
              "      <td>Erro de Laçto</td>\n",
              "      <td>NaN</td>\n",
              "    </tr>\n",
              "    <tr>\n",
              "      <th>2</th>\n",
              "      <td>109.0</td>\n",
              "      <td>57850003.0</td>\n",
              "      <td>470.40</td>\n",
              "      <td>6/1/2022</td>\n",
              "      <td>9:02:50 AM</td>\n",
              "      <td>LPADOVINO</td>\n",
              "      <td>1</td>\n",
              "      <td>Erro de Laçto</td>\n",
              "      <td>NaN</td>\n",
              "    </tr>\n",
              "    <tr>\n",
              "      <th>3</th>\n",
              "      <td>205.0</td>\n",
              "      <td>58380973.0</td>\n",
              "      <td>-5.00</td>\n",
              "      <td>6/1/2022</td>\n",
              "      <td>12:36:00 PM</td>\n",
              "      <td>CALOLIVEIRA</td>\n",
              "      <td>1</td>\n",
              "      <td>AUTORIZADO PELO GERENT</td>\n",
              "      <td>NaN</td>\n",
              "    </tr>\n",
              "    <tr>\n",
              "      <th>4</th>\n",
              "      <td>205.0</td>\n",
              "      <td>58380973.0</td>\n",
              "      <td>-3.94</td>\n",
              "      <td>6/1/2022</td>\n",
              "      <td>12:36:00 PM</td>\n",
              "      <td>CALOLIVEIRA</td>\n",
              "      <td>1</td>\n",
              "      <td>AUTORIZADO PELO GERENT</td>\n",
              "      <td>NaN</td>\n",
              "    </tr>\n",
              "  </tbody>\n",
              "</table>\n",
              "</div>\n",
              "      <button class=\"colab-df-convert\" onclick=\"convertToInteractive('df-1c03e496-a135-4bdf-be5a-2691884a586c')\"\n",
              "              title=\"Convert this dataframe to an interactive table.\"\n",
              "              style=\"display:none;\">\n",
              "        \n",
              "  <svg xmlns=\"http://www.w3.org/2000/svg\" height=\"24px\"viewBox=\"0 0 24 24\"\n",
              "       width=\"24px\">\n",
              "    <path d=\"M0 0h24v24H0V0z\" fill=\"none\"/>\n",
              "    <path d=\"M18.56 5.44l.94 2.06.94-2.06 2.06-.94-2.06-.94-.94-2.06-.94 2.06-2.06.94zm-11 1L8.5 8.5l.94-2.06 2.06-.94-2.06-.94L8.5 2.5l-.94 2.06-2.06.94zm10 10l.94 2.06.94-2.06 2.06-.94-2.06-.94-.94-2.06-.94 2.06-2.06.94z\"/><path d=\"M17.41 7.96l-1.37-1.37c-.4-.4-.92-.59-1.43-.59-.52 0-1.04.2-1.43.59L10.3 9.45l-7.72 7.72c-.78.78-.78 2.05 0 2.83L4 21.41c.39.39.9.59 1.41.59.51 0 1.02-.2 1.41-.59l7.78-7.78 2.81-2.81c.8-.78.8-2.07 0-2.86zM5.41 20L4 18.59l7.72-7.72 1.47 1.35L5.41 20z\"/>\n",
              "  </svg>\n",
              "      </button>\n",
              "      \n",
              "  <style>\n",
              "    .colab-df-container {\n",
              "      display:flex;\n",
              "      flex-wrap:wrap;\n",
              "      gap: 12px;\n",
              "    }\n",
              "\n",
              "    .colab-df-convert {\n",
              "      background-color: #E8F0FE;\n",
              "      border: none;\n",
              "      border-radius: 50%;\n",
              "      cursor: pointer;\n",
              "      display: none;\n",
              "      fill: #1967D2;\n",
              "      height: 32px;\n",
              "      padding: 0 0 0 0;\n",
              "      width: 32px;\n",
              "    }\n",
              "\n",
              "    .colab-df-convert:hover {\n",
              "      background-color: #E2EBFA;\n",
              "      box-shadow: 0px 1px 2px rgba(60, 64, 67, 0.3), 0px 1px 3px 1px rgba(60, 64, 67, 0.15);\n",
              "      fill: #174EA6;\n",
              "    }\n",
              "\n",
              "    [theme=dark] .colab-df-convert {\n",
              "      background-color: #3B4455;\n",
              "      fill: #D2E3FC;\n",
              "    }\n",
              "\n",
              "    [theme=dark] .colab-df-convert:hover {\n",
              "      background-color: #434B5C;\n",
              "      box-shadow: 0px 1px 3px 1px rgba(0, 0, 0, 0.15);\n",
              "      filter: drop-shadow(0px 1px 2px rgba(0, 0, 0, 0.3));\n",
              "      fill: #FFFFFF;\n",
              "    }\n",
              "  </style>\n",
              "\n",
              "      <script>\n",
              "        const buttonEl =\n",
              "          document.querySelector('#df-1c03e496-a135-4bdf-be5a-2691884a586c button.colab-df-convert');\n",
              "        buttonEl.style.display =\n",
              "          google.colab.kernel.accessAllowed ? 'block' : 'none';\n",
              "\n",
              "        async function convertToInteractive(key) {\n",
              "          const element = document.querySelector('#df-1c03e496-a135-4bdf-be5a-2691884a586c');\n",
              "          const dataTable =\n",
              "            await google.colab.kernel.invokeFunction('convertToInteractive',\n",
              "                                                     [key], {});\n",
              "          if (!dataTable) return;\n",
              "\n",
              "          const docLinkHtml = 'Like what you see? Visit the ' +\n",
              "            '<a target=\"_blank\" href=https://colab.research.google.com/notebooks/data_table.ipynb>data table notebook</a>'\n",
              "            + ' to learn more about interactive tables.';\n",
              "          element.innerHTML = '';\n",
              "          dataTable['output_type'] = 'display_data';\n",
              "          await google.colab.output.renderOutput(dataTable, element);\n",
              "          const docLink = document.createElement('div');\n",
              "          docLink.innerHTML = docLinkHtml;\n",
              "          element.appendChild(docLink);\n",
              "        }\n",
              "      </script>\n",
              "    </div>\n",
              "  </div>\n",
              "  "
            ]
          },
          "metadata": {},
          "execution_count": 5
        }
      ]
    },
    {
      "cell_type": "markdown",
      "source": [
        "### Lista de bases de dados"
      ],
      "metadata": {
        "id": "P2aUj1fWir5R"
      }
    },
    {
      "cell_type": "code",
      "source": [
        "datasets = [dataset_maio, dataset_junho]"
      ],
      "metadata": {
        "id": "PgzlBAV0ixHl"
      },
      "execution_count": 41,
      "outputs": []
    },
    {
      "cell_type": "markdown",
      "source": [
        "# 2. Tratamento de Dados\n",
        "\n",
        "\n",
        "---\n",
        "\n"
      ],
      "metadata": {
        "id": "Rfu5PMtxquTJ"
      }
    },
    {
      "cell_type": "markdown",
      "source": [
        "## 2.1 Removendo colunas com valores NaN\n",
        "\n",
        "*Obs.: NaN (Not a Number) representa valores que foram perdidos e que não são apresentados na base de dados.*\n",
        "\n",
        "> Os dados não preenchidos na coluna de *UH (Unidade Hoteleira)* referem-se aos estornos de valores que não estão associados diretamente a um hóspede. Por exemplo: é possível haver estornos de \"café passante\", categoria de indíviduos que não se hospedam no hotel, mas consomem deste.\n",
        "\n"
      ],
      "metadata": {
        "id": "TEp86bP4eKNr"
      }
    },
    {
      "cell_type": "code",
      "source": [
        "dataset_junho.info()"
      ],
      "metadata": {
        "colab": {
          "base_uri": "https://localhost:8080/"
        },
        "id": "KYGJlRvzeJnr",
        "outputId": "a089a853-3fa4-44a5-bece-e28e48353875"
      },
      "execution_count": 7,
      "outputs": [
        {
          "output_type": "stream",
          "name": "stdout",
          "text": [
            "<class 'pandas.core.frame.DataFrame'>\n",
            "RangeIndex: 496 entries, 0 to 495\n",
            "Data columns (total 9 columns):\n",
            " #   Column      Non-Null Count  Dtype  \n",
            "---  ------      --------------  -----  \n",
            " 0   UH          467 non-null    float64\n",
            " 1   Reserva     466 non-null    float64\n",
            " 2   Valor       496 non-null    float64\n",
            " 3   Data        496 non-null    object \n",
            " 4   Hora        496 non-null    object \n",
            " 5   Usuário     496 non-null    object \n",
            " 6   Qtde        496 non-null    int64  \n",
            " 7   Motivo      496 non-null    object \n",
            " 8   Unnamed: 8  0 non-null      float64\n",
            "dtypes: float64(4), int64(1), object(4)\n",
            "memory usage: 35.0+ KB\n"
          ]
        }
      ]
    },
    {
      "cell_type": "markdown",
      "source": [
        "Nota-se que a última coluna \"Unnamed\" veio, provavelmente, de algum erro na formação da tabela.\n",
        "\n",
        "Todos as linhas dessa coluna são NaN e, portanto, devem ser removidos."
      ],
      "metadata": {
        "id": "og8jn6gggM0f"
      }
    },
    {
      "cell_type": "code",
      "source": [
        "dataset_junho.drop(columns = ['Unnamed: 8'], inplace = True)\n",
        "dataset_junho.head()"
      ],
      "metadata": {
        "colab": {
          "base_uri": "https://localhost:8080/",
          "height": 206
        },
        "id": "6pXqA3SagT3t",
        "outputId": "60cf3533-eee4-4746-9078-3823806b5732"
      },
      "execution_count": 8,
      "outputs": [
        {
          "output_type": "execute_result",
          "data": {
            "text/plain": [
              "       UH     Reserva   Valor      Data         Hora      Usuário  Qtde  \\\n",
              "0  1008.0  58380248.0    8.00  6/1/2022  12:00:33 PM     IGPESSOA     1   \n",
              "1   105.0  57936668.0  144.90  6/1/2022   7:28:51 PM  CALOLIVEIRA     1   \n",
              "2   109.0  57850003.0  470.40  6/1/2022   9:02:50 AM    LPADOVINO     1   \n",
              "3   205.0  58380973.0   -5.00  6/1/2022  12:36:00 PM  CALOLIVEIRA     1   \n",
              "4   205.0  58380973.0   -3.94  6/1/2022  12:36:00 PM  CALOLIVEIRA     1   \n",
              "\n",
              "                   Motivo  \n",
              "0     LCTO EM DUPLICIDADE  \n",
              "1           Erro de Laçto  \n",
              "2           Erro de Laçto  \n",
              "3  AUTORIZADO PELO GERENT  \n",
              "4  AUTORIZADO PELO GERENT  "
            ],
            "text/html": [
              "\n",
              "  <div id=\"df-8bb3b32a-97f3-4ef0-93f6-22460eee6d2c\">\n",
              "    <div class=\"colab-df-container\">\n",
              "      <div>\n",
              "<style scoped>\n",
              "    .dataframe tbody tr th:only-of-type {\n",
              "        vertical-align: middle;\n",
              "    }\n",
              "\n",
              "    .dataframe tbody tr th {\n",
              "        vertical-align: top;\n",
              "    }\n",
              "\n",
              "    .dataframe thead th {\n",
              "        text-align: right;\n",
              "    }\n",
              "</style>\n",
              "<table border=\"1\" class=\"dataframe\">\n",
              "  <thead>\n",
              "    <tr style=\"text-align: right;\">\n",
              "      <th></th>\n",
              "      <th>UH</th>\n",
              "      <th>Reserva</th>\n",
              "      <th>Valor</th>\n",
              "      <th>Data</th>\n",
              "      <th>Hora</th>\n",
              "      <th>Usuário</th>\n",
              "      <th>Qtde</th>\n",
              "      <th>Motivo</th>\n",
              "    </tr>\n",
              "  </thead>\n",
              "  <tbody>\n",
              "    <tr>\n",
              "      <th>0</th>\n",
              "      <td>1008.0</td>\n",
              "      <td>58380248.0</td>\n",
              "      <td>8.00</td>\n",
              "      <td>6/1/2022</td>\n",
              "      <td>12:00:33 PM</td>\n",
              "      <td>IGPESSOA</td>\n",
              "      <td>1</td>\n",
              "      <td>LCTO EM DUPLICIDADE</td>\n",
              "    </tr>\n",
              "    <tr>\n",
              "      <th>1</th>\n",
              "      <td>105.0</td>\n",
              "      <td>57936668.0</td>\n",
              "      <td>144.90</td>\n",
              "      <td>6/1/2022</td>\n",
              "      <td>7:28:51 PM</td>\n",
              "      <td>CALOLIVEIRA</td>\n",
              "      <td>1</td>\n",
              "      <td>Erro de Laçto</td>\n",
              "    </tr>\n",
              "    <tr>\n",
              "      <th>2</th>\n",
              "      <td>109.0</td>\n",
              "      <td>57850003.0</td>\n",
              "      <td>470.40</td>\n",
              "      <td>6/1/2022</td>\n",
              "      <td>9:02:50 AM</td>\n",
              "      <td>LPADOVINO</td>\n",
              "      <td>1</td>\n",
              "      <td>Erro de Laçto</td>\n",
              "    </tr>\n",
              "    <tr>\n",
              "      <th>3</th>\n",
              "      <td>205.0</td>\n",
              "      <td>58380973.0</td>\n",
              "      <td>-5.00</td>\n",
              "      <td>6/1/2022</td>\n",
              "      <td>12:36:00 PM</td>\n",
              "      <td>CALOLIVEIRA</td>\n",
              "      <td>1</td>\n",
              "      <td>AUTORIZADO PELO GERENT</td>\n",
              "    </tr>\n",
              "    <tr>\n",
              "      <th>4</th>\n",
              "      <td>205.0</td>\n",
              "      <td>58380973.0</td>\n",
              "      <td>-3.94</td>\n",
              "      <td>6/1/2022</td>\n",
              "      <td>12:36:00 PM</td>\n",
              "      <td>CALOLIVEIRA</td>\n",
              "      <td>1</td>\n",
              "      <td>AUTORIZADO PELO GERENT</td>\n",
              "    </tr>\n",
              "  </tbody>\n",
              "</table>\n",
              "</div>\n",
              "      <button class=\"colab-df-convert\" onclick=\"convertToInteractive('df-8bb3b32a-97f3-4ef0-93f6-22460eee6d2c')\"\n",
              "              title=\"Convert this dataframe to an interactive table.\"\n",
              "              style=\"display:none;\">\n",
              "        \n",
              "  <svg xmlns=\"http://www.w3.org/2000/svg\" height=\"24px\"viewBox=\"0 0 24 24\"\n",
              "       width=\"24px\">\n",
              "    <path d=\"M0 0h24v24H0V0z\" fill=\"none\"/>\n",
              "    <path d=\"M18.56 5.44l.94 2.06.94-2.06 2.06-.94-2.06-.94-.94-2.06-.94 2.06-2.06.94zm-11 1L8.5 8.5l.94-2.06 2.06-.94-2.06-.94L8.5 2.5l-.94 2.06-2.06.94zm10 10l.94 2.06.94-2.06 2.06-.94-2.06-.94-.94-2.06-.94 2.06-2.06.94z\"/><path d=\"M17.41 7.96l-1.37-1.37c-.4-.4-.92-.59-1.43-.59-.52 0-1.04.2-1.43.59L10.3 9.45l-7.72 7.72c-.78.78-.78 2.05 0 2.83L4 21.41c.39.39.9.59 1.41.59.51 0 1.02-.2 1.41-.59l7.78-7.78 2.81-2.81c.8-.78.8-2.07 0-2.86zM5.41 20L4 18.59l7.72-7.72 1.47 1.35L5.41 20z\"/>\n",
              "  </svg>\n",
              "      </button>\n",
              "      \n",
              "  <style>\n",
              "    .colab-df-container {\n",
              "      display:flex;\n",
              "      flex-wrap:wrap;\n",
              "      gap: 12px;\n",
              "    }\n",
              "\n",
              "    .colab-df-convert {\n",
              "      background-color: #E8F0FE;\n",
              "      border: none;\n",
              "      border-radius: 50%;\n",
              "      cursor: pointer;\n",
              "      display: none;\n",
              "      fill: #1967D2;\n",
              "      height: 32px;\n",
              "      padding: 0 0 0 0;\n",
              "      width: 32px;\n",
              "    }\n",
              "\n",
              "    .colab-df-convert:hover {\n",
              "      background-color: #E2EBFA;\n",
              "      box-shadow: 0px 1px 2px rgba(60, 64, 67, 0.3), 0px 1px 3px 1px rgba(60, 64, 67, 0.15);\n",
              "      fill: #174EA6;\n",
              "    }\n",
              "\n",
              "    [theme=dark] .colab-df-convert {\n",
              "      background-color: #3B4455;\n",
              "      fill: #D2E3FC;\n",
              "    }\n",
              "\n",
              "    [theme=dark] .colab-df-convert:hover {\n",
              "      background-color: #434B5C;\n",
              "      box-shadow: 0px 1px 3px 1px rgba(0, 0, 0, 0.15);\n",
              "      filter: drop-shadow(0px 1px 2px rgba(0, 0, 0, 0.3));\n",
              "      fill: #FFFFFF;\n",
              "    }\n",
              "  </style>\n",
              "\n",
              "      <script>\n",
              "        const buttonEl =\n",
              "          document.querySelector('#df-8bb3b32a-97f3-4ef0-93f6-22460eee6d2c button.colab-df-convert');\n",
              "        buttonEl.style.display =\n",
              "          google.colab.kernel.accessAllowed ? 'block' : 'none';\n",
              "\n",
              "        async function convertToInteractive(key) {\n",
              "          const element = document.querySelector('#df-8bb3b32a-97f3-4ef0-93f6-22460eee6d2c');\n",
              "          const dataTable =\n",
              "            await google.colab.kernel.invokeFunction('convertToInteractive',\n",
              "                                                     [key], {});\n",
              "          if (!dataTable) return;\n",
              "\n",
              "          const docLinkHtml = 'Like what you see? Visit the ' +\n",
              "            '<a target=\"_blank\" href=https://colab.research.google.com/notebooks/data_table.ipynb>data table notebook</a>'\n",
              "            + ' to learn more about interactive tables.';\n",
              "          element.innerHTML = '';\n",
              "          dataTable['output_type'] = 'display_data';\n",
              "          await google.colab.output.renderOutput(dataTable, element);\n",
              "          const docLink = document.createElement('div');\n",
              "          docLink.innerHTML = docLinkHtml;\n",
              "          element.appendChild(docLink);\n",
              "        }\n",
              "      </script>\n",
              "    </div>\n",
              "  </div>\n",
              "  "
            ]
          },
          "metadata": {},
          "execution_count": 8
        }
      ]
    },
    {
      "cell_type": "markdown",
      "source": [
        "## 2.2 Alterando os nomes das colunas"
      ],
      "metadata": {
        "id": "KSyp1GgTicw5"
      }
    },
    {
      "cell_type": "code",
      "source": [
        "new_columns = {\n",
        "    'UH': 'UH',\t\n",
        "    'Reserva': 'reserva',\n",
        "    'Descrição': 'descricao',\n",
        "    'Crédito': 'credito',\n",
        "    'Débito': 'debito',\n",
        "    'Valor': 'valor',\n",
        "    'Data': 'data',\n",
        "    'Hora': 'hora',\n",
        "    'Usuário': 'usuario',\n",
        "    'Qtde.': 'quantidade',\n",
        "    'Motivo': 'motivo'\n",
        "}\n",
        "\n",
        "dataset_maio.rename(columns = new_columns, inplace = True)\n",
        "dataset_junho.rename(columns = new_columns, inplace = True)"
      ],
      "metadata": {
        "id": "D8jid1i8q3bD"
      },
      "execution_count": 40,
      "outputs": []
    },
    {
      "cell_type": "markdown",
      "source": [
        "# 3. Funções e variáveis padronizados"
      ],
      "metadata": {
        "id": "4cCiHxzdhUon"
      }
    },
    {
      "cell_type": "code",
      "source": [
        "palette = ['#022C30', '#194647', '#256669', '#2E8285', '#3EACB0', '#41B6BA', '#84D9E0', '#9ED7EC', '#D0E9FF']"
      ],
      "metadata": {
        "id": "foLFzQvFhX89"
      },
      "execution_count": 10,
      "outputs": []
    },
    {
      "cell_type": "code",
      "source": [
        "''' Definições utilizadas em todos os gráficos\n",
        "- width: largura do gráfico;\n",
        "- height: altura do gráfico.\n",
        "'''\n",
        "def plot_config(width, height):\n",
        "  sns.set_style('darkgrid')\n",
        "  plt.figure(figsize=(width, height))"
      ],
      "metadata": {
        "id": "-o4mlvxal0M2"
      },
      "execution_count": 37,
      "outputs": []
    },
    {
      "cell_type": "code",
      "source": [
        "''' Função para criação de gráficos de barra\n",
        "- x:\n",
        "- y:\n",
        "- xlabel:\n",
        "- ylabel:\n",
        "- title: \n",
        "'''\n",
        "\n",
        "def set_barplot(x, y, xlabel, ylabel, title, palette=palette, data = [], hue=None):\n",
        "\n",
        "  total = len(data)\n",
        "  plot_config(15, 5)\n",
        "\n",
        "  for i, item in enumerate(data):\n",
        "\n",
        "    if (i == 0):\n",
        "      ax = plt.subplot(total, 2, i + 1)\n",
        "    else:\n",
        "      plt.subplot(total, 2, i + 1)\n",
        "    \n",
        "    ax = sns.barplot(x=x, y=y, palette=palette, data=item, hue=hue)\n",
        "\n",
        "    ax.set_xlabel(xlabel, fontsize = 12)\n",
        "    ax.set_ylabel(ylabel, fontsize = 12)\n",
        "\n",
        "  ax"
      ],
      "metadata": {
        "id": "gy_3GdbOjKAE"
      },
      "execution_count": 38,
      "outputs": []
    },
    {
      "cell_type": "code",
      "source": [
        "''' Função para geração de gráficos de curva\n",
        "- x:\n",
        "- y:\n",
        "- xlabel:\n",
        "- ylabel:\n",
        "- title: \n",
        "'''\n",
        "\n",
        "def set_lineplot(x, y, xlabel, ylabel, title):\n",
        "  plot_config(15, 5)\n",
        "  ax = sns.lineplot(x=x, y=y)\n",
        "  ax.set_title(title, fontsize = 18)\n",
        "  ax.set_xlabel(xlabel, fontsize = 12)\n",
        "  ax.set_ylabel(ylabel, fontsize = 12)\n",
        "\n",
        "  ax"
      ],
      "metadata": {
        "id": "mqoHbRGA7i8w"
      },
      "execution_count": 42,
      "outputs": []
    },
    {
      "cell_type": "markdown",
      "source": [
        "# 4. Análise de Dados"
      ],
      "metadata": {
        "id": "0vQv-DRIhd0r"
      }
    },
    {
      "cell_type": "markdown",
      "source": [
        "## 4.1 Quantidade de estornos por usuário"
      ],
      "metadata": {
        "id": "R_c5c64Rhg5m"
      }
    },
    {
      "cell_type": "code",
      "source": [
        "def frequencia_usuarios(*datasets):\n",
        "\n",
        "  df_frequencia_usuarios = []\n",
        "\n",
        "  for i, item in enumerate(datasets):\n",
        "\n",
        "    frequencia = item.usuario.value_counts()\n",
        "    usuarios = item.usuario.unique()\n",
        "\n",
        "    freq_usuarios = pd.DataFrame({'usuarios': usuarios, 'estornos': frequencia})\n",
        "    df_frequencia_usuarios.append(freq_usuarios)\n",
        "\n",
        "  return df_frequencia_usuarios"
      ],
      "metadata": {
        "id": "A32IoSEAk2qk"
      },
      "execution_count": 33,
      "outputs": []
    },
    {
      "cell_type": "code",
      "source": [
        "data = frequencia_usuarios(dataset_maio, dataset_junho)"
      ],
      "metadata": {
        "id": "ybLqMiNel4HD"
      },
      "execution_count": 34,
      "outputs": []
    },
    {
      "cell_type": "code",
      "source": [
        "graphic = set_barplot(x='usuarios', y='estornos', \n",
        "                      xlabel = 'Usuários', ylabel ='Estornos', \n",
        "                      title = 'Quantidade de estornos realizada por cada usuário',\n",
        "                      palette = [palette[5]],\n",
        "                      data = data)\n",
        "graphic"
      ],
      "metadata": {
        "id": "ihfa6x24iX6P",
        "outputId": "8beb8b77-6dde-45a9-963d-b1d5ab997e24",
        "colab": {
          "base_uri": "https://localhost:8080/",
          "height": 190
        }
      },
      "execution_count": 39,
      "outputs": [
        {
          "output_type": "display_data",
          "data": {
            "text/plain": [
              "<Figure size 1080x360 with 2 Axes>"
            ],
            "image/png": "[encoded data removed]"
          },
          "metadata": {}
        }
      ]
    },
    {
      "cell_type": "markdown",
      "source": [
        "## 4.2 Quantidade de estornos diários"
      ],
      "metadata": {
        "id": "2O__kP_P736M"
      }
    },
    {
      "cell_type": "code",
      "source": [
        "estornos_por_dia = pd.value_counts(dataset_maio.data)\n",
        "dias = []\n",
        "for i in dataset_maio.data.unique():\n",
        "  dias.append(i[2:-5])"
      ],
      "metadata": {
        "id": "Ed43M_x5Z3jk"
      },
      "execution_count": null,
      "outputs": []
    },
    {
      "cell_type": "code",
      "source": [
        "set_lineplot(dias, estornos_por_dia, \"Dias\", 'Quantidade', 'Estornos por dia')"
      ],
      "metadata": {
        "id": "-zUQesE_8ME_"
      },
      "execution_count": null,
      "outputs": []
    },
    {
      "cell_type": "markdown",
      "source": [
        "## 4.3 Quantidade de estornos realizada por cada usuário (classificação)"
      ],
      "metadata": {
        "id": "EaBnPWQQ-CoV"
      }
    },
    {
      "cell_type": "code",
      "source": [
        "motivos_por_usuario = pd.crosstab(dataset_maio['usuario'], dataset_maio['motivo'])\n",
        "motivos_por_usuario = pd.DataFrame(motivos_por_usuario.stack().reset_index())\n",
        "motivos_por_usuario.rename(columns = {0: 'total'}, inplace = True)\n",
        "motivos_por_usuario.sort_values(by=['total'], ascending = False, inplace = True)\n",
        "\n",
        "motivos_por_usuario"
      ],
      "metadata": {
        "id": "PLoLYOu34Jkg"
      },
      "execution_count": null,
      "outputs": []
    },
    {
      "cell_type": "code",
      "source": [
        "set_barplot('usuario', 'total', motivos_por_usuario, \n",
        "            'Usuário', 'Estornos', \n",
        "            'Frequência de estornos por usuário (com base em seus motivos)',\n",
        "            hue = 'motivo')"
      ],
      "metadata": {
        "id": "DIWB0e_McboZ"
      },
      "execution_count": null,
      "outputs": []
    },
    {
      "cell_type": "markdown",
      "source": [
        "## 4.4 Valor total de estornos por dia"
      ],
      "metadata": {
        "id": "dKp4IOeo-N53"
      }
    },
    {
      "cell_type": "code",
      "source": [
        "valor_por_dia = dataset.groupby(['data'])['valor'].sum()"
      ],
      "metadata": {
        "id": "y6AW7f4ZCkI9"
      },
      "execution_count": null,
      "outputs": []
    },
    {
      "cell_type": "code",
      "source": [
        "for i in range(0, len(valor_por_dia)):\n",
        "  if valor_por_dia[i] <= 0:\n",
        "    valor_por_dia[i] *= -1"
      ],
      "metadata": {
        "id": "mscAxy9LCbX9"
      },
      "execution_count": null,
      "outputs": []
    },
    {
      "cell_type": "code",
      "source": [
        "set_lineplot(dias, valor_por_dia, \"Dias\", 'Valor (R$)', 'Valor, em reais, de estornos por dia')"
      ],
      "metadata": {
        "id": "kxrtuzCnAaXF"
      },
      "execution_count": null,
      "outputs": []
    }
  ]
}