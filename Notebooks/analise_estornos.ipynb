{
  "nbformat": 4,
  "nbformat_minor": 0,
  "metadata": {
    "colab": {
      "name": "analise_estornos.ipynb",
      "provenance": [],
      "include_colab_link": true
    },
    "kernelspec": {
      "name": "python3",
      "display_name": "Python 3"
    },
    "language_info": {
      "name": "python"
    }
  },
  "cells": [
    {
      "cell_type": "markdown",
      "metadata": {
        "id": "view-in-github",
        "colab_type": "text"
      },
      "source": [
        "<a href=\"https://colab.research.google.com/github/strawndri/slaviero-suct-data-analysis/blob/main/Notebooks/analise_estornos.ipynb\" target=\"_parent\"><img src=\"https://colab.research.google.com/assets/colab-badge.svg\" alt=\"Open In Colab\"/></a>"
      ]
    },
    {
      "cell_type": "markdown",
      "source": [
        "---\n",
        "<font size=20> Análise de Dados: Estornos </font>\n",
        "\n",
        "---\n",
        "\n",
        "\n"
      ],
      "metadata": {
        "id": "vbJDexPpi6Xa"
      }
    },
    {
      "cell_type": "markdown",
      "source": [
        "Notebook para analisar os estornos mensais do hotel Slaviero Essential Curitiba Shopping. As variáveis em análise são:\n",
        "\n",
        "* **Valor**: valor, em reais, do que foi estornado (crédito ou débito);\n",
        "* **Data**: período dia/mês/ano em que o estorno foi realizado;\n",
        "* **Hora**: em qual horário do dia o estorno foi realizado. Utiliza-se o padrão de 12 horas;\n",
        "* **Usuário**: qual funcionário do SUCT realizou o estorno;\n",
        "* **Motivo**: jusiticativa do estorno.\n"
      ],
      "metadata": {
        "id": "B99nACGggjg0"
      }
    },
    {
      "cell_type": "markdown",
      "source": [
        "# 1. Importações\n",
        "\n",
        "\n",
        "---\n",
        "\n"
      ],
      "metadata": {
        "id": "ZdjUMfsfjiFd"
      }
    },
    {
      "cell_type": "markdown",
      "source": [
        "## 1.1 Bibliotecas\n",
        "\n",
        "- Pandas: https://pandas.pydata.org/docs/user_guide/index.html#user-guide\n",
        "- Matplotlib: https://matplotlib.org/stable/index.html\n",
        "- Seaborn: https://seaborn.pydata.org/"
      ],
      "metadata": {
        "id": "OemtuY4rk-M0"
      }
    },
    {
      "cell_type": "code",
      "source": [
        "import pandas as pd"
      ],
      "metadata": {
        "id": "S4mig2dCgTol"
      },
      "execution_count": 1,
      "outputs": []
    },
    {
      "cell_type": "code",
      "source": [
        "import matplotlib.pyplot as plt"
      ],
      "metadata": {
        "id": "yykF9NASgark"
      },
      "execution_count": 2,
      "outputs": []
    },
    {
      "cell_type": "code",
      "execution_count": 3,
      "metadata": {
        "id": "eqJxHHA-ewj3",
        "outputId": "72d64eb3-6515-461f-9195-a2ce6f7bc863",
        "colab": {
          "base_uri": "https://localhost:8080/"
        }
      },
      "outputs": [
        {
          "output_type": "stream",
          "name": "stdout",
          "text": [
            "Looking in indexes: https://pypi.org/simple, https://us-python.pkg.dev/colab-wheels/public/simple/\n",
            "Requirement already satisfied: seaborn in /usr/local/lib/python3.7/dist-packages (0.11.2)\n",
            "Requirement already satisfied: pandas>=0.23 in /usr/local/lib/python3.7/dist-packages (from seaborn) (1.3.5)\n",
            "Requirement already satisfied: matplotlib>=2.2 in /usr/local/lib/python3.7/dist-packages (from seaborn) (3.2.2)\n",
            "Requirement already satisfied: numpy>=1.15 in /usr/local/lib/python3.7/dist-packages (from seaborn) (1.21.6)\n",
            "Requirement already satisfied: scipy>=1.0 in /usr/local/lib/python3.7/dist-packages (from seaborn) (1.7.3)\n",
            "Requirement already satisfied: pyparsing!=2.0.4,!=2.1.2,!=2.1.6,>=2.0.1 in /usr/local/lib/python3.7/dist-packages (from matplotlib>=2.2->seaborn) (3.0.9)\n",
            "Requirement already satisfied: python-dateutil>=2.1 in /usr/local/lib/python3.7/dist-packages (from matplotlib>=2.2->seaborn) (2.8.2)\n",
            "Requirement already satisfied: cycler>=0.10 in /usr/local/lib/python3.7/dist-packages (from matplotlib>=2.2->seaborn) (0.11.0)\n",
            "Requirement already satisfied: kiwisolver>=1.0.1 in /usr/local/lib/python3.7/dist-packages (from matplotlib>=2.2->seaborn) (1.4.3)\n",
            "Requirement already satisfied: typing-extensions in /usr/local/lib/python3.7/dist-packages (from kiwisolver>=1.0.1->matplotlib>=2.2->seaborn) (4.1.1)\n",
            "Requirement already satisfied: pytz>=2017.3 in /usr/local/lib/python3.7/dist-packages (from pandas>=0.23->seaborn) (2022.1)\n",
            "Requirement already satisfied: six>=1.5 in /usr/local/lib/python3.7/dist-packages (from python-dateutil>=2.1->matplotlib>=2.2->seaborn) (1.15.0)\n"
          ]
        }
      ],
      "source": [
        "!pip install seaborn\n",
        "import seaborn as sns"
      ]
    },
    {
      "cell_type": "code",
      "source": [
        "import datetime"
      ],
      "metadata": {
        "id": "CvSp2UVXtfuh"
      },
      "execution_count": 4,
      "outputs": []
    },
    {
      "cell_type": "markdown",
      "source": [
        "## 1.2 Bases de Dados"
      ],
      "metadata": {
        "id": "Pmoj2etSlHHx"
      }
    },
    {
      "cell_type": "markdown",
      "source": [
        "### Janeiro"
      ],
      "metadata": {
        "id": "Z3ZLgtMe_MFO"
      }
    },
    {
      "cell_type": "code",
      "source": [
        "dataset_janeiro = pd.read_csv('https://raw.githubusercontent.com/strawndri/slaviero-suct-data-analysis/main/Dados/Estornos/estornos_janeiro.csv')\n",
        "dataset_janeiro.head()"
      ],
      "metadata": {
        "id": "GpKf3Xhk_YO_",
        "outputId": "1afdcbb5-8870-42c3-b971-6bac28bf9778",
        "colab": {
          "base_uri": "https://localhost:8080/",
          "height": 206
        }
      },
      "execution_count": 50,
      "outputs": [
        {
          "output_type": "execute_result",
          "data": {
            "text/plain": [
              "    UH   Reserva   Valor      Data         Hora Usuário  Qtde.  \\\n",
              "0  405  55784666  168.63  1/1/2022  10:53:11 AM   CFIOR      1   \n",
              "1  511  55849601 -240.00  1/1/2022  12:18:41 PM   CFIOR      1   \n",
              "2  805  55512062 -291.90  1/1/2022  11:17:00 AM   CFIOR      1   \n",
              "3  805  55512062   -7.27  1/1/2022  11:17:00 AM   CFIOR      1   \n",
              "4  805  55512062 -291.90  1/1/2022  11:17:00 AM   CFIOR      1   \n",
              "\n",
              "                   Motivo  \n",
              "0      ERRO DE LANÇAMENTO  \n",
              "1  VALOR LANÇADO INCORRET  \n",
              "2      ERRO DE LANÇAMENTO  \n",
              "3      ERRO DE LANÇAMENTO  \n",
              "4      ERRO DE LANÇAMENTO  "
            ],
            "text/html": [
              "\n",
              "  <div id=\"df-aba0ce53-f09d-4f63-98a4-146921f1c508\">\n",
              "    <div class=\"colab-df-container\">\n",
              "      <div>\n",
              "<style scoped>\n",
              "    .dataframe tbody tr th:only-of-type {\n",
              "        vertical-align: middle;\n",
              "    }\n",
              "\n",
              "    .dataframe tbody tr th {\n",
              "        vertical-align: top;\n",
              "    }\n",
              "\n",
              "    .dataframe thead th {\n",
              "        text-align: right;\n",
              "    }\n",
              "</style>\n",
              "<table border=\"1\" class=\"dataframe\">\n",
              "  <thead>\n",
              "    <tr style=\"text-align: right;\">\n",
              "      <th></th>\n",
              "      <th>UH</th>\n",
              "      <th>Reserva</th>\n",
              "      <th>Valor</th>\n",
              "      <th>Data</th>\n",
              "      <th>Hora</th>\n",
              "      <th>Usuário</th>\n",
              "      <th>Qtde.</th>\n",
              "      <th>Motivo</th>\n",
              "    </tr>\n",
              "  </thead>\n",
              "  <tbody>\n",
              "    <tr>\n",
              "      <th>0</th>\n",
              "      <td>405</td>\n",
              "      <td>55784666</td>\n",
              "      <td>168.63</td>\n",
              "      <td>1/1/2022</td>\n",
              "      <td>10:53:11 AM</td>\n",
              "      <td>CFIOR</td>\n",
              "      <td>1</td>\n",
              "      <td>ERRO DE LANÇAMENTO</td>\n",
              "    </tr>\n",
              "    <tr>\n",
              "      <th>1</th>\n",
              "      <td>511</td>\n",
              "      <td>55849601</td>\n",
              "      <td>-240.00</td>\n",
              "      <td>1/1/2022</td>\n",
              "      <td>12:18:41 PM</td>\n",
              "      <td>CFIOR</td>\n",
              "      <td>1</td>\n",
              "      <td>VALOR LANÇADO INCORRET</td>\n",
              "    </tr>\n",
              "    <tr>\n",
              "      <th>2</th>\n",
              "      <td>805</td>\n",
              "      <td>55512062</td>\n",
              "      <td>-291.90</td>\n",
              "      <td>1/1/2022</td>\n",
              "      <td>11:17:00 AM</td>\n",
              "      <td>CFIOR</td>\n",
              "      <td>1</td>\n",
              "      <td>ERRO DE LANÇAMENTO</td>\n",
              "    </tr>\n",
              "    <tr>\n",
              "      <th>3</th>\n",
              "      <td>805</td>\n",
              "      <td>55512062</td>\n",
              "      <td>-7.27</td>\n",
              "      <td>1/1/2022</td>\n",
              "      <td>11:17:00 AM</td>\n",
              "      <td>CFIOR</td>\n",
              "      <td>1</td>\n",
              "      <td>ERRO DE LANÇAMENTO</td>\n",
              "    </tr>\n",
              "    <tr>\n",
              "      <th>4</th>\n",
              "      <td>805</td>\n",
              "      <td>55512062</td>\n",
              "      <td>-291.90</td>\n",
              "      <td>1/1/2022</td>\n",
              "      <td>11:17:00 AM</td>\n",
              "      <td>CFIOR</td>\n",
              "      <td>1</td>\n",
              "      <td>ERRO DE LANÇAMENTO</td>\n",
              "    </tr>\n",
              "  </tbody>\n",
              "</table>\n",
              "</div>\n",
              "      <button class=\"colab-df-convert\" onclick=\"convertToInteractive('df-aba0ce53-f09d-4f63-98a4-146921f1c508')\"\n",
              "              title=\"Convert this dataframe to an interactive table.\"\n",
              "              style=\"display:none;\">\n",
              "        \n",
              "  <svg xmlns=\"http://www.w3.org/2000/svg\" height=\"24px\"viewBox=\"0 0 24 24\"\n",
              "       width=\"24px\">\n",
              "    <path d=\"M0 0h24v24H0V0z\" fill=\"none\"/>\n",
              "    <path d=\"M18.56 5.44l.94 2.06.94-2.06 2.06-.94-2.06-.94-.94-2.06-.94 2.06-2.06.94zm-11 1L8.5 8.5l.94-2.06 2.06-.94-2.06-.94L8.5 2.5l-.94 2.06-2.06.94zm10 10l.94 2.06.94-2.06 2.06-.94-2.06-.94-.94-2.06-.94 2.06-2.06.94z\"/><path d=\"M17.41 7.96l-1.37-1.37c-.4-.4-.92-.59-1.43-.59-.52 0-1.04.2-1.43.59L10.3 9.45l-7.72 7.72c-.78.78-.78 2.05 0 2.83L4 21.41c.39.39.9.59 1.41.59.51 0 1.02-.2 1.41-.59l7.78-7.78 2.81-2.81c.8-.78.8-2.07 0-2.86zM5.41 20L4 18.59l7.72-7.72 1.47 1.35L5.41 20z\"/>\n",
              "  </svg>\n",
              "      </button>\n",
              "      \n",
              "  <style>\n",
              "    .colab-df-container {\n",
              "      display:flex;\n",
              "      flex-wrap:wrap;\n",
              "      gap: 12px;\n",
              "    }\n",
              "\n",
              "    .colab-df-convert {\n",
              "      background-color: #E8F0FE;\n",
              "      border: none;\n",
              "      border-radius: 50%;\n",
              "      cursor: pointer;\n",
              "      display: none;\n",
              "      fill: #1967D2;\n",
              "      height: 32px;\n",
              "      padding: 0 0 0 0;\n",
              "      width: 32px;\n",
              "    }\n",
              "\n",
              "    .colab-df-convert:hover {\n",
              "      background-color: #E2EBFA;\n",
              "      box-shadow: 0px 1px 2px rgba(60, 64, 67, 0.3), 0px 1px 3px 1px rgba(60, 64, 67, 0.15);\n",
              "      fill: #174EA6;\n",
              "    }\n",
              "\n",
              "    [theme=dark] .colab-df-convert {\n",
              "      background-color: #3B4455;\n",
              "      fill: #D2E3FC;\n",
              "    }\n",
              "\n",
              "    [theme=dark] .colab-df-convert:hover {\n",
              "      background-color: #434B5C;\n",
              "      box-shadow: 0px 1px 3px 1px rgba(0, 0, 0, 0.15);\n",
              "      filter: drop-shadow(0px 1px 2px rgba(0, 0, 0, 0.3));\n",
              "      fill: #FFFFFF;\n",
              "    }\n",
              "  </style>\n",
              "\n",
              "      <script>\n",
              "        const buttonEl =\n",
              "          document.querySelector('#df-aba0ce53-f09d-4f63-98a4-146921f1c508 button.colab-df-convert');\n",
              "        buttonEl.style.display =\n",
              "          google.colab.kernel.accessAllowed ? 'block' : 'none';\n",
              "\n",
              "        async function convertToInteractive(key) {\n",
              "          const element = document.querySelector('#df-aba0ce53-f09d-4f63-98a4-146921f1c508');\n",
              "          const dataTable =\n",
              "            await google.colab.kernel.invokeFunction('convertToInteractive',\n",
              "                                                     [key], {});\n",
              "          if (!dataTable) return;\n",
              "\n",
              "          const docLinkHtml = 'Like what you see? Visit the ' +\n",
              "            '<a target=\"_blank\" href=https://colab.research.google.com/notebooks/data_table.ipynb>data table notebook</a>'\n",
              "            + ' to learn more about interactive tables.';\n",
              "          element.innerHTML = '';\n",
              "          dataTable['output_type'] = 'display_data';\n",
              "          await google.colab.output.renderOutput(dataTable, element);\n",
              "          const docLink = document.createElement('div');\n",
              "          docLink.innerHTML = docLinkHtml;\n",
              "          element.appendChild(docLink);\n",
              "        }\n",
              "      </script>\n",
              "    </div>\n",
              "  </div>\n",
              "  "
            ]
          },
          "metadata": {},
          "execution_count": 50
        }
      ]
    },
    {
      "cell_type": "markdown",
      "source": [
        "### Fevereiro"
      ],
      "metadata": {
        "id": "1Guh-_OE_QA9"
      }
    },
    {
      "cell_type": "code",
      "source": [
        "dataset_fevereiro = pd.read_csv('https://raw.githubusercontent.com/strawndri/slaviero-suct-data-analysis/main/Dados/Estornos/estornos_fevereiro.csv')\n",
        "dataset_fevereiro.head()"
      ],
      "metadata": {
        "id": "8K2H3knH7lCg",
        "outputId": "bf82c387-a5f1-4c2c-9338-cefa6f77bb93",
        "colab": {
          "base_uri": "https://localhost:8080/",
          "height": 206
        }
      },
      "execution_count": 6,
      "outputs": [
        {
          "output_type": "execute_result",
          "data": {
            "text/plain": [
              "      UH     Reserva  Valor      Data         Hora      Usuário  Qtde.  \\\n",
              "0  103.0  56071558.0   14.0  2/1/2022   9:12:31 AM       RFELIZ      1   \n",
              "1  109.0  55328253.0  309.5  2/1/2022   9:15:30 AM       RFELIZ      1   \n",
              "2  405.0  56327501.0  180.6  2/1/2022  11:46:32 AM  CALOLIVEIRA      1   \n",
              "3  405.0  56327501.0 -172.0  2/1/2022  11:46:57 AM  CALOLIVEIRA      1   \n",
              "4  405.0  56327501.0   -8.6  2/1/2022  11:46:57 AM  CALOLIVEIRA      1   \n",
              "\n",
              "                   Motivo  \n",
              "0      ERRO DE LANÇAMENTO  \n",
              "1      ERRO DE LANÇAMENTO  \n",
              "2           Erro de Laçto  \n",
              "3  AUTORIZADO PELO GERENT  \n",
              "4  AUTORIZADO PELO GERENT  "
            ],
            "text/html": [
              "\n",
              "  <div id=\"df-1e9ef67c-0f75-496c-bc41-747129554598\">\n",
              "    <div class=\"colab-df-container\">\n",
              "      <div>\n",
              "<style scoped>\n",
              "    .dataframe tbody tr th:only-of-type {\n",
              "        vertical-align: middle;\n",
              "    }\n",
              "\n",
              "    .dataframe tbody tr th {\n",
              "        vertical-align: top;\n",
              "    }\n",
              "\n",
              "    .dataframe thead th {\n",
              "        text-align: right;\n",
              "    }\n",
              "</style>\n",
              "<table border=\"1\" class=\"dataframe\">\n",
              "  <thead>\n",
              "    <tr style=\"text-align: right;\">\n",
              "      <th></th>\n",
              "      <th>UH</th>\n",
              "      <th>Reserva</th>\n",
              "      <th>Valor</th>\n",
              "      <th>Data</th>\n",
              "      <th>Hora</th>\n",
              "      <th>Usuário</th>\n",
              "      <th>Qtde.</th>\n",
              "      <th>Motivo</th>\n",
              "    </tr>\n",
              "  </thead>\n",
              "  <tbody>\n",
              "    <tr>\n",
              "      <th>0</th>\n",
              "      <td>103.0</td>\n",
              "      <td>56071558.0</td>\n",
              "      <td>14.0</td>\n",
              "      <td>2/1/2022</td>\n",
              "      <td>9:12:31 AM</td>\n",
              "      <td>RFELIZ</td>\n",
              "      <td>1</td>\n",
              "      <td>ERRO DE LANÇAMENTO</td>\n",
              "    </tr>\n",
              "    <tr>\n",
              "      <th>1</th>\n",
              "      <td>109.0</td>\n",
              "      <td>55328253.0</td>\n",
              "      <td>309.5</td>\n",
              "      <td>2/1/2022</td>\n",
              "      <td>9:15:30 AM</td>\n",
              "      <td>RFELIZ</td>\n",
              "      <td>1</td>\n",
              "      <td>ERRO DE LANÇAMENTO</td>\n",
              "    </tr>\n",
              "    <tr>\n",
              "      <th>2</th>\n",
              "      <td>405.0</td>\n",
              "      <td>56327501.0</td>\n",
              "      <td>180.6</td>\n",
              "      <td>2/1/2022</td>\n",
              "      <td>11:46:32 AM</td>\n",
              "      <td>CALOLIVEIRA</td>\n",
              "      <td>1</td>\n",
              "      <td>Erro de Laçto</td>\n",
              "    </tr>\n",
              "    <tr>\n",
              "      <th>3</th>\n",
              "      <td>405.0</td>\n",
              "      <td>56327501.0</td>\n",
              "      <td>-172.0</td>\n",
              "      <td>2/1/2022</td>\n",
              "      <td>11:46:57 AM</td>\n",
              "      <td>CALOLIVEIRA</td>\n",
              "      <td>1</td>\n",
              "      <td>AUTORIZADO PELO GERENT</td>\n",
              "    </tr>\n",
              "    <tr>\n",
              "      <th>4</th>\n",
              "      <td>405.0</td>\n",
              "      <td>56327501.0</td>\n",
              "      <td>-8.6</td>\n",
              "      <td>2/1/2022</td>\n",
              "      <td>11:46:57 AM</td>\n",
              "      <td>CALOLIVEIRA</td>\n",
              "      <td>1</td>\n",
              "      <td>AUTORIZADO PELO GERENT</td>\n",
              "    </tr>\n",
              "  </tbody>\n",
              "</table>\n",
              "</div>\n",
              "      <button class=\"colab-df-convert\" onclick=\"convertToInteractive('df-1e9ef67c-0f75-496c-bc41-747129554598')\"\n",
              "              title=\"Convert this dataframe to an interactive table.\"\n",
              "              style=\"display:none;\">\n",
              "        \n",
              "  <svg xmlns=\"http://www.w3.org/2000/svg\" height=\"24px\"viewBox=\"0 0 24 24\"\n",
              "       width=\"24px\">\n",
              "    <path d=\"M0 0h24v24H0V0z\" fill=\"none\"/>\n",
              "    <path d=\"M18.56 5.44l.94 2.06.94-2.06 2.06-.94-2.06-.94-.94-2.06-.94 2.06-2.06.94zm-11 1L8.5 8.5l.94-2.06 2.06-.94-2.06-.94L8.5 2.5l-.94 2.06-2.06.94zm10 10l.94 2.06.94-2.06 2.06-.94-2.06-.94-.94-2.06-.94 2.06-2.06.94z\"/><path d=\"M17.41 7.96l-1.37-1.37c-.4-.4-.92-.59-1.43-.59-.52 0-1.04.2-1.43.59L10.3 9.45l-7.72 7.72c-.78.78-.78 2.05 0 2.83L4 21.41c.39.39.9.59 1.41.59.51 0 1.02-.2 1.41-.59l7.78-7.78 2.81-2.81c.8-.78.8-2.07 0-2.86zM5.41 20L4 18.59l7.72-7.72 1.47 1.35L5.41 20z\"/>\n",
              "  </svg>\n",
              "      </button>\n",
              "      \n",
              "  <style>\n",
              "    .colab-df-container {\n",
              "      display:flex;\n",
              "      flex-wrap:wrap;\n",
              "      gap: 12px;\n",
              "    }\n",
              "\n",
              "    .colab-df-convert {\n",
              "      background-color: #E8F0FE;\n",
              "      border: none;\n",
              "      border-radius: 50%;\n",
              "      cursor: pointer;\n",
              "      display: none;\n",
              "      fill: #1967D2;\n",
              "      height: 32px;\n",
              "      padding: 0 0 0 0;\n",
              "      width: 32px;\n",
              "    }\n",
              "\n",
              "    .colab-df-convert:hover {\n",
              "      background-color: #E2EBFA;\n",
              "      box-shadow: 0px 1px 2px rgba(60, 64, 67, 0.3), 0px 1px 3px 1px rgba(60, 64, 67, 0.15);\n",
              "      fill: #174EA6;\n",
              "    }\n",
              "\n",
              "    [theme=dark] .colab-df-convert {\n",
              "      background-color: #3B4455;\n",
              "      fill: #D2E3FC;\n",
              "    }\n",
              "\n",
              "    [theme=dark] .colab-df-convert:hover {\n",
              "      background-color: #434B5C;\n",
              "      box-shadow: 0px 1px 3px 1px rgba(0, 0, 0, 0.15);\n",
              "      filter: drop-shadow(0px 1px 2px rgba(0, 0, 0, 0.3));\n",
              "      fill: #FFFFFF;\n",
              "    }\n",
              "  </style>\n",
              "\n",
              "      <script>\n",
              "        const buttonEl =\n",
              "          document.querySelector('#df-1e9ef67c-0f75-496c-bc41-747129554598 button.colab-df-convert');\n",
              "        buttonEl.style.display =\n",
              "          google.colab.kernel.accessAllowed ? 'block' : 'none';\n",
              "\n",
              "        async function convertToInteractive(key) {\n",
              "          const element = document.querySelector('#df-1e9ef67c-0f75-496c-bc41-747129554598');\n",
              "          const dataTable =\n",
              "            await google.colab.kernel.invokeFunction('convertToInteractive',\n",
              "                                                     [key], {});\n",
              "          if (!dataTable) return;\n",
              "\n",
              "          const docLinkHtml = 'Like what you see? Visit the ' +\n",
              "            '<a target=\"_blank\" href=https://colab.research.google.com/notebooks/data_table.ipynb>data table notebook</a>'\n",
              "            + ' to learn more about interactive tables.';\n",
              "          element.innerHTML = '';\n",
              "          dataTable['output_type'] = 'display_data';\n",
              "          await google.colab.output.renderOutput(dataTable, element);\n",
              "          const docLink = document.createElement('div');\n",
              "          docLink.innerHTML = docLinkHtml;\n",
              "          element.appendChild(docLink);\n",
              "        }\n",
              "      </script>\n",
              "    </div>\n",
              "  </div>\n",
              "  "
            ]
          },
          "metadata": {},
          "execution_count": 6
        }
      ]
    },
    {
      "cell_type": "markdown",
      "source": [
        "### Março"
      ],
      "metadata": {
        "id": "hVUFIqY7_RjX"
      }
    },
    {
      "cell_type": "code",
      "source": [
        "dataset_marco = pd.read_csv('https://raw.githubusercontent.com/strawndri/slaviero-suct-data-analysis/main/Dados/Estornos/estornos_marco.csv')\n",
        "dataset_marco.head()"
      ],
      "metadata": {
        "id": "mOk3wCjC_hd3",
        "outputId": "d3abf8a8-b190-4e4f-ea05-e240fa98c143",
        "colab": {
          "base_uri": "https://localhost:8080/",
          "height": 206
        }
      },
      "execution_count": 7,
      "outputs": [
        {
          "output_type": "execute_result",
          "data": {
            "text/plain": [
              "       UH     Reserva   Valor      Data         Hora        Usuário  Qtde  \\\n",
              "0  1011.0  56559615.0 -185.57  3/1/2022  02:05:00 AM       RFREITAS     1   \n",
              "1   106.0  56752172.0   -1.25  3/1/2022  04:33:02 PM  FRIGOBAR.SUCT     1   \n",
              "2   106.0  56752172.0  -24.93  3/1/2022  04:33:02 PM  FRIGOBAR.SUCT     1   \n",
              "3   108.0  56679610.0  711.12  3/1/2022  01:42:06 AM       RFREITAS     1   \n",
              "4   108.0  56679610.0   -0.01  3/1/2022  01:42:25 AM       RFREITAS     1   \n",
              "\n",
              "               Motivo  \n",
              "0     ERRO DO SISTEMA  \n",
              "1  ERRO DE LANÇAMENTO  \n",
              "2  ERRO DE LANÇAMENTO  \n",
              "3       Erro de Laçto  \n",
              "4     ERRO DO SISTEMA  "
            ],
            "text/html": [
              "\n",
              "  <div id=\"df-6683e016-a63a-4f5a-b0a2-5aa4d65524c3\">\n",
              "    <div class=\"colab-df-container\">\n",
              "      <div>\n",
              "<style scoped>\n",
              "    .dataframe tbody tr th:only-of-type {\n",
              "        vertical-align: middle;\n",
              "    }\n",
              "\n",
              "    .dataframe tbody tr th {\n",
              "        vertical-align: top;\n",
              "    }\n",
              "\n",
              "    .dataframe thead th {\n",
              "        text-align: right;\n",
              "    }\n",
              "</style>\n",
              "<table border=\"1\" class=\"dataframe\">\n",
              "  <thead>\n",
              "    <tr style=\"text-align: right;\">\n",
              "      <th></th>\n",
              "      <th>UH</th>\n",
              "      <th>Reserva</th>\n",
              "      <th>Valor</th>\n",
              "      <th>Data</th>\n",
              "      <th>Hora</th>\n",
              "      <th>Usuário</th>\n",
              "      <th>Qtde</th>\n",
              "      <th>Motivo</th>\n",
              "    </tr>\n",
              "  </thead>\n",
              "  <tbody>\n",
              "    <tr>\n",
              "      <th>0</th>\n",
              "      <td>1011.0</td>\n",
              "      <td>56559615.0</td>\n",
              "      <td>-185.57</td>\n",
              "      <td>3/1/2022</td>\n",
              "      <td>02:05:00 AM</td>\n",
              "      <td>RFREITAS</td>\n",
              "      <td>1</td>\n",
              "      <td>ERRO DO SISTEMA</td>\n",
              "    </tr>\n",
              "    <tr>\n",
              "      <th>1</th>\n",
              "      <td>106.0</td>\n",
              "      <td>56752172.0</td>\n",
              "      <td>-1.25</td>\n",
              "      <td>3/1/2022</td>\n",
              "      <td>04:33:02 PM</td>\n",
              "      <td>FRIGOBAR.SUCT</td>\n",
              "      <td>1</td>\n",
              "      <td>ERRO DE LANÇAMENTO</td>\n",
              "    </tr>\n",
              "    <tr>\n",
              "      <th>2</th>\n",
              "      <td>106.0</td>\n",
              "      <td>56752172.0</td>\n",
              "      <td>-24.93</td>\n",
              "      <td>3/1/2022</td>\n",
              "      <td>04:33:02 PM</td>\n",
              "      <td>FRIGOBAR.SUCT</td>\n",
              "      <td>1</td>\n",
              "      <td>ERRO DE LANÇAMENTO</td>\n",
              "    </tr>\n",
              "    <tr>\n",
              "      <th>3</th>\n",
              "      <td>108.0</td>\n",
              "      <td>56679610.0</td>\n",
              "      <td>711.12</td>\n",
              "      <td>3/1/2022</td>\n",
              "      <td>01:42:06 AM</td>\n",
              "      <td>RFREITAS</td>\n",
              "      <td>1</td>\n",
              "      <td>Erro de Laçto</td>\n",
              "    </tr>\n",
              "    <tr>\n",
              "      <th>4</th>\n",
              "      <td>108.0</td>\n",
              "      <td>56679610.0</td>\n",
              "      <td>-0.01</td>\n",
              "      <td>3/1/2022</td>\n",
              "      <td>01:42:25 AM</td>\n",
              "      <td>RFREITAS</td>\n",
              "      <td>1</td>\n",
              "      <td>ERRO DO SISTEMA</td>\n",
              "    </tr>\n",
              "  </tbody>\n",
              "</table>\n",
              "</div>\n",
              "      <button class=\"colab-df-convert\" onclick=\"convertToInteractive('df-6683e016-a63a-4f5a-b0a2-5aa4d65524c3')\"\n",
              "              title=\"Convert this dataframe to an interactive table.\"\n",
              "              style=\"display:none;\">\n",
              "        \n",
              "  <svg xmlns=\"http://www.w3.org/2000/svg\" height=\"24px\"viewBox=\"0 0 24 24\"\n",
              "       width=\"24px\">\n",
              "    <path d=\"M0 0h24v24H0V0z\" fill=\"none\"/>\n",
              "    <path d=\"M18.56 5.44l.94 2.06.94-2.06 2.06-.94-2.06-.94-.94-2.06-.94 2.06-2.06.94zm-11 1L8.5 8.5l.94-2.06 2.06-.94-2.06-.94L8.5 2.5l-.94 2.06-2.06.94zm10 10l.94 2.06.94-2.06 2.06-.94-2.06-.94-.94-2.06-.94 2.06-2.06.94z\"/><path d=\"M17.41 7.96l-1.37-1.37c-.4-.4-.92-.59-1.43-.59-.52 0-1.04.2-1.43.59L10.3 9.45l-7.72 7.72c-.78.78-.78 2.05 0 2.83L4 21.41c.39.39.9.59 1.41.59.51 0 1.02-.2 1.41-.59l7.78-7.78 2.81-2.81c.8-.78.8-2.07 0-2.86zM5.41 20L4 18.59l7.72-7.72 1.47 1.35L5.41 20z\"/>\n",
              "  </svg>\n",
              "      </button>\n",
              "      \n",
              "  <style>\n",
              "    .colab-df-container {\n",
              "      display:flex;\n",
              "      flex-wrap:wrap;\n",
              "      gap: 12px;\n",
              "    }\n",
              "\n",
              "    .colab-df-convert {\n",
              "      background-color: #E8F0FE;\n",
              "      border: none;\n",
              "      border-radius: 50%;\n",
              "      cursor: pointer;\n",
              "      display: none;\n",
              "      fill: #1967D2;\n",
              "      height: 32px;\n",
              "      padding: 0 0 0 0;\n",
              "      width: 32px;\n",
              "    }\n",
              "\n",
              "    .colab-df-convert:hover {\n",
              "      background-color: #E2EBFA;\n",
              "      box-shadow: 0px 1px 2px rgba(60, 64, 67, 0.3), 0px 1px 3px 1px rgba(60, 64, 67, 0.15);\n",
              "      fill: #174EA6;\n",
              "    }\n",
              "\n",
              "    [theme=dark] .colab-df-convert {\n",
              "      background-color: #3B4455;\n",
              "      fill: #D2E3FC;\n",
              "    }\n",
              "\n",
              "    [theme=dark] .colab-df-convert:hover {\n",
              "      background-color: #434B5C;\n",
              "      box-shadow: 0px 1px 3px 1px rgba(0, 0, 0, 0.15);\n",
              "      filter: drop-shadow(0px 1px 2px rgba(0, 0, 0, 0.3));\n",
              "      fill: #FFFFFF;\n",
              "    }\n",
              "  </style>\n",
              "\n",
              "      <script>\n",
              "        const buttonEl =\n",
              "          document.querySelector('#df-6683e016-a63a-4f5a-b0a2-5aa4d65524c3 button.colab-df-convert');\n",
              "        buttonEl.style.display =\n",
              "          google.colab.kernel.accessAllowed ? 'block' : 'none';\n",
              "\n",
              "        async function convertToInteractive(key) {\n",
              "          const element = document.querySelector('#df-6683e016-a63a-4f5a-b0a2-5aa4d65524c3');\n",
              "          const dataTable =\n",
              "            await google.colab.kernel.invokeFunction('convertToInteractive',\n",
              "                                                     [key], {});\n",
              "          if (!dataTable) return;\n",
              "\n",
              "          const docLinkHtml = 'Like what you see? Visit the ' +\n",
              "            '<a target=\"_blank\" href=https://colab.research.google.com/notebooks/data_table.ipynb>data table notebook</a>'\n",
              "            + ' to learn more about interactive tables.';\n",
              "          element.innerHTML = '';\n",
              "          dataTable['output_type'] = 'display_data';\n",
              "          await google.colab.output.renderOutput(dataTable, element);\n",
              "          const docLink = document.createElement('div');\n",
              "          docLink.innerHTML = docLinkHtml;\n",
              "          element.appendChild(docLink);\n",
              "        }\n",
              "      </script>\n",
              "    </div>\n",
              "  </div>\n",
              "  "
            ]
          },
          "metadata": {},
          "execution_count": 7
        }
      ]
    },
    {
      "cell_type": "markdown",
      "source": [
        "### Abril"
      ],
      "metadata": {
        "id": "GWNDiLc6_Tnd"
      }
    },
    {
      "cell_type": "code",
      "source": [
        "dataset_abril = pd.read_csv('https://raw.githubusercontent.com/strawndri/slaviero-suct-data-analysis/main/Dados/Estornos/estornos_abril.csv')\n",
        "dataset_abril.head()"
      ],
      "metadata": {
        "id": "NYHKiFk97q5L",
        "outputId": "2c3e6410-5776-4e27-e542-613bc8ae6d10",
        "colab": {
          "base_uri": "https://localhost:8080/",
          "height": 0
        }
      },
      "execution_count": 8,
      "outputs": [
        {
          "output_type": "execute_result",
          "data": {
            "text/plain": [
              "       UH     Reserva    Valor      Data         Hora    Usuário  Qtde.  \\\n",
              "0  1009.0  57337101.0   221.00  4/1/2022   8:27:00 PM      CFIOR      1   \n",
              "1  1010.0  56984766.0  -257.66  4/1/2022  12:40:00 PM  LPADOVINO      1   \n",
              "2  1010.0  56984766.0   -12.88  4/1/2022  12:40:00 PM  LPADOVINO      1   \n",
              "3  1102.0  57181322.0  1035.55  4/1/2022   4:17:12 AM     RFELIZ      1   \n",
              "4  1103.0  57072787.0   978.60  4/1/2022   2:55:09 AM     RFELIZ      1   \n",
              "\n",
              "               Motivo  \n",
              "0  ERRO DE LANÇAMENTO  \n",
              "1  ERRO DE LANÇAMENTO  \n",
              "2  ERRO DE LANÇAMENTO  \n",
              "3       Erro de Laçto  \n",
              "4       Erro de Laçto  "
            ],
            "text/html": [
              "\n",
              "  <div id=\"df-44cfed22-ed12-49ea-a48b-c1ddb8a7afd1\">\n",
              "    <div class=\"colab-df-container\">\n",
              "      <div>\n",
              "<style scoped>\n",
              "    .dataframe tbody tr th:only-of-type {\n",
              "        vertical-align: middle;\n",
              "    }\n",
              "\n",
              "    .dataframe tbody tr th {\n",
              "        vertical-align: top;\n",
              "    }\n",
              "\n",
              "    .dataframe thead th {\n",
              "        text-align: right;\n",
              "    }\n",
              "</style>\n",
              "<table border=\"1\" class=\"dataframe\">\n",
              "  <thead>\n",
              "    <tr style=\"text-align: right;\">\n",
              "      <th></th>\n",
              "      <th>UH</th>\n",
              "      <th>Reserva</th>\n",
              "      <th>Valor</th>\n",
              "      <th>Data</th>\n",
              "      <th>Hora</th>\n",
              "      <th>Usuário</th>\n",
              "      <th>Qtde.</th>\n",
              "      <th>Motivo</th>\n",
              "    </tr>\n",
              "  </thead>\n",
              "  <tbody>\n",
              "    <tr>\n",
              "      <th>0</th>\n",
              "      <td>1009.0</td>\n",
              "      <td>57337101.0</td>\n",
              "      <td>221.00</td>\n",
              "      <td>4/1/2022</td>\n",
              "      <td>8:27:00 PM</td>\n",
              "      <td>CFIOR</td>\n",
              "      <td>1</td>\n",
              "      <td>ERRO DE LANÇAMENTO</td>\n",
              "    </tr>\n",
              "    <tr>\n",
              "      <th>1</th>\n",
              "      <td>1010.0</td>\n",
              "      <td>56984766.0</td>\n",
              "      <td>-257.66</td>\n",
              "      <td>4/1/2022</td>\n",
              "      <td>12:40:00 PM</td>\n",
              "      <td>LPADOVINO</td>\n",
              "      <td>1</td>\n",
              "      <td>ERRO DE LANÇAMENTO</td>\n",
              "    </tr>\n",
              "    <tr>\n",
              "      <th>2</th>\n",
              "      <td>1010.0</td>\n",
              "      <td>56984766.0</td>\n",
              "      <td>-12.88</td>\n",
              "      <td>4/1/2022</td>\n",
              "      <td>12:40:00 PM</td>\n",
              "      <td>LPADOVINO</td>\n",
              "      <td>1</td>\n",
              "      <td>ERRO DE LANÇAMENTO</td>\n",
              "    </tr>\n",
              "    <tr>\n",
              "      <th>3</th>\n",
              "      <td>1102.0</td>\n",
              "      <td>57181322.0</td>\n",
              "      <td>1035.55</td>\n",
              "      <td>4/1/2022</td>\n",
              "      <td>4:17:12 AM</td>\n",
              "      <td>RFELIZ</td>\n",
              "      <td>1</td>\n",
              "      <td>Erro de Laçto</td>\n",
              "    </tr>\n",
              "    <tr>\n",
              "      <th>4</th>\n",
              "      <td>1103.0</td>\n",
              "      <td>57072787.0</td>\n",
              "      <td>978.60</td>\n",
              "      <td>4/1/2022</td>\n",
              "      <td>2:55:09 AM</td>\n",
              "      <td>RFELIZ</td>\n",
              "      <td>1</td>\n",
              "      <td>Erro de Laçto</td>\n",
              "    </tr>\n",
              "  </tbody>\n",
              "</table>\n",
              "</div>\n",
              "      <button class=\"colab-df-convert\" onclick=\"convertToInteractive('df-44cfed22-ed12-49ea-a48b-c1ddb8a7afd1')\"\n",
              "              title=\"Convert this dataframe to an interactive table.\"\n",
              "              style=\"display:none;\">\n",
              "        \n",
              "  <svg xmlns=\"http://www.w3.org/2000/svg\" height=\"24px\"viewBox=\"0 0 24 24\"\n",
              "       width=\"24px\">\n",
              "    <path d=\"M0 0h24v24H0V0z\" fill=\"none\"/>\n",
              "    <path d=\"M18.56 5.44l.94 2.06.94-2.06 2.06-.94-2.06-.94-.94-2.06-.94 2.06-2.06.94zm-11 1L8.5 8.5l.94-2.06 2.06-.94-2.06-.94L8.5 2.5l-.94 2.06-2.06.94zm10 10l.94 2.06.94-2.06 2.06-.94-2.06-.94-.94-2.06-.94 2.06-2.06.94z\"/><path d=\"M17.41 7.96l-1.37-1.37c-.4-.4-.92-.59-1.43-.59-.52 0-1.04.2-1.43.59L10.3 9.45l-7.72 7.72c-.78.78-.78 2.05 0 2.83L4 21.41c.39.39.9.59 1.41.59.51 0 1.02-.2 1.41-.59l7.78-7.78 2.81-2.81c.8-.78.8-2.07 0-2.86zM5.41 20L4 18.59l7.72-7.72 1.47 1.35L5.41 20z\"/>\n",
              "  </svg>\n",
              "      </button>\n",
              "      \n",
              "  <style>\n",
              "    .colab-df-container {\n",
              "      display:flex;\n",
              "      flex-wrap:wrap;\n",
              "      gap: 12px;\n",
              "    }\n",
              "\n",
              "    .colab-df-convert {\n",
              "      background-color: #E8F0FE;\n",
              "      border: none;\n",
              "      border-radius: 50%;\n",
              "      cursor: pointer;\n",
              "      display: none;\n",
              "      fill: #1967D2;\n",
              "      height: 32px;\n",
              "      padding: 0 0 0 0;\n",
              "      width: 32px;\n",
              "    }\n",
              "\n",
              "    .colab-df-convert:hover {\n",
              "      background-color: #E2EBFA;\n",
              "      box-shadow: 0px 1px 2px rgba(60, 64, 67, 0.3), 0px 1px 3px 1px rgba(60, 64, 67, 0.15);\n",
              "      fill: #174EA6;\n",
              "    }\n",
              "\n",
              "    [theme=dark] .colab-df-convert {\n",
              "      background-color: #3B4455;\n",
              "      fill: #D2E3FC;\n",
              "    }\n",
              "\n",
              "    [theme=dark] .colab-df-convert:hover {\n",
              "      background-color: #434B5C;\n",
              "      box-shadow: 0px 1px 3px 1px rgba(0, 0, 0, 0.15);\n",
              "      filter: drop-shadow(0px 1px 2px rgba(0, 0, 0, 0.3));\n",
              "      fill: #FFFFFF;\n",
              "    }\n",
              "  </style>\n",
              "\n",
              "      <script>\n",
              "        const buttonEl =\n",
              "          document.querySelector('#df-44cfed22-ed12-49ea-a48b-c1ddb8a7afd1 button.colab-df-convert');\n",
              "        buttonEl.style.display =\n",
              "          google.colab.kernel.accessAllowed ? 'block' : 'none';\n",
              "\n",
              "        async function convertToInteractive(key) {\n",
              "          const element = document.querySelector('#df-44cfed22-ed12-49ea-a48b-c1ddb8a7afd1');\n",
              "          const dataTable =\n",
              "            await google.colab.kernel.invokeFunction('convertToInteractive',\n",
              "                                                     [key], {});\n",
              "          if (!dataTable) return;\n",
              "\n",
              "          const docLinkHtml = 'Like what you see? Visit the ' +\n",
              "            '<a target=\"_blank\" href=https://colab.research.google.com/notebooks/data_table.ipynb>data table notebook</a>'\n",
              "            + ' to learn more about interactive tables.';\n",
              "          element.innerHTML = '';\n",
              "          dataTable['output_type'] = 'display_data';\n",
              "          await google.colab.output.renderOutput(dataTable, element);\n",
              "          const docLink = document.createElement('div');\n",
              "          docLink.innerHTML = docLinkHtml;\n",
              "          element.appendChild(docLink);\n",
              "        }\n",
              "      </script>\n",
              "    </div>\n",
              "  </div>\n",
              "  "
            ]
          },
          "metadata": {},
          "execution_count": 8
        }
      ]
    },
    {
      "cell_type": "markdown",
      "source": [
        "### Maio"
      ],
      "metadata": {
        "id": "SqxE0_E1dPhM"
      }
    },
    {
      "cell_type": "code",
      "source": [
        "dataset_maio = pd.read_csv('https://raw.githubusercontent.com/strawndri/slaviero-suct-data-analysis/main/Dados/Estornos/estornos_maio.csv')\n",
        "dataset_maio.head()"
      ],
      "metadata": {
        "colab": {
          "base_uri": "https://localhost:8080/",
          "height": 0
        },
        "id": "GSOHcTxelEV4",
        "outputId": "0b14146c-b967-4de9-f4fb-301187e5f05e"
      },
      "execution_count": 9,
      "outputs": [
        {
          "output_type": "execute_result",
          "data": {
            "text/plain": [
              "      UH     Reserva   Valor      Data         Hora Usuário  Qtde  \\\n",
              "0  107.0  57429723.0 -293.00  5/1/2022  10:04:21 AM  RFELIZ     1   \n",
              "1  208.0  57825777.0   32.25  5/1/2022   1:48:40 AM  RFELIZ     1   \n",
              "2  510.0  57813205.0 -196.79  5/1/2022  12:14:57 PM  RFELIZ     1   \n",
              "3  502.0  57837422.0 -196.24  5/1/2022  11:24:00 PM  RFELIZ     1   \n",
              "4  510.0  57813205.0  -30.00  5/1/2022  12:13:47 PM  RFELIZ     1   \n",
              "\n",
              "               Motivo  \n",
              "0     ERRO DO SISTEMA  \n",
              "1  ERRO DE LANÇAMENTO  \n",
              "2  ERRO DE LANÇAMENTO  \n",
              "3  ERRO DE LANÇAMENTO  \n",
              "4  ERRO DE LANÇAMENTO  "
            ],
            "text/html": [
              "\n",
              "  <div id=\"df-5957850f-942f-4870-96d1-4465b682a9de\">\n",
              "    <div class=\"colab-df-container\">\n",
              "      <div>\n",
              "<style scoped>\n",
              "    .dataframe tbody tr th:only-of-type {\n",
              "        vertical-align: middle;\n",
              "    }\n",
              "\n",
              "    .dataframe tbody tr th {\n",
              "        vertical-align: top;\n",
              "    }\n",
              "\n",
              "    .dataframe thead th {\n",
              "        text-align: right;\n",
              "    }\n",
              "</style>\n",
              "<table border=\"1\" class=\"dataframe\">\n",
              "  <thead>\n",
              "    <tr style=\"text-align: right;\">\n",
              "      <th></th>\n",
              "      <th>UH</th>\n",
              "      <th>Reserva</th>\n",
              "      <th>Valor</th>\n",
              "      <th>Data</th>\n",
              "      <th>Hora</th>\n",
              "      <th>Usuário</th>\n",
              "      <th>Qtde</th>\n",
              "      <th>Motivo</th>\n",
              "    </tr>\n",
              "  </thead>\n",
              "  <tbody>\n",
              "    <tr>\n",
              "      <th>0</th>\n",
              "      <td>107.0</td>\n",
              "      <td>57429723.0</td>\n",
              "      <td>-293.00</td>\n",
              "      <td>5/1/2022</td>\n",
              "      <td>10:04:21 AM</td>\n",
              "      <td>RFELIZ</td>\n",
              "      <td>1</td>\n",
              "      <td>ERRO DO SISTEMA</td>\n",
              "    </tr>\n",
              "    <tr>\n",
              "      <th>1</th>\n",
              "      <td>208.0</td>\n",
              "      <td>57825777.0</td>\n",
              "      <td>32.25</td>\n",
              "      <td>5/1/2022</td>\n",
              "      <td>1:48:40 AM</td>\n",
              "      <td>RFELIZ</td>\n",
              "      <td>1</td>\n",
              "      <td>ERRO DE LANÇAMENTO</td>\n",
              "    </tr>\n",
              "    <tr>\n",
              "      <th>2</th>\n",
              "      <td>510.0</td>\n",
              "      <td>57813205.0</td>\n",
              "      <td>-196.79</td>\n",
              "      <td>5/1/2022</td>\n",
              "      <td>12:14:57 PM</td>\n",
              "      <td>RFELIZ</td>\n",
              "      <td>1</td>\n",
              "      <td>ERRO DE LANÇAMENTO</td>\n",
              "    </tr>\n",
              "    <tr>\n",
              "      <th>3</th>\n",
              "      <td>502.0</td>\n",
              "      <td>57837422.0</td>\n",
              "      <td>-196.24</td>\n",
              "      <td>5/1/2022</td>\n",
              "      <td>11:24:00 PM</td>\n",
              "      <td>RFELIZ</td>\n",
              "      <td>1</td>\n",
              "      <td>ERRO DE LANÇAMENTO</td>\n",
              "    </tr>\n",
              "    <tr>\n",
              "      <th>4</th>\n",
              "      <td>510.0</td>\n",
              "      <td>57813205.0</td>\n",
              "      <td>-30.00</td>\n",
              "      <td>5/1/2022</td>\n",
              "      <td>12:13:47 PM</td>\n",
              "      <td>RFELIZ</td>\n",
              "      <td>1</td>\n",
              "      <td>ERRO DE LANÇAMENTO</td>\n",
              "    </tr>\n",
              "  </tbody>\n",
              "</table>\n",
              "</div>\n",
              "      <button class=\"colab-df-convert\" onclick=\"convertToInteractive('df-5957850f-942f-4870-96d1-4465b682a9de')\"\n",
              "              title=\"Convert this dataframe to an interactive table.\"\n",
              "              style=\"display:none;\">\n",
              "        \n",
              "  <svg xmlns=\"http://www.w3.org/2000/svg\" height=\"24px\"viewBox=\"0 0 24 24\"\n",
              "       width=\"24px\">\n",
              "    <path d=\"M0 0h24v24H0V0z\" fill=\"none\"/>\n",
              "    <path d=\"M18.56 5.44l.94 2.06.94-2.06 2.06-.94-2.06-.94-.94-2.06-.94 2.06-2.06.94zm-11 1L8.5 8.5l.94-2.06 2.06-.94-2.06-.94L8.5 2.5l-.94 2.06-2.06.94zm10 10l.94 2.06.94-2.06 2.06-.94-2.06-.94-.94-2.06-.94 2.06-2.06.94z\"/><path d=\"M17.41 7.96l-1.37-1.37c-.4-.4-.92-.59-1.43-.59-.52 0-1.04.2-1.43.59L10.3 9.45l-7.72 7.72c-.78.78-.78 2.05 0 2.83L4 21.41c.39.39.9.59 1.41.59.51 0 1.02-.2 1.41-.59l7.78-7.78 2.81-2.81c.8-.78.8-2.07 0-2.86zM5.41 20L4 18.59l7.72-7.72 1.47 1.35L5.41 20z\"/>\n",
              "  </svg>\n",
              "      </button>\n",
              "      \n",
              "  <style>\n",
              "    .colab-df-container {\n",
              "      display:flex;\n",
              "      flex-wrap:wrap;\n",
              "      gap: 12px;\n",
              "    }\n",
              "\n",
              "    .colab-df-convert {\n",
              "      background-color: #E8F0FE;\n",
              "      border: none;\n",
              "      border-radius: 50%;\n",
              "      cursor: pointer;\n",
              "      display: none;\n",
              "      fill: #1967D2;\n",
              "      height: 32px;\n",
              "      padding: 0 0 0 0;\n",
              "      width: 32px;\n",
              "    }\n",
              "\n",
              "    .colab-df-convert:hover {\n",
              "      background-color: #E2EBFA;\n",
              "      box-shadow: 0px 1px 2px rgba(60, 64, 67, 0.3), 0px 1px 3px 1px rgba(60, 64, 67, 0.15);\n",
              "      fill: #174EA6;\n",
              "    }\n",
              "\n",
              "    [theme=dark] .colab-df-convert {\n",
              "      background-color: #3B4455;\n",
              "      fill: #D2E3FC;\n",
              "    }\n",
              "\n",
              "    [theme=dark] .colab-df-convert:hover {\n",
              "      background-color: #434B5C;\n",
              "      box-shadow: 0px 1px 3px 1px rgba(0, 0, 0, 0.15);\n",
              "      filter: drop-shadow(0px 1px 2px rgba(0, 0, 0, 0.3));\n",
              "      fill: #FFFFFF;\n",
              "    }\n",
              "  </style>\n",
              "\n",
              "      <script>\n",
              "        const buttonEl =\n",
              "          document.querySelector('#df-5957850f-942f-4870-96d1-4465b682a9de button.colab-df-convert');\n",
              "        buttonEl.style.display =\n",
              "          google.colab.kernel.accessAllowed ? 'block' : 'none';\n",
              "\n",
              "        async function convertToInteractive(key) {\n",
              "          const element = document.querySelector('#df-5957850f-942f-4870-96d1-4465b682a9de');\n",
              "          const dataTable =\n",
              "            await google.colab.kernel.invokeFunction('convertToInteractive',\n",
              "                                                     [key], {});\n",
              "          if (!dataTable) return;\n",
              "\n",
              "          const docLinkHtml = 'Like what you see? Visit the ' +\n",
              "            '<a target=\"_blank\" href=https://colab.research.google.com/notebooks/data_table.ipynb>data table notebook</a>'\n",
              "            + ' to learn more about interactive tables.';\n",
              "          element.innerHTML = '';\n",
              "          dataTable['output_type'] = 'display_data';\n",
              "          await google.colab.output.renderOutput(dataTable, element);\n",
              "          const docLink = document.createElement('div');\n",
              "          docLink.innerHTML = docLinkHtml;\n",
              "          element.appendChild(docLink);\n",
              "        }\n",
              "      </script>\n",
              "    </div>\n",
              "  </div>\n",
              "  "
            ]
          },
          "metadata": {},
          "execution_count": 9
        }
      ]
    },
    {
      "cell_type": "markdown",
      "source": [
        "### Junho"
      ],
      "metadata": {
        "id": "-K2x7mKddSGj"
      }
    },
    {
      "cell_type": "code",
      "source": [
        "dataset_junho = pd.read_csv('https://raw.githubusercontent.com/strawndri/slaviero-suct-data-analysis/main/Dados/Estornos/estornos_junho.csv')\n",
        "dataset_junho.head()"
      ],
      "metadata": {
        "colab": {
          "base_uri": "https://localhost:8080/",
          "height": 0
        },
        "id": "wh4g6WeBcn27",
        "outputId": "edd39081-b386-468c-c46c-7200e2ed4b4a"
      },
      "execution_count": 10,
      "outputs": [
        {
          "output_type": "execute_result",
          "data": {
            "text/plain": [
              "       UH     Reserva   Valor      Data         Hora      Usuário  Qtde  \\\n",
              "0  1008.0  58380248.0    8.00  6/1/2022  12:00:33 PM     IGPESSOA     1   \n",
              "1   105.0  57936668.0  144.90  6/1/2022   7:28:51 PM  CALOLIVEIRA     1   \n",
              "2   109.0  57850003.0  470.40  6/1/2022   9:02:50 AM    LPADOVINO     1   \n",
              "3   205.0  58380973.0   -5.00  6/1/2022  12:36:00 PM  CALOLIVEIRA     1   \n",
              "4   205.0  58380973.0   -3.94  6/1/2022  12:36:00 PM  CALOLIVEIRA     1   \n",
              "\n",
              "                   Motivo  Unnamed: 8  \n",
              "0     LCTO EM DUPLICIDADE         NaN  \n",
              "1           Erro de Laçto         NaN  \n",
              "2           Erro de Laçto         NaN  \n",
              "3  AUTORIZADO PELO GERENT         NaN  \n",
              "4  AUTORIZADO PELO GERENT         NaN  "
            ],
            "text/html": [
              "\n",
              "  <div id=\"df-059e1837-d1f9-42a0-9863-81c052e8d184\">\n",
              "    <div class=\"colab-df-container\">\n",
              "      <div>\n",
              "<style scoped>\n",
              "    .dataframe tbody tr th:only-of-type {\n",
              "        vertical-align: middle;\n",
              "    }\n",
              "\n",
              "    .dataframe tbody tr th {\n",
              "        vertical-align: top;\n",
              "    }\n",
              "\n",
              "    .dataframe thead th {\n",
              "        text-align: right;\n",
              "    }\n",
              "</style>\n",
              "<table border=\"1\" class=\"dataframe\">\n",
              "  <thead>\n",
              "    <tr style=\"text-align: right;\">\n",
              "      <th></th>\n",
              "      <th>UH</th>\n",
              "      <th>Reserva</th>\n",
              "      <th>Valor</th>\n",
              "      <th>Data</th>\n",
              "      <th>Hora</th>\n",
              "      <th>Usuário</th>\n",
              "      <th>Qtde</th>\n",
              "      <th>Motivo</th>\n",
              "      <th>Unnamed: 8</th>\n",
              "    </tr>\n",
              "  </thead>\n",
              "  <tbody>\n",
              "    <tr>\n",
              "      <th>0</th>\n",
              "      <td>1008.0</td>\n",
              "      <td>58380248.0</td>\n",
              "      <td>8.00</td>\n",
              "      <td>6/1/2022</td>\n",
              "      <td>12:00:33 PM</td>\n",
              "      <td>IGPESSOA</td>\n",
              "      <td>1</td>\n",
              "      <td>LCTO EM DUPLICIDADE</td>\n",
              "      <td>NaN</td>\n",
              "    </tr>\n",
              "    <tr>\n",
              "      <th>1</th>\n",
              "      <td>105.0</td>\n",
              "      <td>57936668.0</td>\n",
              "      <td>144.90</td>\n",
              "      <td>6/1/2022</td>\n",
              "      <td>7:28:51 PM</td>\n",
              "      <td>CALOLIVEIRA</td>\n",
              "      <td>1</td>\n",
              "      <td>Erro de Laçto</td>\n",
              "      <td>NaN</td>\n",
              "    </tr>\n",
              "    <tr>\n",
              "      <th>2</th>\n",
              "      <td>109.0</td>\n",
              "      <td>57850003.0</td>\n",
              "      <td>470.40</td>\n",
              "      <td>6/1/2022</td>\n",
              "      <td>9:02:50 AM</td>\n",
              "      <td>LPADOVINO</td>\n",
              "      <td>1</td>\n",
              "      <td>Erro de Laçto</td>\n",
              "      <td>NaN</td>\n",
              "    </tr>\n",
              "    <tr>\n",
              "      <th>3</th>\n",
              "      <td>205.0</td>\n",
              "      <td>58380973.0</td>\n",
              "      <td>-5.00</td>\n",
              "      <td>6/1/2022</td>\n",
              "      <td>12:36:00 PM</td>\n",
              "      <td>CALOLIVEIRA</td>\n",
              "      <td>1</td>\n",
              "      <td>AUTORIZADO PELO GERENT</td>\n",
              "      <td>NaN</td>\n",
              "    </tr>\n",
              "    <tr>\n",
              "      <th>4</th>\n",
              "      <td>205.0</td>\n",
              "      <td>58380973.0</td>\n",
              "      <td>-3.94</td>\n",
              "      <td>6/1/2022</td>\n",
              "      <td>12:36:00 PM</td>\n",
              "      <td>CALOLIVEIRA</td>\n",
              "      <td>1</td>\n",
              "      <td>AUTORIZADO PELO GERENT</td>\n",
              "      <td>NaN</td>\n",
              "    </tr>\n",
              "  </tbody>\n",
              "</table>\n",
              "</div>\n",
              "      <button class=\"colab-df-convert\" onclick=\"convertToInteractive('df-059e1837-d1f9-42a0-9863-81c052e8d184')\"\n",
              "              title=\"Convert this dataframe to an interactive table.\"\n",
              "              style=\"display:none;\">\n",
              "        \n",
              "  <svg xmlns=\"http://www.w3.org/2000/svg\" height=\"24px\"viewBox=\"0 0 24 24\"\n",
              "       width=\"24px\">\n",
              "    <path d=\"M0 0h24v24H0V0z\" fill=\"none\"/>\n",
              "    <path d=\"M18.56 5.44l.94 2.06.94-2.06 2.06-.94-2.06-.94-.94-2.06-.94 2.06-2.06.94zm-11 1L8.5 8.5l.94-2.06 2.06-.94-2.06-.94L8.5 2.5l-.94 2.06-2.06.94zm10 10l.94 2.06.94-2.06 2.06-.94-2.06-.94-.94-2.06-.94 2.06-2.06.94z\"/><path d=\"M17.41 7.96l-1.37-1.37c-.4-.4-.92-.59-1.43-.59-.52 0-1.04.2-1.43.59L10.3 9.45l-7.72 7.72c-.78.78-.78 2.05 0 2.83L4 21.41c.39.39.9.59 1.41.59.51 0 1.02-.2 1.41-.59l7.78-7.78 2.81-2.81c.8-.78.8-2.07 0-2.86zM5.41 20L4 18.59l7.72-7.72 1.47 1.35L5.41 20z\"/>\n",
              "  </svg>\n",
              "      </button>\n",
              "      \n",
              "  <style>\n",
              "    .colab-df-container {\n",
              "      display:flex;\n",
              "      flex-wrap:wrap;\n",
              "      gap: 12px;\n",
              "    }\n",
              "\n",
              "    .colab-df-convert {\n",
              "      background-color: #E8F0FE;\n",
              "      border: none;\n",
              "      border-radius: 50%;\n",
              "      cursor: pointer;\n",
              "      display: none;\n",
              "      fill: #1967D2;\n",
              "      height: 32px;\n",
              "      padding: 0 0 0 0;\n",
              "      width: 32px;\n",
              "    }\n",
              "\n",
              "    .colab-df-convert:hover {\n",
              "      background-color: #E2EBFA;\n",
              "      box-shadow: 0px 1px 2px rgba(60, 64, 67, 0.3), 0px 1px 3px 1px rgba(60, 64, 67, 0.15);\n",
              "      fill: #174EA6;\n",
              "    }\n",
              "\n",
              "    [theme=dark] .colab-df-convert {\n",
              "      background-color: #3B4455;\n",
              "      fill: #D2E3FC;\n",
              "    }\n",
              "\n",
              "    [theme=dark] .colab-df-convert:hover {\n",
              "      background-color: #434B5C;\n",
              "      box-shadow: 0px 1px 3px 1px rgba(0, 0, 0, 0.15);\n",
              "      filter: drop-shadow(0px 1px 2px rgba(0, 0, 0, 0.3));\n",
              "      fill: #FFFFFF;\n",
              "    }\n",
              "  </style>\n",
              "\n",
              "      <script>\n",
              "        const buttonEl =\n",
              "          document.querySelector('#df-059e1837-d1f9-42a0-9863-81c052e8d184 button.colab-df-convert');\n",
              "        buttonEl.style.display =\n",
              "          google.colab.kernel.accessAllowed ? 'block' : 'none';\n",
              "\n",
              "        async function convertToInteractive(key) {\n",
              "          const element = document.querySelector('#df-059e1837-d1f9-42a0-9863-81c052e8d184');\n",
              "          const dataTable =\n",
              "            await google.colab.kernel.invokeFunction('convertToInteractive',\n",
              "                                                     [key], {});\n",
              "          if (!dataTable) return;\n",
              "\n",
              "          const docLinkHtml = 'Like what you see? Visit the ' +\n",
              "            '<a target=\"_blank\" href=https://colab.research.google.com/notebooks/data_table.ipynb>data table notebook</a>'\n",
              "            + ' to learn more about interactive tables.';\n",
              "          element.innerHTML = '';\n",
              "          dataTable['output_type'] = 'display_data';\n",
              "          await google.colab.output.renderOutput(dataTable, element);\n",
              "          const docLink = document.createElement('div');\n",
              "          docLink.innerHTML = docLinkHtml;\n",
              "          element.appendChild(docLink);\n",
              "        }\n",
              "      </script>\n",
              "    </div>\n",
              "  </div>\n",
              "  "
            ]
          },
          "metadata": {},
          "execution_count": 10
        }
      ]
    },
    {
      "cell_type": "markdown",
      "source": [
        "### Lista de bases de dados\n",
        "Foi optado pela criação de duas listas, uma contendo somente o nome dos meses e outra com os respectivos dataframes, a fim de atingir uma melhor compreensão."
      ],
      "metadata": {
        "id": "P2aUj1fWir5R"
      }
    },
    {
      "cell_type": "code",
      "source": [
        "meses = ['Janeiro', 'Fevereiro', 'Março', 'Abril', 'Maio', 'Junho']"
      ],
      "metadata": {
        "id": "cTM6iCURa1uD"
      },
      "execution_count": 11,
      "outputs": []
    },
    {
      "cell_type": "code",
      "source": [
        "datasets = [dataset_janeiro, dataset_fevereiro, dataset_marco, dataset_abril, dataset_maio, dataset_junho]"
      ],
      "metadata": {
        "id": "PgzlBAV0ixHl"
      },
      "execution_count": 12,
      "outputs": []
    },
    {
      "cell_type": "markdown",
      "source": [
        "# 2. Tratamento de Dados\n",
        "\n",
        "\n",
        "---\n",
        "\n"
      ],
      "metadata": {
        "id": "Rfu5PMtxquTJ"
      }
    },
    {
      "cell_type": "markdown",
      "source": [
        "## 2.1 Removendo colunas com valores NaN\n",
        "\n",
        "*Obs.: NaN (Not a Number) representa valores que foram perdidos e que não são apresentados na base de dados.*\n",
        "\n",
        "> Os dados não preenchidos na coluna de *UH (Unidade Hoteleira)* referem-se aos estornos de valores que não estão associados diretamente a um hóspede. Por exemplo: é possível haver estornos de \"café passante\", categoria de indíviduos que não se hospedam no hotel, mas consomem deste.\n",
        "\n"
      ],
      "metadata": {
        "id": "TEp86bP4eKNr"
      }
    },
    {
      "cell_type": "code",
      "source": [
        "dataset_junho.info()"
      ],
      "metadata": {
        "colab": {
          "base_uri": "https://localhost:8080/"
        },
        "id": "KYGJlRvzeJnr",
        "outputId": "16f037b3-c3d3-4002-a440-fcb185cdfdfa"
      },
      "execution_count": 13,
      "outputs": [
        {
          "output_type": "stream",
          "name": "stdout",
          "text": [
            "<class 'pandas.core.frame.DataFrame'>\n",
            "RangeIndex: 496 entries, 0 to 495\n",
            "Data columns (total 9 columns):\n",
            " #   Column      Non-Null Count  Dtype  \n",
            "---  ------      --------------  -----  \n",
            " 0   UH          467 non-null    float64\n",
            " 1   Reserva     466 non-null    float64\n",
            " 2   Valor       496 non-null    float64\n",
            " 3   Data        496 non-null    object \n",
            " 4   Hora        496 non-null    object \n",
            " 5   Usuário     496 non-null    object \n",
            " 6   Qtde        496 non-null    int64  \n",
            " 7   Motivo      496 non-null    object \n",
            " 8   Unnamed: 8  0 non-null      float64\n",
            "dtypes: float64(4), int64(1), object(4)\n",
            "memory usage: 35.0+ KB\n"
          ]
        }
      ]
    },
    {
      "cell_type": "markdown",
      "source": [
        "Nota-se que a última coluna \"Unnamed\" veio, provavelmente, de algum erro na formação da tabela.\n",
        "\n",
        "Todos as linhas dessa coluna são NaN e, portanto, devem ser removidos."
      ],
      "metadata": {
        "id": "og8jn6gggM0f"
      }
    },
    {
      "cell_type": "code",
      "source": [
        "dataset_junho.drop(columns = ['Unnamed: 8'], inplace = True)\n",
        "dataset_junho.head()"
      ],
      "metadata": {
        "colab": {
          "base_uri": "https://localhost:8080/",
          "height": 206
        },
        "id": "6pXqA3SagT3t",
        "outputId": "660d3f67-86ea-4d97-c378-3cc2ea825c4d"
      },
      "execution_count": 14,
      "outputs": [
        {
          "output_type": "execute_result",
          "data": {
            "text/plain": [
              "       UH     Reserva   Valor      Data         Hora      Usuário  Qtde  \\\n",
              "0  1008.0  58380248.0    8.00  6/1/2022  12:00:33 PM     IGPESSOA     1   \n",
              "1   105.0  57936668.0  144.90  6/1/2022   7:28:51 PM  CALOLIVEIRA     1   \n",
              "2   109.0  57850003.0  470.40  6/1/2022   9:02:50 AM    LPADOVINO     1   \n",
              "3   205.0  58380973.0   -5.00  6/1/2022  12:36:00 PM  CALOLIVEIRA     1   \n",
              "4   205.0  58380973.0   -3.94  6/1/2022  12:36:00 PM  CALOLIVEIRA     1   \n",
              "\n",
              "                   Motivo  \n",
              "0     LCTO EM DUPLICIDADE  \n",
              "1           Erro de Laçto  \n",
              "2           Erro de Laçto  \n",
              "3  AUTORIZADO PELO GERENT  \n",
              "4  AUTORIZADO PELO GERENT  "
            ],
            "text/html": [
              "\n",
              "  <div id=\"df-151da3ae-f88b-48ae-988a-ee263ec7ad7d\">\n",
              "    <div class=\"colab-df-container\">\n",
              "      <div>\n",
              "<style scoped>\n",
              "    .dataframe tbody tr th:only-of-type {\n",
              "        vertical-align: middle;\n",
              "    }\n",
              "\n",
              "    .dataframe tbody tr th {\n",
              "        vertical-align: top;\n",
              "    }\n",
              "\n",
              "    .dataframe thead th {\n",
              "        text-align: right;\n",
              "    }\n",
              "</style>\n",
              "<table border=\"1\" class=\"dataframe\">\n",
              "  <thead>\n",
              "    <tr style=\"text-align: right;\">\n",
              "      <th></th>\n",
              "      <th>UH</th>\n",
              "      <th>Reserva</th>\n",
              "      <th>Valor</th>\n",
              "      <th>Data</th>\n",
              "      <th>Hora</th>\n",
              "      <th>Usuário</th>\n",
              "      <th>Qtde</th>\n",
              "      <th>Motivo</th>\n",
              "    </tr>\n",
              "  </thead>\n",
              "  <tbody>\n",
              "    <tr>\n",
              "      <th>0</th>\n",
              "      <td>1008.0</td>\n",
              "      <td>58380248.0</td>\n",
              "      <td>8.00</td>\n",
              "      <td>6/1/2022</td>\n",
              "      <td>12:00:33 PM</td>\n",
              "      <td>IGPESSOA</td>\n",
              "      <td>1</td>\n",
              "      <td>LCTO EM DUPLICIDADE</td>\n",
              "    </tr>\n",
              "    <tr>\n",
              "      <th>1</th>\n",
              "      <td>105.0</td>\n",
              "      <td>57936668.0</td>\n",
              "      <td>144.90</td>\n",
              "      <td>6/1/2022</td>\n",
              "      <td>7:28:51 PM</td>\n",
              "      <td>CALOLIVEIRA</td>\n",
              "      <td>1</td>\n",
              "      <td>Erro de Laçto</td>\n",
              "    </tr>\n",
              "    <tr>\n",
              "      <th>2</th>\n",
              "      <td>109.0</td>\n",
              "      <td>57850003.0</td>\n",
              "      <td>470.40</td>\n",
              "      <td>6/1/2022</td>\n",
              "      <td>9:02:50 AM</td>\n",
              "      <td>LPADOVINO</td>\n",
              "      <td>1</td>\n",
              "      <td>Erro de Laçto</td>\n",
              "    </tr>\n",
              "    <tr>\n",
              "      <th>3</th>\n",
              "      <td>205.0</td>\n",
              "      <td>58380973.0</td>\n",
              "      <td>-5.00</td>\n",
              "      <td>6/1/2022</td>\n",
              "      <td>12:36:00 PM</td>\n",
              "      <td>CALOLIVEIRA</td>\n",
              "      <td>1</td>\n",
              "      <td>AUTORIZADO PELO GERENT</td>\n",
              "    </tr>\n",
              "    <tr>\n",
              "      <th>4</th>\n",
              "      <td>205.0</td>\n",
              "      <td>58380973.0</td>\n",
              "      <td>-3.94</td>\n",
              "      <td>6/1/2022</td>\n",
              "      <td>12:36:00 PM</td>\n",
              "      <td>CALOLIVEIRA</td>\n",
              "      <td>1</td>\n",
              "      <td>AUTORIZADO PELO GERENT</td>\n",
              "    </tr>\n",
              "  </tbody>\n",
              "</table>\n",
              "</div>\n",
              "      <button class=\"colab-df-convert\" onclick=\"convertToInteractive('df-151da3ae-f88b-48ae-988a-ee263ec7ad7d')\"\n",
              "              title=\"Convert this dataframe to an interactive table.\"\n",
              "              style=\"display:none;\">\n",
              "        \n",
              "  <svg xmlns=\"http://www.w3.org/2000/svg\" height=\"24px\"viewBox=\"0 0 24 24\"\n",
              "       width=\"24px\">\n",
              "    <path d=\"M0 0h24v24H0V0z\" fill=\"none\"/>\n",
              "    <path d=\"M18.56 5.44l.94 2.06.94-2.06 2.06-.94-2.06-.94-.94-2.06-.94 2.06-2.06.94zm-11 1L8.5 8.5l.94-2.06 2.06-.94-2.06-.94L8.5 2.5l-.94 2.06-2.06.94zm10 10l.94 2.06.94-2.06 2.06-.94-2.06-.94-.94-2.06-.94 2.06-2.06.94z\"/><path d=\"M17.41 7.96l-1.37-1.37c-.4-.4-.92-.59-1.43-.59-.52 0-1.04.2-1.43.59L10.3 9.45l-7.72 7.72c-.78.78-.78 2.05 0 2.83L4 21.41c.39.39.9.59 1.41.59.51 0 1.02-.2 1.41-.59l7.78-7.78 2.81-2.81c.8-.78.8-2.07 0-2.86zM5.41 20L4 18.59l7.72-7.72 1.47 1.35L5.41 20z\"/>\n",
              "  </svg>\n",
              "      </button>\n",
              "      \n",
              "  <style>\n",
              "    .colab-df-container {\n",
              "      display:flex;\n",
              "      flex-wrap:wrap;\n",
              "      gap: 12px;\n",
              "    }\n",
              "\n",
              "    .colab-df-convert {\n",
              "      background-color: #E8F0FE;\n",
              "      border: none;\n",
              "      border-radius: 50%;\n",
              "      cursor: pointer;\n",
              "      display: none;\n",
              "      fill: #1967D2;\n",
              "      height: 32px;\n",
              "      padding: 0 0 0 0;\n",
              "      width: 32px;\n",
              "    }\n",
              "\n",
              "    .colab-df-convert:hover {\n",
              "      background-color: #E2EBFA;\n",
              "      box-shadow: 0px 1px 2px rgba(60, 64, 67, 0.3), 0px 1px 3px 1px rgba(60, 64, 67, 0.15);\n",
              "      fill: #174EA6;\n",
              "    }\n",
              "\n",
              "    [theme=dark] .colab-df-convert {\n",
              "      background-color: #3B4455;\n",
              "      fill: #D2E3FC;\n",
              "    }\n",
              "\n",
              "    [theme=dark] .colab-df-convert:hover {\n",
              "      background-color: #434B5C;\n",
              "      box-shadow: 0px 1px 3px 1px rgba(0, 0, 0, 0.15);\n",
              "      filter: drop-shadow(0px 1px 2px rgba(0, 0, 0, 0.3));\n",
              "      fill: #FFFFFF;\n",
              "    }\n",
              "  </style>\n",
              "\n",
              "      <script>\n",
              "        const buttonEl =\n",
              "          document.querySelector('#df-151da3ae-f88b-48ae-988a-ee263ec7ad7d button.colab-df-convert');\n",
              "        buttonEl.style.display =\n",
              "          google.colab.kernel.accessAllowed ? 'block' : 'none';\n",
              "\n",
              "        async function convertToInteractive(key) {\n",
              "          const element = document.querySelector('#df-151da3ae-f88b-48ae-988a-ee263ec7ad7d');\n",
              "          const dataTable =\n",
              "            await google.colab.kernel.invokeFunction('convertToInteractive',\n",
              "                                                     [key], {});\n",
              "          if (!dataTable) return;\n",
              "\n",
              "          const docLinkHtml = 'Like what you see? Visit the ' +\n",
              "            '<a target=\"_blank\" href=https://colab.research.google.com/notebooks/data_table.ipynb>data table notebook</a>'\n",
              "            + ' to learn more about interactive tables.';\n",
              "          element.innerHTML = '';\n",
              "          dataTable['output_type'] = 'display_data';\n",
              "          await google.colab.output.renderOutput(dataTable, element);\n",
              "          const docLink = document.createElement('div');\n",
              "          docLink.innerHTML = docLinkHtml;\n",
              "          element.appendChild(docLink);\n",
              "        }\n",
              "      </script>\n",
              "    </div>\n",
              "  </div>\n",
              "  "
            ]
          },
          "metadata": {},
          "execution_count": 14
        }
      ]
    },
    {
      "cell_type": "markdown",
      "source": [
        "## 2.2 Alterando os nomes das colunas"
      ],
      "metadata": {
        "id": "KSyp1GgTicw5"
      }
    },
    {
      "cell_type": "code",
      "source": [
        "new_columns = {\n",
        "    'UH': 'UH',\t\n",
        "    'Reserva': 'reserva',\n",
        "    'Descrição': 'descricao',\n",
        "    'Crédito': 'credito',\n",
        "    'Débito': 'debito',\n",
        "    'Valor': 'valor',\n",
        "    'Data': 'data',\n",
        "    'Hora': 'hora',\n",
        "    'Usuário': 'usuario',\n",
        "    'Qtde.': 'quantidade',\n",
        "    'Qtde': 'quantidade',\n",
        "    'Motivo': 'motivo'\n",
        "}\n",
        "\n",
        "for i in datasets:\n",
        "  i.rename(columns = new_columns, inplace = True)"
      ],
      "metadata": {
        "id": "D8jid1i8q3bD"
      },
      "execution_count": 15,
      "outputs": []
    },
    {
      "cell_type": "markdown",
      "source": [
        "# 3. Funções e variáveis padronizadas"
      ],
      "metadata": {
        "id": "4cCiHxzdhUon"
      }
    },
    {
      "cell_type": "markdown",
      "source": [
        "## 3.1 Paleta de cores para os gráficos"
      ],
      "metadata": {
        "id": "SntPAvPScV5A"
      }
    },
    {
      "cell_type": "code",
      "source": [
        "paleta_cores = ['#BC4D7C', '#853758', '#4E2A6A', '#6A5596', '#7285B5', '#93AECE', '#CDD9E8', '#8BBAB4', '#5AB4A8', '#276960', '#083630']"
      ],
      "metadata": {
        "id": "6LvpncCKhdpy"
      },
      "execution_count": 16,
      "outputs": []
    },
    {
      "cell_type": "markdown",
      "source": [
        "## 3.2 Função genérica para criação de dataframes\n",
        "Essa função será utilizada ao longo da análise para criar, na maioria das vezes, uma lista de dataframes, os quais servirão para a comparação dos dados de casa mês."
      ],
      "metadata": {
        "id": "xZNT_GXPcazP"
      }
    },
    {
      "cell_type": "code",
      "source": [
        "def gera_dataframe(colunas = {}):\n",
        "\n",
        "  df_frequencia = pd.DataFrame(colunas)\n",
        "  df_frequencia.reset_index()\n",
        "\n",
        "  return df_frequencia"
      ],
      "metadata": {
        "id": "Wlcb4ae4cU_G"
      },
      "execution_count": 85,
      "outputs": []
    },
    {
      "cell_type": "markdown",
      "source": [
        "## 3.3 Determinação das configurações básicas para todos os gráficos"
      ],
      "metadata": {
        "id": "DVLIlwfjco7g"
      }
    },
    {
      "cell_type": "code",
      "source": [
        "''' Definições utilizadas em todos os gráficos\n",
        "- largura: largura do gráfico;\n",
        "- altura: altura do gráfico;\n",
        "- titulo: título principal do gráfico;\n",
        "- ytitulo: posição y do título.\n",
        "'''\n",
        "def configurar_plot(largura, altura, titulo, ytitulo = 0.95):\n",
        "  sns.set_style('darkgrid')\n",
        "  plt.figure(figsize = (largura, altura))\n",
        "  plt.suptitle(titulo, y = ytitulo, fontsize = 25, fontweight = 'bold')"
      ],
      "metadata": {
        "id": "-o4mlvxal0M2"
      },
      "execution_count": 18,
      "outputs": []
    },
    {
      "cell_type": "markdown",
      "source": [
        "## 3.4 Função que plota vários gráficos\n",
        "Objetivo: apresentar n gráficos de uma única vez, a fim de que todos possam ser analisados em conjunto."
      ],
      "metadata": {
        "id": "16wXAZj0cvKI"
      }
    },
    {
      "cell_type": "code",
      "source": [
        "''' Função para criação de gráficos de barra\n",
        "- tipo_grafico: determina qual será o formato do gráfico;\n",
        "- x: eixo x do gráfico;\n",
        "- y: eixo y do gráfico;\n",
        "- xlabel: legenda do eixo x;\n",
        "- ylabel: legenda do eixo y;\n",
        "- data: dataset utilizado;\n",
        "- hue: parâmetro extra relacionado aos eixos x e y.\n",
        "'''\n",
        "\n",
        "def comparar_graficos(\n",
        "    tipo_grafico, x, y, xlabel, ylabel, \n",
        "    paleta = paleta_cores,\n",
        "    data = [], hue = None):\n",
        "\n",
        "  total = len(data)\n",
        "\n",
        "  for i, item in enumerate(data):\n",
        "\n",
        "    if (i == 0):\n",
        "      ax = plt.subplot(total, 2, i + 1)\n",
        "    else:\n",
        "      plt.subplot(total, 2, i + 1)\n",
        "    \n",
        "    plt.tight_layout(h_pad=4.0) # espaçamento entre os gráficos\n",
        "    plt.title(meses[i], fontsize = 18, fontweight = 'bold')\n",
        "\n",
        "    if (tipo_grafico == 'barplot'):\n",
        "      ax = sns.barplot(x=x, y=y, palette=paleta, data=item, hue=hue)\n",
        "\n",
        "    elif (tipo_grafico == 'lineplot'):\n",
        "      ax = sns.lineplot(x=x, y=y, data=item, color = paleta, marker = 'o')\n",
        "\n",
        "    elif (tipo_grafico == 'relplot'):\n",
        "      ax = sns.swarmplot(x=x, y=y, data=item, hue=hue)\n",
        "\n",
        "    ax.set_xlabel(xlabel, fontsize = 14)\n",
        "    ax.set_ylabel(ylabel, fontsize = 14)\n",
        "\n",
        "  ax"
      ],
      "metadata": {
        "id": "gy_3GdbOjKAE"
      },
      "execution_count": 81,
      "outputs": []
    },
    {
      "cell_type": "markdown",
      "source": [
        "# 4. Análise de Dados"
      ],
      "metadata": {
        "id": "0vQv-DRIhd0r"
      }
    },
    {
      "cell_type": "markdown",
      "source": [
        "## 4.1 Quantidade de estornos por usuário"
      ],
      "metadata": {
        "id": "R_c5c64Rhg5m"
      }
    },
    {
      "cell_type": "code",
      "source": [
        "lista_dfs = []"
      ],
      "metadata": {
        "id": "3XOIqVxLcSoG"
      },
      "execution_count": 40,
      "outputs": []
    },
    {
      "cell_type": "code",
      "source": [
        "for i, item in enumerate(datasets):\n",
        "\n",
        "  frequencia = item['usuario'].value_counts()\n",
        "  total_variaveis = item['usuario'].unique()\n",
        "\n",
        "  df_frequencia = gera_dataframe({'usuario': total_variaveis, 'estornos': frequencia})\n",
        "  lista_dfs.append(df_frequencia)"
      ],
      "metadata": {
        "id": "VNIY94gBmFG6"
      },
      "execution_count": 41,
      "outputs": []
    },
    {
      "cell_type": "code",
      "source": [
        "configurar_plot(24, 20, 'Quantidade de estornos por usuário', 1.05)\n",
        "comparar_graficos(\n",
        "    tipo_grafico='barplot', x='usuario', y='estornos', \n",
        "    xlabel = 'Usuários', ylabel ='Estornos', \n",
        "    paleta = [paleta_cores[10]],\n",
        "    data = lista_dfs)"
      ],
      "metadata": {
        "id": "ihfa6x24iX6P",
        "outputId": "a513a88a-125d-4206-db0d-6c213b7bc9b8",
        "colab": {
          "base_uri": "https://localhost:8080/",
          "height": 600
        }
      },
      "execution_count": 57,
      "outputs": [
        {
          "output_type": "display_data",
          "data": {
            "text/plain": [
              "<Figure size 1728x1440 with 6 Axes>"
            ],
            "image/png": "[encoded data removed]"
          },
          "metadata": {}
        }
      ]
    },
    {
      "cell_type": "markdown",
      "source": [
        "## 4.2 Quantidade de estornos diários"
      ],
      "metadata": {
        "id": "2O__kP_P736M"
      }
    },
    {
      "cell_type": "code",
      "source": [
        "lista_dfs = []"
      ],
      "metadata": {
        "id": "o8hMgsN_cN0_"
      },
      "execution_count": 59,
      "outputs": []
    },
    {
      "cell_type": "code",
      "source": [
        "for i, item in enumerate(datasets):\n",
        "\n",
        "  quantidade = pd.value_counts(item['data'])\n",
        "  dias = [i[2:-5] for i in item.data.unique()]\n",
        "\n",
        "  df_frequencia = gera_dataframe({'dias': dias, 'estornos': quantidade})\n",
        "  lista_dfs.append(df_frequencia)"
      ],
      "metadata": {
        "id": "DFn6lNjPddO2"
      },
      "execution_count": 60,
      "outputs": []
    },
    {
      "cell_type": "code",
      "source": [
        "configurar_plot(20, 25, 'Quantidade de estornos por dia', 1.02)\n",
        "\n",
        "comparar_graficos(\n",
        "    tipo_grafico='lineplot', x='dias', y='estornos', \n",
        "    xlabel = 'Dias', ylabel ='Estornos', \n",
        "    paleta = paleta_cores[9], data = lista_dfs)"
      ],
      "metadata": {
        "id": "iDQbuxBxCkk2",
        "outputId": "0d7e7210-7735-4b7a-9c67-259b1c763df9",
        "colab": {
          "base_uri": "https://localhost:8080/",
          "height": 844
        }
      },
      "execution_count": 65,
      "outputs": [
        {
          "output_type": "display_data",
          "data": {
            "text/plain": [
              "<Figure size 1440x1800 with 6 Axes>"
            ],
            "image/png": "[encoded data removed]"
          },
          "metadata": {}
        }
      ]
    },
    {
      "cell_type": "markdown",
      "source": [
        "## 4.3 Quantidade de estornos realizada por cada usuário (classificação)"
      ],
      "metadata": {
        "id": "EaBnPWQQ-CoV"
      }
    },
    {
      "cell_type": "code",
      "source": [
        "lista_dfs = []"
      ],
      "metadata": {
        "id": "gBqE7CN7dHQf"
      },
      "execution_count": 68,
      "outputs": []
    },
    {
      "cell_type": "code",
      "source": [
        "for i, item in enumerate(datasets):\n",
        "\n",
        "  motivos_por_usuario = pd.crosstab(item['usuario'], item['motivo'])\n",
        "  motivos_por_usuario = pd.DataFrame(motivos_por_usuario.stack().reset_index())\n",
        "  motivos_por_usuario.rename(columns = {0: 'total'}, inplace = True)\n",
        "  motivos_por_usuario.sort_values(by=['total'], ascending = False, inplace = True)\n",
        "\n",
        "  lista_dfs.append(motivos_por_usuario)"
      ],
      "metadata": {
        "id": "j9eckyC2eBld"
      },
      "execution_count": 69,
      "outputs": []
    },
    {
      "cell_type": "code",
      "source": [
        "motivos_por_usuario = pd.crosstab(dataset_maio['usuario'], dataset_maio['motivo'])\n",
        "motivos_por_usuario = pd.DataFrame(motivos_por_usuario.reset_index())\n",
        "# motivos_por_usuario.rename(columns = {0: 'total'}, inplace = True)\n",
        "# motivos_por_usuario.sort_values(by=['total'], ascending = False, inplace = True)\n",
        "\n",
        "motivos_por_usuario"
      ],
      "metadata": {
        "id": "8_d1a2nrIMZ-",
        "outputId": "48aac327-4b99-46ce-fa0d-c6b0fed9f3fa",
        "colab": {
          "base_uri": "https://localhost:8080/",
          "height": 362
        }
      },
      "execution_count": 118,
      "outputs": [
        {
          "output_type": "execute_result",
          "data": {
            "text/plain": [
              "motivo       usuario  AUTORIZADO PELO GERENT  CORTESIA DE DIÁRIAS  \\\n",
              "0       ANLGONCALVES                       0                    0   \n",
              "1        CALOLIVEIRA                     109                    0   \n",
              "2              CFIOR                       0                    0   \n",
              "3            ECSOUSA                       4                    2   \n",
              "4           IGPESSOA                       9                    0   \n",
              "5          LPADOVINO                       8                    0   \n",
              "6             RFELIZ                       1                   11   \n",
              "7           RFREITAS                       0                    0   \n",
              "\n",
              "motivo  ERRO DE LANÇAMENTO  ERRO DO SISTEMA  ERRO NA IMPRESSÃO  Erro de Laçto  \\\n",
              "0                       21                0                  0              0   \n",
              "1                        2                2                  0             11   \n",
              "2                       23                2                  0              1   \n",
              "3                       34                6                  0              3   \n",
              "4                       25                1                  0              7   \n",
              "5                       28                0                  0             11   \n",
              "6                       99               21                  0             11   \n",
              "7                       58                9                  1              6   \n",
              "\n",
              "motivo  HOSPEDE NÃO CONSUMIU  LCTO EM DUPLICIDADE  VALOR DIARA INCORRETO  \n",
              "0                          0                    0                      0  \n",
              "1                          3                    0                      0  \n",
              "2                          4                    0                      0  \n",
              "3                         14                    0                      2  \n",
              "4                          9                    0                      0  \n",
              "5                         10                    0                      0  \n",
              "6                         21                    9                      0  \n",
              "7                          5                   21                      0  "
            ],
            "text/html": [
              "\n",
              "  <div id=\"df-e860a6b2-4abd-4b31-af54-8db5a1fd9b4e\">\n",
              "    <div class=\"colab-df-container\">\n",
              "      <div>\n",
              "<style scoped>\n",
              "    .dataframe tbody tr th:only-of-type {\n",
              "        vertical-align: middle;\n",
              "    }\n",
              "\n",
              "    .dataframe tbody tr th {\n",
              "        vertical-align: top;\n",
              "    }\n",
              "\n",
              "    .dataframe thead th {\n",
              "        text-align: right;\n",
              "    }\n",
              "</style>\n",
              "<table border=\"1\" class=\"dataframe\">\n",
              "  <thead>\n",
              "    <tr style=\"text-align: right;\">\n",
              "      <th>motivo</th>\n",
              "      <th>usuario</th>\n",
              "      <th>AUTORIZADO PELO GERENT</th>\n",
              "      <th>CORTESIA DE DIÁRIAS</th>\n",
              "      <th>ERRO DE LANÇAMENTO</th>\n",
              "      <th>ERRO DO SISTEMA</th>\n",
              "      <th>ERRO NA IMPRESSÃO</th>\n",
              "      <th>Erro de Laçto</th>\n",
              "      <th>HOSPEDE NÃO CONSUMIU</th>\n",
              "      <th>LCTO EM DUPLICIDADE</th>\n",
              "      <th>VALOR DIARA INCORRETO</th>\n",
              "    </tr>\n",
              "  </thead>\n",
              "  <tbody>\n",
              "    <tr>\n",
              "      <th>0</th>\n",
              "      <td>ANLGONCALVES</td>\n",
              "      <td>0</td>\n",
              "      <td>0</td>\n",
              "      <td>21</td>\n",
              "      <td>0</td>\n",
              "      <td>0</td>\n",
              "      <td>0</td>\n",
              "      <td>0</td>\n",
              "      <td>0</td>\n",
              "      <td>0</td>\n",
              "    </tr>\n",
              "    <tr>\n",
              "      <th>1</th>\n",
              "      <td>CALOLIVEIRA</td>\n",
              "      <td>109</td>\n",
              "      <td>0</td>\n",
              "      <td>2</td>\n",
              "      <td>2</td>\n",
              "      <td>0</td>\n",
              "      <td>11</td>\n",
              "      <td>3</td>\n",
              "      <td>0</td>\n",
              "      <td>0</td>\n",
              "    </tr>\n",
              "    <tr>\n",
              "      <th>2</th>\n",
              "      <td>CFIOR</td>\n",
              "      <td>0</td>\n",
              "      <td>0</td>\n",
              "      <td>23</td>\n",
              "      <td>2</td>\n",
              "      <td>0</td>\n",
              "      <td>1</td>\n",
              "      <td>4</td>\n",
              "      <td>0</td>\n",
              "      <td>0</td>\n",
              "    </tr>\n",
              "    <tr>\n",
              "      <th>3</th>\n",
              "      <td>ECSOUSA</td>\n",
              "      <td>4</td>\n",
              "      <td>2</td>\n",
              "      <td>34</td>\n",
              "      <td>6</td>\n",
              "      <td>0</td>\n",
              "      <td>3</td>\n",
              "      <td>14</td>\n",
              "      <td>0</td>\n",
              "      <td>2</td>\n",
              "    </tr>\n",
              "    <tr>\n",
              "      <th>4</th>\n",
              "      <td>IGPESSOA</td>\n",
              "      <td>9</td>\n",
              "      <td>0</td>\n",
              "      <td>25</td>\n",
              "      <td>1</td>\n",
              "      <td>0</td>\n",
              "      <td>7</td>\n",
              "      <td>9</td>\n",
              "      <td>0</td>\n",
              "      <td>0</td>\n",
              "    </tr>\n",
              "    <tr>\n",
              "      <th>5</th>\n",
              "      <td>LPADOVINO</td>\n",
              "      <td>8</td>\n",
              "      <td>0</td>\n",
              "      <td>28</td>\n",
              "      <td>0</td>\n",
              "      <td>0</td>\n",
              "      <td>11</td>\n",
              "      <td>10</td>\n",
              "      <td>0</td>\n",
              "      <td>0</td>\n",
              "    </tr>\n",
              "    <tr>\n",
              "      <th>6</th>\n",
              "      <td>RFELIZ</td>\n",
              "      <td>1</td>\n",
              "      <td>11</td>\n",
              "      <td>99</td>\n",
              "      <td>21</td>\n",
              "      <td>0</td>\n",
              "      <td>11</td>\n",
              "      <td>21</td>\n",
              "      <td>9</td>\n",
              "      <td>0</td>\n",
              "    </tr>\n",
              "    <tr>\n",
              "      <th>7</th>\n",
              "      <td>RFREITAS</td>\n",
              "      <td>0</td>\n",
              "      <td>0</td>\n",
              "      <td>58</td>\n",
              "      <td>9</td>\n",
              "      <td>1</td>\n",
              "      <td>6</td>\n",
              "      <td>5</td>\n",
              "      <td>21</td>\n",
              "      <td>0</td>\n",
              "    </tr>\n",
              "  </tbody>\n",
              "</table>\n",
              "</div>\n",
              "      <button class=\"colab-df-convert\" onclick=\"convertToInteractive('df-e860a6b2-4abd-4b31-af54-8db5a1fd9b4e')\"\n",
              "              title=\"Convert this dataframe to an interactive table.\"\n",
              "              style=\"display:none;\">\n",
              "        \n",
              "  <svg xmlns=\"http://www.w3.org/2000/svg\" height=\"24px\"viewBox=\"0 0 24 24\"\n",
              "       width=\"24px\">\n",
              "    <path d=\"M0 0h24v24H0V0z\" fill=\"none\"/>\n",
              "    <path d=\"M18.56 5.44l.94 2.06.94-2.06 2.06-.94-2.06-.94-.94-2.06-.94 2.06-2.06.94zm-11 1L8.5 8.5l.94-2.06 2.06-.94-2.06-.94L8.5 2.5l-.94 2.06-2.06.94zm10 10l.94 2.06.94-2.06 2.06-.94-2.06-.94-.94-2.06-.94 2.06-2.06.94z\"/><path d=\"M17.41 7.96l-1.37-1.37c-.4-.4-.92-.59-1.43-.59-.52 0-1.04.2-1.43.59L10.3 9.45l-7.72 7.72c-.78.78-.78 2.05 0 2.83L4 21.41c.39.39.9.59 1.41.59.51 0 1.02-.2 1.41-.59l7.78-7.78 2.81-2.81c.8-.78.8-2.07 0-2.86zM5.41 20L4 18.59l7.72-7.72 1.47 1.35L5.41 20z\"/>\n",
              "  </svg>\n",
              "      </button>\n",
              "      \n",
              "  <style>\n",
              "    .colab-df-container {\n",
              "      display:flex;\n",
              "      flex-wrap:wrap;\n",
              "      gap: 12px;\n",
              "    }\n",
              "\n",
              "    .colab-df-convert {\n",
              "      background-color: #E8F0FE;\n",
              "      border: none;\n",
              "      border-radius: 50%;\n",
              "      cursor: pointer;\n",
              "      display: none;\n",
              "      fill: #1967D2;\n",
              "      height: 32px;\n",
              "      padding: 0 0 0 0;\n",
              "      width: 32px;\n",
              "    }\n",
              "\n",
              "    .colab-df-convert:hover {\n",
              "      background-color: #E2EBFA;\n",
              "      box-shadow: 0px 1px 2px rgba(60, 64, 67, 0.3), 0px 1px 3px 1px rgba(60, 64, 67, 0.15);\n",
              "      fill: #174EA6;\n",
              "    }\n",
              "\n",
              "    [theme=dark] .colab-df-convert {\n",
              "      background-color: #3B4455;\n",
              "      fill: #D2E3FC;\n",
              "    }\n",
              "\n",
              "    [theme=dark] .colab-df-convert:hover {\n",
              "      background-color: #434B5C;\n",
              "      box-shadow: 0px 1px 3px 1px rgba(0, 0, 0, 0.15);\n",
              "      filter: drop-shadow(0px 1px 2px rgba(0, 0, 0, 0.3));\n",
              "      fill: #FFFFFF;\n",
              "    }\n",
              "  </style>\n",
              "\n",
              "      <script>\n",
              "        const buttonEl =\n",
              "          document.querySelector('#df-e860a6b2-4abd-4b31-af54-8db5a1fd9b4e button.colab-df-convert');\n",
              "        buttonEl.style.display =\n",
              "          google.colab.kernel.accessAllowed ? 'block' : 'none';\n",
              "\n",
              "        async function convertToInteractive(key) {\n",
              "          const element = document.querySelector('#df-e860a6b2-4abd-4b31-af54-8db5a1fd9b4e');\n",
              "          const dataTable =\n",
              "            await google.colab.kernel.invokeFunction('convertToInteractive',\n",
              "                                                     [key], {});\n",
              "          if (!dataTable) return;\n",
              "\n",
              "          const docLinkHtml = 'Like what you see? Visit the ' +\n",
              "            '<a target=\"_blank\" href=https://colab.research.google.com/notebooks/data_table.ipynb>data table notebook</a>'\n",
              "            + ' to learn more about interactive tables.';\n",
              "          element.innerHTML = '';\n",
              "          dataTable['output_type'] = 'display_data';\n",
              "          await google.colab.output.renderOutput(dataTable, element);\n",
              "          const docLink = document.createElement('div');\n",
              "          docLink.innerHTML = docLinkHtml;\n",
              "          element.appendChild(docLink);\n",
              "        }\n",
              "      </script>\n",
              "    </div>\n",
              "  </div>\n",
              "  "
            ]
          },
          "metadata": {},
          "execution_count": 118
        }
      ]
    },
    {
      "cell_type": "code",
      "source": [
        "# comparar_graficos(\n",
        "#     tipo_grafico='relplot', x='motivo', y='total',\n",
        "#     xlabel = 'Usuários', ylabel ='Estornos', \n",
        "#     paleta = paleta_cores,\n",
        "#     data = lista_dfs, hue = 'usuario')\n",
        "motivos_por_usuario.set_index('usuario').plot.bar(stacked = True, color = paleta_cores, width=0.4)"
      ],
      "metadata": {
        "id": "tlovHJrUeYA9",
        "outputId": "9c3dc48e-358b-4ccf-8c18-6702ca4eb010",
        "colab": {
          "base_uri": "https://localhost:8080/",
          "height": 401
        }
      },
      "execution_count": 141,
      "outputs": [
        {
          "output_type": "execute_result",
          "data": {
            "text/plain": [
              "<matplotlib.axes._subplots.AxesSubplot at 0x7f5098abf510>"
            ]
          },
          "metadata": {},
          "execution_count": 141
        },
        {
          "output_type": "display_data",
          "data": {
            "text/plain": [
              "<Figure size 1728x1440 with 0 Axes>"
            ]
          },
          "metadata": {}
        },
        {
          "output_type": "display_data",
          "data": {
            "text/plain": [
              "<Figure size 432x288 with 1 Axes>"
            ],
            "image/png": "[encoded data removed]"
          },
          "metadata": {}
        }
      ]
    },
    {
      "cell_type": "markdown",
      "source": [
        "## 4.4 Valor total de estornos por dia"
      ],
      "metadata": {
        "id": "dKp4IOeo-N53"
      }
    },
    {
      "cell_type": "code",
      "source": [
        "lista_dfs = []"
      ],
      "metadata": {
        "id": "2mpx5f2AoUe0"
      },
      "execution_count": null,
      "outputs": []
    },
    {
      "cell_type": "code",
      "source": [
        "for i, item in enumerate(datasets):\n",
        "  valor_por_dia = item.groupby(['data'])['valor'].sum()\n",
        "\n",
        "  for i in range(0, len(valor_por_dia)):\n",
        "    if valor_por_dia[i] <= 0:\n",
        "      valor_por_dia[i] *= -1\n",
        "\n",
        "  dias = [i[2:-5] for i in item.data.unique()]\n",
        "\n",
        "  df_frequencia = gera_dataframe({'dias': dias, 'total': valor_por_dia})\n",
        "  lista_dfs.append(df_frequencia)"
      ],
      "metadata": {
        "id": "qcz6EPLkn9yU"
      },
      "execution_count": null,
      "outputs": []
    },
    {
      "cell_type": "code",
      "source": [
        "comparar_graficos(tipo_grafico = 'lineplot', x = 'dias', y = 'total',\n",
        "                  xlabel = 'Dias', ylabel = 'Valor (R$)', \n",
        "                  titulo = 'Total estornado por dia (em Reais)',\n",
        "                  paleta = paleta_cores[10],\n",
        "                  data = lista_dfs)"
      ],
      "metadata": {
        "id": "mscAxy9LCbX9"
      },
      "execution_count": null,
      "outputs": []
    },
    {
      "cell_type": "markdown",
      "source": [
        "## 4.5 Relação de estornos ao mês"
      ],
      "metadata": {
        "id": "MZS8UR3Pi5np"
      }
    },
    {
      "cell_type": "code",
      "source": [
        "total_estornos = []\n",
        "\n",
        "for i, item in enumerate(datasets):\n",
        "  total_estornos.append(len(item))\n",
        "\n",
        "df = pd.DataFrame({'mês': meses, 'total': total_estornos})"
      ],
      "metadata": {
        "id": "ev_HDYjEjAKH"
      },
      "execution_count": null,
      "outputs": []
    },
    {
      "cell_type": "code",
      "source": [
        "configurar_plot(15, 5, 'Relação de estornos ao mês', 1.02)\n",
        "ax = sns.barplot(x='mês', y='total', palette = [paleta_cores[9]], data = df)\n",
        "ax.set_xlabel('Meses', fontsize = 14)\n",
        "ax.set_ylabel('Estornos', fontsize = 14)"
      ],
      "metadata": {
        "id": "HRfVyS1mj91M"
      },
      "execution_count": null,
      "outputs": []
    }
  ]
}