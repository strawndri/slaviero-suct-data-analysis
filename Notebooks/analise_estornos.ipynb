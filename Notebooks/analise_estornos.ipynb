{
  "nbformat": 4,
  "nbformat_minor": 0,
  "metadata": {
    "colab": {
      "name": "refunds.ipynb",
      "provenance": []
    },
    "kernelspec": {
      "name": "python3",
      "display_name": "Python 3"
    },
    "language_info": {
      "name": "python"
    }
  },
  "cells": [
    {
      "cell_type": "markdown",
      "source": [
        "---\n",
        "# Estornos - Maio 2022\n",
        "---"
      ],
      "metadata": {
        "id": "vbJDexPpi6Xa"
      }
    },
    {
      "cell_type": "markdown",
      "source": [
        "Notebook para analisar os estornos mensais do hotel Slaviero Essential Curitiba Shopping. As variáveis em análise são:\n",
        "\n",
        "* **Valor**: valor, em reais, do que foi estornado (crédito ou débito);\n",
        "* **Data**: período dia/mês/ano em que o estorno foi realizado;\n",
        "* **Hora**: em qual horário do dia o estorno foi realizado. Utiliza-se o padrão de 12 horas;\n",
        "* **Usuário**: qual funcionário do SUCT realizou o estorno;\n",
        "* **Motivo**: jusiticativa do estorno.\n"
      ],
      "metadata": {
        "id": "B99nACGggjg0"
      }
    },
    {
      "cell_type": "markdown",
      "source": [
        "## 1. Importações\n",
        "\n",
        "\n",
        "---\n",
        "\n"
      ],
      "metadata": {
        "id": "ZdjUMfsfjiFd"
      }
    },
    {
      "cell_type": "markdown",
      "source": [
        "### 1.1 Bibliotecas"
      ],
      "metadata": {
        "id": "OemtuY4rk-M0"
      }
    },
    {
      "cell_type": "code",
      "source": [
        "import pandas as pd"
      ],
      "metadata": {
        "id": "S4mig2dCgTol"
      },
      "execution_count": 25,
      "outputs": []
    },
    {
      "cell_type": "code",
      "source": [
        "import matplotlib.pyplot as plt"
      ],
      "metadata": {
        "id": "yykF9NASgark"
      },
      "execution_count": 26,
      "outputs": []
    },
    {
      "cell_type": "code",
      "execution_count": 27,
      "metadata": {
        "id": "eqJxHHA-ewj3",
        "outputId": "f816ceaf-0886-4c28-aa7f-c939917c1eaa",
        "colab": {
          "base_uri": "https://localhost:8080/"
        }
      },
      "outputs": [
        {
          "output_type": "stream",
          "name": "stdout",
          "text": [
            "Looking in indexes: https://pypi.org/simple, https://us-python.pkg.dev/colab-wheels/public/simple/\n",
            "Requirement already satisfied: seaborn in /usr/local/lib/python3.7/dist-packages (0.11.2)\n",
            "Requirement already satisfied: pandas>=0.23 in /usr/local/lib/python3.7/dist-packages (from seaborn) (1.3.5)\n",
            "Requirement already satisfied: scipy>=1.0 in /usr/local/lib/python3.7/dist-packages (from seaborn) (1.4.1)\n",
            "Requirement already satisfied: matplotlib>=2.2 in /usr/local/lib/python3.7/dist-packages (from seaborn) (3.2.2)\n",
            "Requirement already satisfied: numpy>=1.15 in /usr/local/lib/python3.7/dist-packages (from seaborn) (1.21.6)\n",
            "Requirement already satisfied: cycler>=0.10 in /usr/local/lib/python3.7/dist-packages (from matplotlib>=2.2->seaborn) (0.11.0)\n",
            "Requirement already satisfied: kiwisolver>=1.0.1 in /usr/local/lib/python3.7/dist-packages (from matplotlib>=2.2->seaborn) (1.4.3)\n",
            "Requirement already satisfied: pyparsing!=2.0.4,!=2.1.2,!=2.1.6,>=2.0.1 in /usr/local/lib/python3.7/dist-packages (from matplotlib>=2.2->seaborn) (3.0.9)\n",
            "Requirement already satisfied: python-dateutil>=2.1 in /usr/local/lib/python3.7/dist-packages (from matplotlib>=2.2->seaborn) (2.8.2)\n",
            "Requirement already satisfied: typing-extensions in /usr/local/lib/python3.7/dist-packages (from kiwisolver>=1.0.1->matplotlib>=2.2->seaborn) (4.1.1)\n",
            "Requirement already satisfied: pytz>=2017.3 in /usr/local/lib/python3.7/dist-packages (from pandas>=0.23->seaborn) (2022.1)\n",
            "Requirement already satisfied: six>=1.5 in /usr/local/lib/python3.7/dist-packages (from python-dateutil>=2.1->matplotlib>=2.2->seaborn) (1.15.0)\n"
          ]
        }
      ],
      "source": [
        "!pip install seaborn\n",
        "import seaborn as sns"
      ]
    },
    {
      "cell_type": "markdown",
      "source": [
        "### 1.2 Bases de Dados"
      ],
      "metadata": {
        "id": "Pmoj2etSlHHx"
      }
    },
    {
      "cell_type": "code",
      "source": [
        "dataset = pd.read_csv('https://raw.githubusercontent.com/strawndri/slaviero-suct-data-analysis/main/Dados/Estornos/estornos_maio.csv')\n",
        "dataset.head()"
      ],
      "metadata": {
        "colab": {
          "base_uri": "https://localhost:8080/",
          "height": 206
        },
        "id": "GSOHcTxelEV4",
        "outputId": "d1a8367f-55bf-4c23-80a2-cc583316d24d"
      },
      "execution_count": 28,
      "outputs": [
        {
          "output_type": "execute_result",
          "data": {
            "text/plain": [
              "      UH     Reserva   Valor      Data         Hora Usuário  Qtde  \\\n",
              "0  107.0  57429723.0 -293.00  5/1/2022  10:04:21 AM  RFELIZ     1   \n",
              "1  208.0  57825777.0   32.25  5/1/2022   1:48:40 AM  RFELIZ     1   \n",
              "2  510.0  57813205.0 -196.79  5/1/2022  12:14:57 PM  RFELIZ     1   \n",
              "3  502.0  57837422.0 -196.24  5/1/2022  11:24:00 PM  RFELIZ     1   \n",
              "4  510.0  57813205.0  -30.00  5/1/2022  12:13:47 PM  RFELIZ     1   \n",
              "\n",
              "               Motivo  \n",
              "0     ERRO DO SISTEMA  \n",
              "1  ERRO DE LANÇAMENTO  \n",
              "2  ERRO DE LANÇAMENTO  \n",
              "3  ERRO DE LANÇAMENTO  \n",
              "4  ERRO DE LANÇAMENTO  "
            ],
            "text/html": [
              "\n",
              "  <div id=\"df-0189a0be-123c-416b-8f09-d22f74f85746\">\n",
              "    <div class=\"colab-df-container\">\n",
              "      <div>\n",
              "<style scoped>\n",
              "    .dataframe tbody tr th:only-of-type {\n",
              "        vertical-align: middle;\n",
              "    }\n",
              "\n",
              "    .dataframe tbody tr th {\n",
              "        vertical-align: top;\n",
              "    }\n",
              "\n",
              "    .dataframe thead th {\n",
              "        text-align: right;\n",
              "    }\n",
              "</style>\n",
              "<table border=\"1\" class=\"dataframe\">\n",
              "  <thead>\n",
              "    <tr style=\"text-align: right;\">\n",
              "      <th></th>\n",
              "      <th>UH</th>\n",
              "      <th>Reserva</th>\n",
              "      <th>Valor</th>\n",
              "      <th>Data</th>\n",
              "      <th>Hora</th>\n",
              "      <th>Usuário</th>\n",
              "      <th>Qtde</th>\n",
              "      <th>Motivo</th>\n",
              "    </tr>\n",
              "  </thead>\n",
              "  <tbody>\n",
              "    <tr>\n",
              "      <th>0</th>\n",
              "      <td>107.0</td>\n",
              "      <td>57429723.0</td>\n",
              "      <td>-293.00</td>\n",
              "      <td>5/1/2022</td>\n",
              "      <td>10:04:21 AM</td>\n",
              "      <td>RFELIZ</td>\n",
              "      <td>1</td>\n",
              "      <td>ERRO DO SISTEMA</td>\n",
              "    </tr>\n",
              "    <tr>\n",
              "      <th>1</th>\n",
              "      <td>208.0</td>\n",
              "      <td>57825777.0</td>\n",
              "      <td>32.25</td>\n",
              "      <td>5/1/2022</td>\n",
              "      <td>1:48:40 AM</td>\n",
              "      <td>RFELIZ</td>\n",
              "      <td>1</td>\n",
              "      <td>ERRO DE LANÇAMENTO</td>\n",
              "    </tr>\n",
              "    <tr>\n",
              "      <th>2</th>\n",
              "      <td>510.0</td>\n",
              "      <td>57813205.0</td>\n",
              "      <td>-196.79</td>\n",
              "      <td>5/1/2022</td>\n",
              "      <td>12:14:57 PM</td>\n",
              "      <td>RFELIZ</td>\n",
              "      <td>1</td>\n",
              "      <td>ERRO DE LANÇAMENTO</td>\n",
              "    </tr>\n",
              "    <tr>\n",
              "      <th>3</th>\n",
              "      <td>502.0</td>\n",
              "      <td>57837422.0</td>\n",
              "      <td>-196.24</td>\n",
              "      <td>5/1/2022</td>\n",
              "      <td>11:24:00 PM</td>\n",
              "      <td>RFELIZ</td>\n",
              "      <td>1</td>\n",
              "      <td>ERRO DE LANÇAMENTO</td>\n",
              "    </tr>\n",
              "    <tr>\n",
              "      <th>4</th>\n",
              "      <td>510.0</td>\n",
              "      <td>57813205.0</td>\n",
              "      <td>-30.00</td>\n",
              "      <td>5/1/2022</td>\n",
              "      <td>12:13:47 PM</td>\n",
              "      <td>RFELIZ</td>\n",
              "      <td>1</td>\n",
              "      <td>ERRO DE LANÇAMENTO</td>\n",
              "    </tr>\n",
              "  </tbody>\n",
              "</table>\n",
              "</div>\n",
              "      <button class=\"colab-df-convert\" onclick=\"convertToInteractive('df-0189a0be-123c-416b-8f09-d22f74f85746')\"\n",
              "              title=\"Convert this dataframe to an interactive table.\"\n",
              "              style=\"display:none;\">\n",
              "        \n",
              "  <svg xmlns=\"http://www.w3.org/2000/svg\" height=\"24px\"viewBox=\"0 0 24 24\"\n",
              "       width=\"24px\">\n",
              "    <path d=\"M0 0h24v24H0V0z\" fill=\"none\"/>\n",
              "    <path d=\"M18.56 5.44l.94 2.06.94-2.06 2.06-.94-2.06-.94-.94-2.06-.94 2.06-2.06.94zm-11 1L8.5 8.5l.94-2.06 2.06-.94-2.06-.94L8.5 2.5l-.94 2.06-2.06.94zm10 10l.94 2.06.94-2.06 2.06-.94-2.06-.94-.94-2.06-.94 2.06-2.06.94z\"/><path d=\"M17.41 7.96l-1.37-1.37c-.4-.4-.92-.59-1.43-.59-.52 0-1.04.2-1.43.59L10.3 9.45l-7.72 7.72c-.78.78-.78 2.05 0 2.83L4 21.41c.39.39.9.59 1.41.59.51 0 1.02-.2 1.41-.59l7.78-7.78 2.81-2.81c.8-.78.8-2.07 0-2.86zM5.41 20L4 18.59l7.72-7.72 1.47 1.35L5.41 20z\"/>\n",
              "  </svg>\n",
              "      </button>\n",
              "      \n",
              "  <style>\n",
              "    .colab-df-container {\n",
              "      display:flex;\n",
              "      flex-wrap:wrap;\n",
              "      gap: 12px;\n",
              "    }\n",
              "\n",
              "    .colab-df-convert {\n",
              "      background-color: #E8F0FE;\n",
              "      border: none;\n",
              "      border-radius: 50%;\n",
              "      cursor: pointer;\n",
              "      display: none;\n",
              "      fill: #1967D2;\n",
              "      height: 32px;\n",
              "      padding: 0 0 0 0;\n",
              "      width: 32px;\n",
              "    }\n",
              "\n",
              "    .colab-df-convert:hover {\n",
              "      background-color: #E2EBFA;\n",
              "      box-shadow: 0px 1px 2px rgba(60, 64, 67, 0.3), 0px 1px 3px 1px rgba(60, 64, 67, 0.15);\n",
              "      fill: #174EA6;\n",
              "    }\n",
              "\n",
              "    [theme=dark] .colab-df-convert {\n",
              "      background-color: #3B4455;\n",
              "      fill: #D2E3FC;\n",
              "    }\n",
              "\n",
              "    [theme=dark] .colab-df-convert:hover {\n",
              "      background-color: #434B5C;\n",
              "      box-shadow: 0px 1px 3px 1px rgba(0, 0, 0, 0.15);\n",
              "      filter: drop-shadow(0px 1px 2px rgba(0, 0, 0, 0.3));\n",
              "      fill: #FFFFFF;\n",
              "    }\n",
              "  </style>\n",
              "\n",
              "      <script>\n",
              "        const buttonEl =\n",
              "          document.querySelector('#df-0189a0be-123c-416b-8f09-d22f74f85746 button.colab-df-convert');\n",
              "        buttonEl.style.display =\n",
              "          google.colab.kernel.accessAllowed ? 'block' : 'none';\n",
              "\n",
              "        async function convertToInteractive(key) {\n",
              "          const element = document.querySelector('#df-0189a0be-123c-416b-8f09-d22f74f85746');\n",
              "          const dataTable =\n",
              "            await google.colab.kernel.invokeFunction('convertToInteractive',\n",
              "                                                     [key], {});\n",
              "          if (!dataTable) return;\n",
              "\n",
              "          const docLinkHtml = 'Like what you see? Visit the ' +\n",
              "            '<a target=\"_blank\" href=https://colab.research.google.com/notebooks/data_table.ipynb>data table notebook</a>'\n",
              "            + ' to learn more about interactive tables.';\n",
              "          element.innerHTML = '';\n",
              "          dataTable['output_type'] = 'display_data';\n",
              "          await google.colab.output.renderOutput(dataTable, element);\n",
              "          const docLink = document.createElement('div');\n",
              "          docLink.innerHTML = docLinkHtml;\n",
              "          element.appendChild(docLink);\n",
              "        }\n",
              "      </script>\n",
              "    </div>\n",
              "  </div>\n",
              "  "
            ]
          },
          "metadata": {},
          "execution_count": 28
        }
      ]
    },
    {
      "cell_type": "markdown",
      "source": [
        "## 2. Tratamento de Dados\n",
        "\n",
        "\n",
        "---\n",
        "\n"
      ],
      "metadata": {
        "id": "Rfu5PMtxquTJ"
      }
    },
    {
      "cell_type": "markdown",
      "source": [
        "### 2.1 Compreendendo os tipos de dados"
      ],
      "metadata": {
        "id": "1d7OmQayiZCR"
      }
    },
    {
      "cell_type": "code",
      "source": [
        "dataset.info()"
      ],
      "metadata": {
        "id": "eg1qg4Brqwr2",
        "outputId": "316c5b03-f9e3-4c4c-bc81-6bdcddcb9e6b",
        "colab": {
          "base_uri": "https://localhost:8080/"
        }
      },
      "execution_count": 29,
      "outputs": [
        {
          "output_type": "stream",
          "name": "stdout",
          "text": [
            "<class 'pandas.core.frame.DataFrame'>\n",
            "RangeIndex: 624 entries, 0 to 623\n",
            "Data columns (total 8 columns):\n",
            " #   Column   Non-Null Count  Dtype  \n",
            "---  ------   --------------  -----  \n",
            " 0   UH       584 non-null    float64\n",
            " 1   Reserva  592 non-null    float64\n",
            " 2   Valor    624 non-null    float64\n",
            " 3   Data     624 non-null    object \n",
            " 4   Hora     624 non-null    object \n",
            " 5   Usuário  624 non-null    object \n",
            " 6   Qtde     624 non-null    int64  \n",
            " 7   Motivo   624 non-null    object \n",
            "dtypes: float64(3), int64(1), object(4)\n",
            "memory usage: 39.1+ KB\n"
          ]
        }
      ]
    },
    {
      "cell_type": "markdown",
      "source": [
        "## 2.2 Alterando os nomes das colunas"
      ],
      "metadata": {
        "id": "KSyp1GgTicw5"
      }
    },
    {
      "cell_type": "code",
      "source": [
        "new_columns = {\n",
        "    'UH': 'UH',\t\n",
        "    'Reserva': 'reserva',\n",
        "    'Descrição': 'descricao',\n",
        "    'Crédito': 'credito',\n",
        "    'Débito': 'debito',\n",
        "    'Valor': 'valor',\n",
        "    'Data': 'data',\n",
        "    'Hora': 'hora',\n",
        "    'Usuário': 'usuario',\n",
        "    'Qtde.': 'quantidade',\n",
        "    'Motivo': 'motivo'\n",
        "}\n",
        "\n",
        "dataset.rename(columns = new_columns, inplace = True)"
      ],
      "metadata": {
        "id": "D8jid1i8q3bD"
      },
      "execution_count": 30,
      "outputs": []
    },
    {
      "cell_type": "markdown",
      "source": [
        "## 3. Funções e variáveis padronizados"
      ],
      "metadata": {
        "id": "4cCiHxzdhUon"
      }
    },
    {
      "cell_type": "code",
      "source": [
        "palette = ['#100c30', '#1D1552', '#302E87', '#3A5BA6', '#4083B8', '#40A4B8', '#52B8B0', '#63B898']"
      ],
      "metadata": {
        "id": "foLFzQvFhX89"
      },
      "execution_count": 135,
      "outputs": []
    },
    {
      "cell_type": "code",
      "source": [
        "# Definições utilizadas em todos os gráficos\n",
        "\n",
        "def plot_config():\n",
        "  sns.set_style('darkgrid')\n",
        "  plt.figure(figsize=(15, 5))"
      ],
      "metadata": {
        "id": "-o4mlvxal0M2"
      },
      "execution_count": 136,
      "outputs": []
    },
    {
      "cell_type": "code",
      "source": [
        "''' Função para criação de gráficos de barra\n",
        "- x:\n",
        "- y:\n",
        "- xlabel:\n",
        "- ylabel:\n",
        "- title: \n",
        "'''\n",
        "\n",
        "def set_barplot(x, y, data, xlabel, ylabel, title, palette=palette, hue=None):\n",
        "\n",
        "  plot_config()\n",
        "  ax = sns.barplot(x=x, y=y, palette=palette, data=data, hue=hue)\n",
        "  ax.set_title(title, fontsize = 18)\n",
        "  ax.set_xlabel(xlabel, fontsize = 12)\n",
        "  ax.set_ylabel(ylabel, fontsize = 12)\n",
        "\n",
        "  ax"
      ],
      "metadata": {
        "id": "gy_3GdbOjKAE"
      },
      "execution_count": 140,
      "outputs": []
    },
    {
      "cell_type": "code",
      "source": [
        "''' Função para geração de gráficos de curva\n",
        "- x:\n",
        "- y:\n",
        "- xlabel:\n",
        "- ylabel:\n",
        "- title: \n",
        "'''\n",
        "\n",
        "def set_lineplot(x, y, xlabel, ylabel, title):\n",
        "  plot_config()\n",
        "  ax = sns.lineplot(x=x, y=y)\n",
        "  ax.set_title(title, fontsize = 18)\n",
        "  ax.set_xlabel(xlabel, fontsize = 12)\n",
        "  ax.set_ylabel(ylabel, fontsize = 12)\n",
        "\n",
        "  ax"
      ],
      "metadata": {
        "id": "mqoHbRGA7i8w"
      },
      "execution_count": 138,
      "outputs": []
    },
    {
      "cell_type": "markdown",
      "source": [
        "## 4. Análise de Dados"
      ],
      "metadata": {
        "id": "0vQv-DRIhd0r"
      }
    },
    {
      "cell_type": "markdown",
      "source": [
        "### 4.1 Quantidade de estornos por usuário"
      ],
      "metadata": {
        "id": "R_c5c64Rhg5m"
      }
    },
    {
      "cell_type": "code",
      "source": [
        "frequency = dataset.usuario.value_counts()\n",
        "users = dataset.usuario.unique()\n",
        "\n",
        "users_frequency = pd.DataFrame({'estornos': frequency})\n",
        "users_frequency.rename_axis('usuarios', axis = 'columns', inplace = True)\n",
        "users_frequency"
      ],
      "metadata": {
        "id": "nBwJMXaShoe1",
        "outputId": "f6b1f2e4-fb0a-455a-e36f-b49684e12ed5",
        "colab": {
          "base_uri": "https://localhost:8080/",
          "height": 300
        }
      },
      "execution_count": 35,
      "outputs": [
        {
          "output_type": "execute_result",
          "data": {
            "text/plain": [
              "usuarios      estornos\n",
              "RFELIZ             173\n",
              "CALOLIVEIRA        127\n",
              "RFREITAS           100\n",
              "ECSOUSA             65\n",
              "LPADOVINO           57\n",
              "IGPESSOA            51\n",
              "CFIOR               30\n",
              "ANLGONCALVES        21"
            ],
            "text/html": [
              "\n",
              "  <div id=\"df-e7885bd7-82f2-4813-8103-b3f9f8a4303a\">\n",
              "    <div class=\"colab-df-container\">\n",
              "      <div>\n",
              "<style scoped>\n",
              "    .dataframe tbody tr th:only-of-type {\n",
              "        vertical-align: middle;\n",
              "    }\n",
              "\n",
              "    .dataframe tbody tr th {\n",
              "        vertical-align: top;\n",
              "    }\n",
              "\n",
              "    .dataframe thead th {\n",
              "        text-align: right;\n",
              "    }\n",
              "</style>\n",
              "<table border=\"1\" class=\"dataframe\">\n",
              "  <thead>\n",
              "    <tr style=\"text-align: right;\">\n",
              "      <th>usuarios</th>\n",
              "      <th>estornos</th>\n",
              "    </tr>\n",
              "  </thead>\n",
              "  <tbody>\n",
              "    <tr>\n",
              "      <th>RFELIZ</th>\n",
              "      <td>173</td>\n",
              "    </tr>\n",
              "    <tr>\n",
              "      <th>CALOLIVEIRA</th>\n",
              "      <td>127</td>\n",
              "    </tr>\n",
              "    <tr>\n",
              "      <th>RFREITAS</th>\n",
              "      <td>100</td>\n",
              "    </tr>\n",
              "    <tr>\n",
              "      <th>ECSOUSA</th>\n",
              "      <td>65</td>\n",
              "    </tr>\n",
              "    <tr>\n",
              "      <th>LPADOVINO</th>\n",
              "      <td>57</td>\n",
              "    </tr>\n",
              "    <tr>\n",
              "      <th>IGPESSOA</th>\n",
              "      <td>51</td>\n",
              "    </tr>\n",
              "    <tr>\n",
              "      <th>CFIOR</th>\n",
              "      <td>30</td>\n",
              "    </tr>\n",
              "    <tr>\n",
              "      <th>ANLGONCALVES</th>\n",
              "      <td>21</td>\n",
              "    </tr>\n",
              "  </tbody>\n",
              "</table>\n",
              "</div>\n",
              "      <button class=\"colab-df-convert\" onclick=\"convertToInteractive('df-e7885bd7-82f2-4813-8103-b3f9f8a4303a')\"\n",
              "              title=\"Convert this dataframe to an interactive table.\"\n",
              "              style=\"display:none;\">\n",
              "        \n",
              "  <svg xmlns=\"http://www.w3.org/2000/svg\" height=\"24px\"viewBox=\"0 0 24 24\"\n",
              "       width=\"24px\">\n",
              "    <path d=\"M0 0h24v24H0V0z\" fill=\"none\"/>\n",
              "    <path d=\"M18.56 5.44l.94 2.06.94-2.06 2.06-.94-2.06-.94-.94-2.06-.94 2.06-2.06.94zm-11 1L8.5 8.5l.94-2.06 2.06-.94-2.06-.94L8.5 2.5l-.94 2.06-2.06.94zm10 10l.94 2.06.94-2.06 2.06-.94-2.06-.94-.94-2.06-.94 2.06-2.06.94z\"/><path d=\"M17.41 7.96l-1.37-1.37c-.4-.4-.92-.59-1.43-.59-.52 0-1.04.2-1.43.59L10.3 9.45l-7.72 7.72c-.78.78-.78 2.05 0 2.83L4 21.41c.39.39.9.59 1.41.59.51 0 1.02-.2 1.41-.59l7.78-7.78 2.81-2.81c.8-.78.8-2.07 0-2.86zM5.41 20L4 18.59l7.72-7.72 1.47 1.35L5.41 20z\"/>\n",
              "  </svg>\n",
              "      </button>\n",
              "      \n",
              "  <style>\n",
              "    .colab-df-container {\n",
              "      display:flex;\n",
              "      flex-wrap:wrap;\n",
              "      gap: 12px;\n",
              "    }\n",
              "\n",
              "    .colab-df-convert {\n",
              "      background-color: #E8F0FE;\n",
              "      border: none;\n",
              "      border-radius: 50%;\n",
              "      cursor: pointer;\n",
              "      display: none;\n",
              "      fill: #1967D2;\n",
              "      height: 32px;\n",
              "      padding: 0 0 0 0;\n",
              "      width: 32px;\n",
              "    }\n",
              "\n",
              "    .colab-df-convert:hover {\n",
              "      background-color: #E2EBFA;\n",
              "      box-shadow: 0px 1px 2px rgba(60, 64, 67, 0.3), 0px 1px 3px 1px rgba(60, 64, 67, 0.15);\n",
              "      fill: #174EA6;\n",
              "    }\n",
              "\n",
              "    [theme=dark] .colab-df-convert {\n",
              "      background-color: #3B4455;\n",
              "      fill: #D2E3FC;\n",
              "    }\n",
              "\n",
              "    [theme=dark] .colab-df-convert:hover {\n",
              "      background-color: #434B5C;\n",
              "      box-shadow: 0px 1px 3px 1px rgba(0, 0, 0, 0.15);\n",
              "      filter: drop-shadow(0px 1px 2px rgba(0, 0, 0, 0.3));\n",
              "      fill: #FFFFFF;\n",
              "    }\n",
              "  </style>\n",
              "\n",
              "      <script>\n",
              "        const buttonEl =\n",
              "          document.querySelector('#df-e7885bd7-82f2-4813-8103-b3f9f8a4303a button.colab-df-convert');\n",
              "        buttonEl.style.display =\n",
              "          google.colab.kernel.accessAllowed ? 'block' : 'none';\n",
              "\n",
              "        async function convertToInteractive(key) {\n",
              "          const element = document.querySelector('#df-e7885bd7-82f2-4813-8103-b3f9f8a4303a');\n",
              "          const dataTable =\n",
              "            await google.colab.kernel.invokeFunction('convertToInteractive',\n",
              "                                                     [key], {});\n",
              "          if (!dataTable) return;\n",
              "\n",
              "          const docLinkHtml = 'Like what you see? Visit the ' +\n",
              "            '<a target=\"_blank\" href=https://colab.research.google.com/notebooks/data_table.ipynb>data table notebook</a>'\n",
              "            + ' to learn more about interactive tables.';\n",
              "          element.innerHTML = '';\n",
              "          dataTable['output_type'] = 'display_data';\n",
              "          await google.colab.output.renderOutput(dataTable, element);\n",
              "          const docLink = document.createElement('div');\n",
              "          docLink.innerHTML = docLinkHtml;\n",
              "          element.appendChild(docLink);\n",
              "        }\n",
              "      </script>\n",
              "    </div>\n",
              "  </div>\n",
              "  "
            ]
          },
          "metadata": {},
          "execution_count": 35
        }
      ]
    },
    {
      "cell_type": "code",
      "source": [
        "graphic = set_barplot(x=users_frequency.index, y='estornos', data = users_frequency, \n",
        "                      xlabel = 'Usuários', ylabel ='Estornos', \n",
        "                      title = 'Quantidade de estornos realizada por cada usuário',\n",
        "                      palette = [palette[5]])\n",
        "graphic"
      ],
      "metadata": {
        "id": "ihfa6x24iX6P",
        "outputId": "c2bbd887-f599-4159-adf7-042b66f5abed",
        "colab": {
          "base_uri": "https://localhost:8080/",
          "height": 357
        }
      },
      "execution_count": 145,
      "outputs": [
        {
          "output_type": "display_data",
          "data": {
            "text/plain": [
              "<Figure size 1080x360 with 1 Axes>"
            ],
            "image/png": "[encoded data removed]"
          },
          "metadata": {}
        }
      ]
    },
    {
      "cell_type": "markdown",
      "source": [
        "### 4.2 Quantidade de estornos diários"
      ],
      "metadata": {
        "id": "2O__kP_P736M"
      }
    },
    {
      "cell_type": "code",
      "source": [
        "estornos_por_dia = pd.value_counts(dataset.data)\n",
        "dias = []\n",
        "for i in dataset.data.unique():\n",
        "  dias.append(i[2:-5])"
      ],
      "metadata": {
        "id": "Ed43M_x5Z3jk"
      },
      "execution_count": 146,
      "outputs": []
    },
    {
      "cell_type": "code",
      "source": [
        "set_lineplot(dias, estornos_por_dia, \"Dias\", 'Quantidade', 'Estornos por dia')"
      ],
      "metadata": {
        "id": "-zUQesE_8ME_",
        "outputId": "da7146b0-9f3b-427f-bb73-0e82293aab5d",
        "colab": {
          "base_uri": "https://localhost:8080/",
          "height": 357
        }
      },
      "execution_count": 147,
      "outputs": [
        {
          "output_type": "display_data",
          "data": {
            "text/plain": [
              "<Figure size 1080x360 with 1 Axes>"
            ],
            "image/png": "[encoded data removed]"
          },
          "metadata": {}
        }
      ]
    },
    {
      "cell_type": "markdown",
      "source": [
        "### 4.3 Quantidade de estornos realizada por cada usuário (classificação)"
      ],
      "metadata": {
        "id": "EaBnPWQQ-CoV"
      }
    },
    {
      "cell_type": "code",
      "source": [
        "motivos_por_usuario = pd.crosstab(dataset['usuario'], dataset['motivo'])\n",
        "motivos_por_usuario = pd.DataFrame(motivos_por_usuario.stack().reset_index())\n",
        "motivos_por_usuario.rename(columns = {0: 'total'}, inplace = True)\n",
        "motivos_por_usuario.sort_values(by=['total'], ascending = False, inplace = True)\n",
        "\n",
        "motivos_por_usuario"
      ],
      "metadata": {
        "colab": {
          "base_uri": "https://localhost:8080/",
          "height": 424
        },
        "id": "PLoLYOu34Jkg",
        "outputId": "cf2af23b-7cde-4132-e123-8ff3cea8fbec"
      },
      "execution_count": 148,
      "outputs": [
        {
          "output_type": "execute_result",
          "data": {
            "text/plain": [
              "         usuario                  motivo  total\n",
              "9    CALOLIVEIRA  AUTORIZADO PELO GERENT    109\n",
              "56        RFELIZ      ERRO DE LANÇAMENTO     99\n",
              "65      RFREITAS      ERRO DE LANÇAMENTO     58\n",
              "29       ECSOUSA      ERRO DE LANÇAMENTO     34\n",
              "47     LPADOVINO      ERRO DE LANÇAMENTO     28\n",
              "..           ...                     ...    ...\n",
              "1   ANLGONCALVES     CORTESIA DE DIÁRIAS      0\n",
              "37      IGPESSOA     CORTESIA DE DIÁRIAS      0\n",
              "40      IGPESSOA       ERRO NA IMPRESSÃO      0\n",
              "43      IGPESSOA     LCTO EM DUPLICIDADE      0\n",
              "71      RFREITAS   VALOR DIARA INCORRETO      0\n",
              "\n",
              "[72 rows x 3 columns]"
            ],
            "text/html": [
              "\n",
              "  <div id=\"df-2cbd0de3-47ca-4e4f-baf6-acb4e5e7918b\">\n",
              "    <div class=\"colab-df-container\">\n",
              "      <div>\n",
              "<style scoped>\n",
              "    .dataframe tbody tr th:only-of-type {\n",
              "        vertical-align: middle;\n",
              "    }\n",
              "\n",
              "    .dataframe tbody tr th {\n",
              "        vertical-align: top;\n",
              "    }\n",
              "\n",
              "    .dataframe thead th {\n",
              "        text-align: right;\n",
              "    }\n",
              "</style>\n",
              "<table border=\"1\" class=\"dataframe\">\n",
              "  <thead>\n",
              "    <tr style=\"text-align: right;\">\n",
              "      <th></th>\n",
              "      <th>usuario</th>\n",
              "      <th>motivo</th>\n",
              "      <th>total</th>\n",
              "    </tr>\n",
              "  </thead>\n",
              "  <tbody>\n",
              "    <tr>\n",
              "      <th>9</th>\n",
              "      <td>CALOLIVEIRA</td>\n",
              "      <td>AUTORIZADO PELO GERENT</td>\n",
              "      <td>109</td>\n",
              "    </tr>\n",
              "    <tr>\n",
              "      <th>56</th>\n",
              "      <td>RFELIZ</td>\n",
              "      <td>ERRO DE LANÇAMENTO</td>\n",
              "      <td>99</td>\n",
              "    </tr>\n",
              "    <tr>\n",
              "      <th>65</th>\n",
              "      <td>RFREITAS</td>\n",
              "      <td>ERRO DE LANÇAMENTO</td>\n",
              "      <td>58</td>\n",
              "    </tr>\n",
              "    <tr>\n",
              "      <th>29</th>\n",
              "      <td>ECSOUSA</td>\n",
              "      <td>ERRO DE LANÇAMENTO</td>\n",
              "      <td>34</td>\n",
              "    </tr>\n",
              "    <tr>\n",
              "      <th>47</th>\n",
              "      <td>LPADOVINO</td>\n",
              "      <td>ERRO DE LANÇAMENTO</td>\n",
              "      <td>28</td>\n",
              "    </tr>\n",
              "    <tr>\n",
              "      <th>...</th>\n",
              "      <td>...</td>\n",
              "      <td>...</td>\n",
              "      <td>...</td>\n",
              "    </tr>\n",
              "    <tr>\n",
              "      <th>1</th>\n",
              "      <td>ANLGONCALVES</td>\n",
              "      <td>CORTESIA DE DIÁRIAS</td>\n",
              "      <td>0</td>\n",
              "    </tr>\n",
              "    <tr>\n",
              "      <th>37</th>\n",
              "      <td>IGPESSOA</td>\n",
              "      <td>CORTESIA DE DIÁRIAS</td>\n",
              "      <td>0</td>\n",
              "    </tr>\n",
              "    <tr>\n",
              "      <th>40</th>\n",
              "      <td>IGPESSOA</td>\n",
              "      <td>ERRO NA IMPRESSÃO</td>\n",
              "      <td>0</td>\n",
              "    </tr>\n",
              "    <tr>\n",
              "      <th>43</th>\n",
              "      <td>IGPESSOA</td>\n",
              "      <td>LCTO EM DUPLICIDADE</td>\n",
              "      <td>0</td>\n",
              "    </tr>\n",
              "    <tr>\n",
              "      <th>71</th>\n",
              "      <td>RFREITAS</td>\n",
              "      <td>VALOR DIARA INCORRETO</td>\n",
              "      <td>0</td>\n",
              "    </tr>\n",
              "  </tbody>\n",
              "</table>\n",
              "<p>72 rows × 3 columns</p>\n",
              "</div>\n",
              "      <button class=\"colab-df-convert\" onclick=\"convertToInteractive('df-2cbd0de3-47ca-4e4f-baf6-acb4e5e7918b')\"\n",
              "              title=\"Convert this dataframe to an interactive table.\"\n",
              "              style=\"display:none;\">\n",
              "        \n",
              "  <svg xmlns=\"http://www.w3.org/2000/svg\" height=\"24px\"viewBox=\"0 0 24 24\"\n",
              "       width=\"24px\">\n",
              "    <path d=\"M0 0h24v24H0V0z\" fill=\"none\"/>\n",
              "    <path d=\"M18.56 5.44l.94 2.06.94-2.06 2.06-.94-2.06-.94-.94-2.06-.94 2.06-2.06.94zm-11 1L8.5 8.5l.94-2.06 2.06-.94-2.06-.94L8.5 2.5l-.94 2.06-2.06.94zm10 10l.94 2.06.94-2.06 2.06-.94-2.06-.94-.94-2.06-.94 2.06-2.06.94z\"/><path d=\"M17.41 7.96l-1.37-1.37c-.4-.4-.92-.59-1.43-.59-.52 0-1.04.2-1.43.59L10.3 9.45l-7.72 7.72c-.78.78-.78 2.05 0 2.83L4 21.41c.39.39.9.59 1.41.59.51 0 1.02-.2 1.41-.59l7.78-7.78 2.81-2.81c.8-.78.8-2.07 0-2.86zM5.41 20L4 18.59l7.72-7.72 1.47 1.35L5.41 20z\"/>\n",
              "  </svg>\n",
              "      </button>\n",
              "      \n",
              "  <style>\n",
              "    .colab-df-container {\n",
              "      display:flex;\n",
              "      flex-wrap:wrap;\n",
              "      gap: 12px;\n",
              "    }\n",
              "\n",
              "    .colab-df-convert {\n",
              "      background-color: #E8F0FE;\n",
              "      border: none;\n",
              "      border-radius: 50%;\n",
              "      cursor: pointer;\n",
              "      display: none;\n",
              "      fill: #1967D2;\n",
              "      height: 32px;\n",
              "      padding: 0 0 0 0;\n",
              "      width: 32px;\n",
              "    }\n",
              "\n",
              "    .colab-df-convert:hover {\n",
              "      background-color: #E2EBFA;\n",
              "      box-shadow: 0px 1px 2px rgba(60, 64, 67, 0.3), 0px 1px 3px 1px rgba(60, 64, 67, 0.15);\n",
              "      fill: #174EA6;\n",
              "    }\n",
              "\n",
              "    [theme=dark] .colab-df-convert {\n",
              "      background-color: #3B4455;\n",
              "      fill: #D2E3FC;\n",
              "    }\n",
              "\n",
              "    [theme=dark] .colab-df-convert:hover {\n",
              "      background-color: #434B5C;\n",
              "      box-shadow: 0px 1px 3px 1px rgba(0, 0, 0, 0.15);\n",
              "      filter: drop-shadow(0px 1px 2px rgba(0, 0, 0, 0.3));\n",
              "      fill: #FFFFFF;\n",
              "    }\n",
              "  </style>\n",
              "\n",
              "      <script>\n",
              "        const buttonEl =\n",
              "          document.querySelector('#df-2cbd0de3-47ca-4e4f-baf6-acb4e5e7918b button.colab-df-convert');\n",
              "        buttonEl.style.display =\n",
              "          google.colab.kernel.accessAllowed ? 'block' : 'none';\n",
              "\n",
              "        async function convertToInteractive(key) {\n",
              "          const element = document.querySelector('#df-2cbd0de3-47ca-4e4f-baf6-acb4e5e7918b');\n",
              "          const dataTable =\n",
              "            await google.colab.kernel.invokeFunction('convertToInteractive',\n",
              "                                                     [key], {});\n",
              "          if (!dataTable) return;\n",
              "\n",
              "          const docLinkHtml = 'Like what you see? Visit the ' +\n",
              "            '<a target=\"_blank\" href=https://colab.research.google.com/notebooks/data_table.ipynb>data table notebook</a>'\n",
              "            + ' to learn more about interactive tables.';\n",
              "          element.innerHTML = '';\n",
              "          dataTable['output_type'] = 'display_data';\n",
              "          await google.colab.output.renderOutput(dataTable, element);\n",
              "          const docLink = document.createElement('div');\n",
              "          docLink.innerHTML = docLinkHtml;\n",
              "          element.appendChild(docLink);\n",
              "        }\n",
              "      </script>\n",
              "    </div>\n",
              "  </div>\n",
              "  "
            ]
          },
          "metadata": {},
          "execution_count": 148
        }
      ]
    },
    {
      "cell_type": "code",
      "source": [
        "set_barplot('usuario', 'total', motivos_por_usuario, \n",
        "            'Usuário', 'Estornos', \n",
        "            'Frequência de estornos por usuário (com base em seus motivos)',\n",
        "            hue = 'motivo')"
      ],
      "metadata": {
        "id": "DIWB0e_McboZ",
        "outputId": "34eec357-6903-4721-f1d9-9bad8e0ce419",
        "colab": {
          "base_uri": "https://localhost:8080/",
          "height": 357
        }
      },
      "execution_count": 149,
      "outputs": [
        {
          "output_type": "display_data",
          "data": {
            "text/plain": [
              "<Figure size 1080x360 with 1 Axes>"
            ],
            "image/png": "[encoded data removed]"
          },
          "metadata": {}
        }
      ]
    },
    {
      "cell_type": "markdown",
      "source": [
        "### 4.4 Valor total de estornos por dia"
      ],
      "metadata": {
        "id": "dKp4IOeo-N53"
      }
    },
    {
      "cell_type": "code",
      "source": [
        "valor_por_dia = dataset.groupby(['data'])['valor'].sum()"
      ],
      "metadata": {
        "id": "y6AW7f4ZCkI9"
      },
      "execution_count": 150,
      "outputs": []
    },
    {
      "cell_type": "code",
      "source": [
        "for i in range(0, len(valor_por_dia)):\n",
        "  if valor_por_dia[i] <= 0:\n",
        "    valor_por_dia[i] *= -1"
      ],
      "metadata": {
        "id": "mscAxy9LCbX9"
      },
      "execution_count": 151,
      "outputs": []
    },
    {
      "cell_type": "code",
      "source": [
        "set_lineplot(dias, valor_por_dia, \"Dias\", 'Valor (R$)', 'Valor, em reais, de estornos por dia')"
      ],
      "metadata": {
        "id": "kxrtuzCnAaXF",
        "outputId": "b3961fde-bc1f-4651-c60b-4b3d6ef62b79",
        "colab": {
          "base_uri": "https://localhost:8080/",
          "height": 357
        }
      },
      "execution_count": 152,
      "outputs": [
        {
          "output_type": "display_data",
          "data": {
            "text/plain": [
              "<Figure size 1080x360 with 1 Axes>"
            ],
            "image/png": "[encoded data removed]"
          },
          "metadata": {}
        }
      ]
    }
  ]
}